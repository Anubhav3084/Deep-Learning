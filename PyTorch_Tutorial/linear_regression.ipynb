{
  "cells": [
    {
      "cell_type": "markdown",
      "metadata": {
        "id": "view-in-github",
        "colab_type": "text"
      },
      "source": [
        "<a href=\"https://colab.research.google.com/github/Anubhav3084/Deep-Learning/blob/main/PyTorch_Tutorial/linear_regression.ipynb\" target=\"_parent\"><img src=\"https://colab.research.google.com/assets/colab-badge.svg\" alt=\"Open In Colab\"/></a>"
      ]
    },
    {
      "cell_type": "markdown",
      "metadata": {
        "id": "wDJmnupoowam"
      },
      "source": [
        "# **Linear Regression**\n"
      ]
    },
    {
      "cell_type": "markdown",
      "source": [
        "*   yeild_apple = w11 x temp + w12 x rainfall + w13 x humidity + b1\n",
        "*   yeild_orange = w21 x temp + w22 x rainfall + w23 x humidity + b1"
      ],
      "metadata": {
        "id": "ZB8IhfEwqNmY"
      }
    },
    {
      "cell_type": "code",
      "source": [
        "import numpy as np\n",
        "import torch"
      ],
      "metadata": {
        "id": "pqYBXZkkpBMI"
      },
      "execution_count": null,
      "outputs": []
    },
    {
      "cell_type": "code",
      "source": [
        "# inputs (temp, rainfall, humidity)\n",
        "inputs = np.array([[73, 67, 43],\n",
        "                   [91, 88, 64],\n",
        "                   [87, 134, 58],\n",
        "                   [102, 43, 37],\n",
        "                   [69, 96, 70]], dtype='float32')\n",
        "inputs"
      ],
      "metadata": {
        "colab": {
          "base_uri": "https://localhost:8080/"
        },
        "id": "UoPxCorsqKzS",
        "outputId": "4eaaae04-68ad-47e4-a7e9-e11c239dbf60"
      },
      "execution_count": null,
      "outputs": [
        {
          "output_type": "execute_result",
          "data": {
            "text/plain": [
              "array([[ 73.,  67.,  43.],\n",
              "       [ 91.,  88.,  64.],\n",
              "       [ 87., 134.,  58.],\n",
              "       [102.,  43.,  37.],\n",
              "       [ 69.,  96.,  70.]], dtype=float32)"
            ]
          },
          "metadata": {},
          "execution_count": 2
        }
      ]
    },
    {
      "cell_type": "code",
      "source": [
        "# targets (apples, oranges)\n",
        "targets = np.array([[56, 70],\n",
        "                    [81, 101],\n",
        "                    [119, 133],\n",
        "                    [22, 37],\n",
        "                    [103, 119]], dtype='float32')\n",
        "targets"
      ],
      "metadata": {
        "colab": {
          "base_uri": "https://localhost:8080/"
        },
        "id": "DsPFyWnytl90",
        "outputId": "5a039778-3d97-4295-bdbf-7a31c31f9cd2"
      },
      "execution_count": null,
      "outputs": [
        {
          "output_type": "execute_result",
          "data": {
            "text/plain": [
              "array([[ 56.,  70.],\n",
              "       [ 81., 101.],\n",
              "       [119., 133.],\n",
              "       [ 22.,  37.],\n",
              "       [103., 119.]], dtype=float32)"
            ]
          },
          "metadata": {},
          "execution_count": 3
        }
      ]
    },
    {
      "cell_type": "code",
      "source": [
        "# convert to tensors \n",
        "inputs = torch.Tensor(inputs)\n",
        "targets = torch.Tensor(targets)\n",
        "print(inputs)\n",
        "print(targets)"
      ],
      "metadata": {
        "colab": {
          "base_uri": "https://localhost:8080/"
        },
        "id": "3VrH1Xr1uD4k",
        "outputId": "4be15364-328c-4ada-de32-2a770ff3ce7b"
      },
      "execution_count": null,
      "outputs": [
        {
          "output_type": "stream",
          "name": "stdout",
          "text": [
            "tensor([[ 73.,  67.,  43.],\n",
            "        [ 91.,  88.,  64.],\n",
            "        [ 87., 134.,  58.],\n",
            "        [102.,  43.,  37.],\n",
            "        [ 69.,  96.,  70.]])\n",
            "tensor([[ 56.,  70.],\n",
            "        [ 81., 101.],\n",
            "        [119., 133.],\n",
            "        [ 22.,  37.],\n",
            "        [103., 119.]])\n"
          ]
        }
      ]
    },
    {
      "cell_type": "code",
      "source": [
        "# weights and biases\n",
        "w = torch.randn(2, 3, requires_grad=True)\n",
        "b = torch.randn(2, requires_grad=True)\n",
        "print(w)\n",
        "print(b)"
      ],
      "metadata": {
        "colab": {
          "base_uri": "https://localhost:8080/"
        },
        "id": "oJOaHg_AuWLZ",
        "outputId": "e5475f12-0208-4be5-f32b-6f7f89ae9103"
      },
      "execution_count": null,
      "outputs": [
        {
          "output_type": "stream",
          "name": "stdout",
          "text": [
            "tensor([[-0.6334, -2.4306, -0.6939],\n",
            "        [-0.7253, -0.3460, -0.0641]], requires_grad=True)\n",
            "tensor([-0.2577, -0.8253], requires_grad=True)\n"
          ]
        }
      ]
    },
    {
      "cell_type": "markdown",
      "source": [
        "We create our model for predicting\n",
        "`@` represents matrix multiplication in PyTorch\n",
        "`.t()` returns the transpose of the matrix"
      ],
      "metadata": {
        "id": "_IBgv3zKw-XI"
      }
    },
    {
      "cell_type": "code",
      "source": [
        "def model(x):\n",
        "  return x @ w.t() + b"
      ],
      "metadata": {
        "id": "Hs-mV7uJwhZz"
      },
      "execution_count": null,
      "outputs": []
    },
    {
      "cell_type": "code",
      "source": [
        "preds = model(inputs)\n",
        "print(preds)"
      ],
      "metadata": {
        "colab": {
          "base_uri": "https://localhost:8080/"
        },
        "id": "DqbidEWux2gn",
        "outputId": "b3bc845f-1cc4-431c-92df-a029cb8c0a9d"
      },
      "execution_count": null,
      "outputs": [
        {
          "output_type": "stream",
          "name": "stdout",
          "text": [
            "tensor([[-239.1823,  -79.7169],\n",
            "        [-316.1978, -101.3862],\n",
            "        [-421.3069, -114.0183],\n",
            "        [-195.0533,  -92.0624],\n",
            "        [-325.8714,  -88.5814]], grad_fn=<AddBackward0>)\n"
          ]
        }
      ]
    },
    {
      "cell_type": "code",
      "source": [
        "print(targets)"
      ],
      "metadata": {
        "colab": {
          "base_uri": "https://localhost:8080/"
        },
        "id": "0Wdt7HOvx8N5",
        "outputId": "adc2358f-a606-43c6-8a40-6c34a4b6cfdb"
      },
      "execution_count": null,
      "outputs": [
        {
          "output_type": "stream",
          "name": "stdout",
          "text": [
            "tensor([[ 56.,  70.],\n",
            "        [ 81., 101.],\n",
            "        [119., 133.],\n",
            "        [ 22.,  37.],\n",
            "        [103., 119.]])\n"
          ]
        }
      ]
    },
    {
      "cell_type": "markdown",
      "source": [
        "## **Loss Function**"
      ],
      "metadata": {
        "id": "2fb2FEayzqvA"
      }
    },
    {
      "cell_type": "code",
      "source": [
        "def mse(t1, t2):\n",
        "  diff = t1-t2\n",
        "  return torch.sum(diff*diff)/diff.numel()"
      ],
      "metadata": {
        "id": "JMRjSuVAyfFQ"
      },
      "execution_count": null,
      "outputs": []
    },
    {
      "cell_type": "code",
      "source": [
        "loss = mse(preds, targets)\n",
        "loss"
      ],
      "metadata": {
        "colab": {
          "base_uri": "https://localhost:8080/"
        },
        "id": "qEMotkZsy99C",
        "outputId": "7504204f-a846-406f-da4a-69f79a45722c"
      },
      "execution_count": null,
      "outputs": [
        {
          "output_type": "execute_result",
          "data": {
            "text/plain": [
              "tensor(95201.3594, grad_fn=<DivBackward0>)"
            ]
          },
          "metadata": {},
          "execution_count": 10
        }
      ]
    },
    {
      "cell_type": "markdown",
      "source": [
        "## **Computing gradient**"
      ],
      "metadata": {
        "id": "5opWWk9y0Rr-"
      }
    },
    {
      "cell_type": "code",
      "source": [
        "loss.backward()"
      ],
      "metadata": {
        "id": "ZbO71UQX0hnO"
      },
      "execution_count": null,
      "outputs": []
    },
    {
      "cell_type": "code",
      "source": [
        "print(w)\n",
        "print(w.grad)"
      ],
      "metadata": {
        "colab": {
          "base_uri": "https://localhost:8080/"
        },
        "id": "OUQMEr9C07n0",
        "outputId": "ccc8bce6-fa0e-472d-907c-095a38fc8722"
      },
      "execution_count": null,
      "outputs": [
        {
          "output_type": "stream",
          "name": "stdout",
          "text": [
            "tensor([[-0.6334, -2.4306, -0.6939],\n",
            "        [-0.7253, -0.3460, -0.0641]], requires_grad=True)\n",
            "tensor([[-31286.3164, -35527.3438, -21500.6543],\n",
            "        [-15664.9121, -17283.7949, -10604.7236]])\n"
          ]
        }
      ]
    },
    {
      "cell_type": "code",
      "source": [
        "print(b)\n",
        "print(b.grad)"
      ],
      "metadata": {
        "colab": {
          "base_uri": "https://localhost:8080/"
        },
        "id": "lbWad_x71eaT",
        "outputId": "f331e87a-cadd-4040-cec1-a5ca9301adbc"
      },
      "execution_count": null,
      "outputs": [
        {
          "output_type": "stream",
          "name": "stdout",
          "text": [
            "tensor([-0.2577, -0.8253], requires_grad=True)\n",
            "tensor([-375.7224, -187.1531])\n"
          ]
        }
      ]
    },
    {
      "cell_type": "markdown",
      "source": [
        "We dont' need to keep track of gradient here. So we are using `.no_grad()` function"
      ],
      "metadata": {
        "id": "OA72P7s13LW0"
      }
    },
    {
      "cell_type": "code",
      "source": [
        "with torch.no_grad():\n",
        "  w -= w.grad * 1e-5\n",
        "  b -= b.grad * 1e-5"
      ],
      "metadata": {
        "id": "4dngFHpo29bH"
      },
      "execution_count": null,
      "outputs": []
    },
    {
      "cell_type": "code",
      "source": [
        "# verify that the loss decreased\n",
        "preds = model(inputs)\n",
        "loss = mse(preds, targets)\n",
        "loss"
      ],
      "metadata": {
        "colab": {
          "base_uri": "https://localhost:8080/"
        },
        "id": "yOVJy_WF3gMf",
        "outputId": "d90bb732-8330-417d-9fc9-d4177d5626b3"
      },
      "execution_count": null,
      "outputs": [
        {
          "output_type": "execute_result",
          "data": {
            "text/plain": [
              "tensor(64608.0430, grad_fn=<DivBackward0>)"
            ]
          },
          "metadata": {},
          "execution_count": 15
        }
      ]
    },
    {
      "cell_type": "markdown",
      "source": [
        "We need to reset the gradient to zero by invoking `.zero_()` method.\n",
        "Otherwise the next time we invoke `.backward()`to loss then it will add the values to existing gradient"
      ],
      "metadata": {
        "id": "OTWTzByF3xt_"
      }
    },
    {
      "cell_type": "code",
      "source": [
        "w.grad.zero_()\n",
        "b.grad.zero_()\n",
        "print(w.grad)\n",
        "print(b.grad)"
      ],
      "metadata": {
        "colab": {
          "base_uri": "https://localhost:8080/"
        },
        "id": "_DLwM4a74N9S",
        "outputId": "4c93ce81-6446-4cb3-8254-f0a57db31114"
      },
      "execution_count": null,
      "outputs": [
        {
          "output_type": "stream",
          "name": "stdout",
          "text": [
            "tensor([[0., 0., 0.],\n",
            "        [0., 0., 0.]])\n",
            "tensor([0., 0.])\n"
          ]
        }
      ]
    },
    {
      "cell_type": "markdown",
      "source": [
        "## **Train for Multiple Epochs**"
      ],
      "metadata": {
        "id": "pmoWMPQ_4m-I"
      }
    },
    {
      "cell_type": "code",
      "source": [
        "for i in range(500):\n",
        "  preds = model(inputs)\n",
        "  loss = mse(preds, targets)\n",
        "  loss.backward()\n",
        "  with torch.no_grad():\n",
        "    w -= w.grad * 1e-5\n",
        "    b -= b.grad * 1e-5\n",
        "    w.grad.zero_()\n",
        "    b.grad.zero_()"
      ],
      "metadata": {
        "id": "6C_Iyq4f4sOK"
      },
      "execution_count": null,
      "outputs": []
    },
    {
      "cell_type": "markdown",
      "source": [
        "Once again let's verify that now the loss is very lower"
      ],
      "metadata": {
        "id": "PFaVjUUy5Gyk"
      }
    },
    {
      "cell_type": "code",
      "source": [
        "preds = model(inputs)\n",
        "loss = mse(preds, targets)\n",
        "print(loss)\n",
        "preds"
      ],
      "metadata": {
        "colab": {
          "base_uri": "https://localhost:8080/"
        },
        "id": "nGdYycUv5GdA",
        "outputId": "a6362b19-8f18-4a90-a0b7-26deb003d85a"
      },
      "execution_count": null,
      "outputs": [
        {
          "output_type": "stream",
          "name": "stdout",
          "text": [
            "tensor(5.7484, grad_fn=<DivBackward0>)\n"
          ]
        },
        {
          "output_type": "execute_result",
          "data": {
            "text/plain": [
              "tensor([[ 57.8161,  70.5323],\n",
              "        [ 82.6219,  99.2217],\n",
              "        [116.7020, 135.8913],\n",
              "        [ 25.1034,  38.9462],\n",
              "        [100.2465, 115.3301]], grad_fn=<AddBackward0>)"
            ]
          },
          "metadata": {},
          "execution_count": 18
        }
      ]
    },
    {
      "cell_type": "markdown",
      "source": [
        "# **Linear regression using PyTorch built-ins**"
      ],
      "metadata": {
        "id": "0vWEJ3SWv7Of"
      }
    },
    {
      "cell_type": "code",
      "source": [
        "import torch.nn as nn"
      ],
      "metadata": {
        "id": "n4bsZ0aPwEsq"
      },
      "execution_count": null,
      "outputs": []
    },
    {
      "cell_type": "code",
      "source": [
        "inputs = np.array([[73, 67, 43], \n",
        "                   [91, 88, 64], \n",
        "                   [87, 134, 58], \n",
        "                   [102, 43, 37], \n",
        "                   [69, 96, 70], \n",
        "                   [74, 66, 43], \n",
        "                   [91, 87, 65], \n",
        "                   [88, 134, 59], \n",
        "                   [101, 44, 37], \n",
        "                   [68, 96, 71], \n",
        "                   [73, 66, 44], \n",
        "                   [92, 87, 64], \n",
        "                   [87, 135, 57], \n",
        "                   [103, 43, 36], \n",
        "                   [68, 97, 70]], \n",
        "                  dtype='float32')\n",
        "\n",
        "# Targets (apples, oranges)\n",
        "targets = np.array([[56, 70], \n",
        "                    [81, 101], \n",
        "                    [119, 133], \n",
        "                    [22, 37], \n",
        "                    [103, 119],\n",
        "                    [57, 69], \n",
        "                    [80, 102], \n",
        "                    [118, 132], \n",
        "                    [21, 38], \n",
        "                    [104, 118], \n",
        "                    [57, 69], \n",
        "                    [82, 100], \n",
        "                    [118, 134], \n",
        "                    [20, 38], \n",
        "                    [102, 120]], \n",
        "                   dtype='float32')\n",
        "\n",
        "inputs = torch.from_numpy(inputs)\n",
        "targets = torch.from_numpy(targets)"
      ],
      "metadata": {
        "id": "vm4xg3U3wL4N"
      },
      "execution_count": null,
      "outputs": []
    },
    {
      "cell_type": "markdown",
      "source": [
        "## **Dataset and DataLoader**\n",
        "We'll create a `TensorDataSet`, which allows access to rows from `inputs` and `targets` as tuples, and provide standard APIs for working with many different types of datasets in PyTorch."
      ],
      "metadata": {
        "id": "JYnDOuSGrvx6"
      }
    },
    {
      "cell_type": "code",
      "source": [
        "from torch.utils.data import TensorDataset"
      ],
      "metadata": {
        "id": "6_l3PVG_sS9p"
      },
      "execution_count": null,
      "outputs": []
    },
    {
      "cell_type": "code",
      "source": [
        "train_ds = TensorDataset(inputs, targets)\n",
        "train_ds[0:3]"
      ],
      "metadata": {
        "colab": {
          "base_uri": "https://localhost:8080/"
        },
        "id": "DDS0wx10sYz8",
        "outputId": "88edeaae-e3d1-4317-8508-9ce4d25b2142"
      },
      "execution_count": null,
      "outputs": [
        {
          "output_type": "execute_result",
          "data": {
            "text/plain": [
              "(tensor([[ 73.,  67.,  43.],\n",
              "         [ 91.,  88.,  64.],\n",
              "         [ 87., 134.,  58.]]), tensor([[ 56.,  70.],\n",
              "         [ 81., 101.],\n",
              "         [119., 133.]]))"
            ]
          },
          "metadata": {},
          "execution_count": 22
        }
      ]
    },
    {
      "cell_type": "markdown",
      "source": [
        "* The `TensorDataSet` allows us to access a small section of the training data using array indexing notation (`[0:3]`).\n",
        "* In the above code it, returns a tuple with two elements. The first element is input and 2nd for targets for selected rows.\n",
        "* We'll also create `DataLoader`, which can split the data into batches of a predefined size while training. \n",
        "* It also provides other utilities like shuffling and random sampling of the data."
      ],
      "metadata": {
        "id": "l87j_9DLtSER"
      }
    },
    {
      "cell_type": "code",
      "source": [
        "from torch.utils.data import DataLoader"
      ],
      "metadata": {
        "id": "aq4vpF4gtwmD"
      },
      "execution_count": null,
      "outputs": []
    },
    {
      "cell_type": "code",
      "source": [
        "batch_size = 5\n",
        "train_dl = DataLoader(train_ds, batch_size, shuffle=True)"
      ],
      "metadata": {
        "id": "W9a_2RxBuduM"
      },
      "execution_count": null,
      "outputs": []
    },
    {
      "cell_type": "code",
      "source": [
        "for xb, yb in train_dl:\n",
        "  print(xb)\n",
        "  print(yb)\n",
        "  break"
      ],
      "metadata": {
        "colab": {
          "base_uri": "https://localhost:8080/"
        },
        "id": "0vVahvWIwkx8",
        "outputId": "591bbf68-2857-4106-8c9b-23e56cd7366a"
      },
      "execution_count": null,
      "outputs": [
        {
          "output_type": "stream",
          "name": "stdout",
          "text": [
            "tensor([[ 88., 134.,  59.],\n",
            "        [ 92.,  87.,  64.],\n",
            "        [103.,  43.,  36.],\n",
            "        [ 68.,  96.,  71.],\n",
            "        [ 87., 134.,  58.]])\n",
            "tensor([[118., 132.],\n",
            "        [ 82., 100.],\n",
            "        [ 20.,  38.],\n",
            "        [104., 118.],\n",
            "        [119., 133.]])\n"
          ]
        }
      ]
    },
    {
      "cell_type": "markdown",
      "source": [
        "* In each Iteration, the data loader returns one batch of data with the given batch size.\n",
        "* `shuffle=True` shuffles the training data before creating batches.\n",
        "* It helps randomize the input to the optimization algorithm, leading to a faster rduction in the loss."
      ],
      "metadata": {
        "id": "QNV_w0soutvQ"
      }
    },
    {
      "cell_type": "markdown",
      "source": [
        "## **nn.Linear**\n",
        "Instead of initializing the weights and biases manually, we can define the model using the `nn.Linear` class from PyTorch, which does it automatically."
      ],
      "metadata": {
        "id": "5xaEwaytw8fT"
      }
    },
    {
      "cell_type": "code",
      "source": [
        "# define model\n",
        "model = nn.Linear(3,2)\n",
        "print(model.weight)\n",
        "print(model.bias)"
      ],
      "metadata": {
        "colab": {
          "base_uri": "https://localhost:8080/"
        },
        "id": "IJ8RpH3wwzSz",
        "outputId": "96261ac0-08f7-449c-c0e1-cbedfca7c82b"
      },
      "execution_count": null,
      "outputs": [
        {
          "output_type": "stream",
          "name": "stdout",
          "text": [
            "Parameter containing:\n",
            "tensor([[-0.4555,  0.3598,  0.1509],\n",
            "        [ 0.4053, -0.2122,  0.3945]], requires_grad=True)\n",
            "Parameter containing:\n",
            "tensor([-0.5450, -0.1811], requires_grad=True)\n"
          ]
        }
      ]
    },
    {
      "cell_type": "markdown",
      "source": [
        "Pytorch models also have a helpful `.parameters` method, which returns a list containing all the weights and bias matrices present in the model. For our linear regression model, we have one weight matrix and one bias matrix."
      ],
      "metadata": {
        "id": "wktSELDrxnWV"
      }
    },
    {
      "cell_type": "code",
      "source": [
        "# parameters\n",
        "list(model.parameters())"
      ],
      "metadata": {
        "colab": {
          "base_uri": "https://localhost:8080/"
        },
        "id": "3VKGvsRtxHu9",
        "outputId": "39e51a7e-98d5-49db-cf09-bbbf3bcb1375"
      },
      "execution_count": null,
      "outputs": [
        {
          "output_type": "execute_result",
          "data": {
            "text/plain": [
              "[Parameter containing:\n",
              " tensor([[-0.4555,  0.3598,  0.1509],\n",
              "         [ 0.4053, -0.2122,  0.3945]], requires_grad=True),\n",
              " Parameter containing:\n",
              " tensor([-0.5450, -0.1811], requires_grad=True)]"
            ]
          },
          "metadata": {},
          "execution_count": 27
        }
      ]
    },
    {
      "cell_type": "code",
      "source": [
        "preds = model(inputs)\n",
        "preds"
      ],
      "metadata": {
        "colab": {
          "base_uri": "https://localhost:8080/"
        },
        "id": "KvEe5IMWyOm0",
        "outputId": "acff4e5f-d0d2-48b4-e7b4-bb0ec46274e9"
      },
      "execution_count": null,
      "outputs": [
        {
          "output_type": "execute_result",
          "data": {
            "text/plain": [
              "tensor([[ -3.2035,  32.1481],\n",
              "        [ -0.6786,  43.2712],\n",
              "        [ 16.7890,  29.5201],\n",
              "        [-25.9540,  46.6268],\n",
              "        [ 13.1265,  35.0250],\n",
              "        [ -4.0188,  32.7656],\n",
              "        [ -0.8875,  43.8779],\n",
              "        [ 16.4843,  30.3199],\n",
              "        [-25.1387,  46.0093],\n",
              "        [ 13.7329,  35.0143],\n",
              "        [ -3.4124,  32.7549],\n",
              "        [ -1.4939,  43.8886],\n",
              "        [ 16.9979,  28.9133],\n",
              "        [-26.5604,  46.6375],\n",
              "        [ 13.9419,  34.4075]], grad_fn=<AddmmBackward0>)"
            ]
          },
          "metadata": {},
          "execution_count": 28
        }
      ]
    },
    {
      "cell_type": "markdown",
      "source": [
        "## **Loss Function**\n",
        "Instead of defining a loss function manually, we can use the built-in loss function `mse_loss`."
      ],
      "metadata": {
        "id": "OPKWkOYUyj-X"
      }
    },
    {
      "cell_type": "code",
      "source": [
        "import torch.nn.functional as F"
      ],
      "metadata": {
        "id": "fowTFR1MyT3C"
      },
      "execution_count": null,
      "outputs": []
    },
    {
      "cell_type": "code",
      "source": [
        "loss_fn = F.mse_loss"
      ],
      "metadata": {
        "id": "_hF-Irb5y3I0"
      },
      "execution_count": null,
      "outputs": []
    },
    {
      "cell_type": "code",
      "source": [
        "loss = loss_fn(model(inputs), targets)\n",
        "print(loss)"
      ],
      "metadata": {
        "colab": {
          "base_uri": "https://localhost:8080/"
        },
        "id": "31IVomn6y6Os",
        "outputId": "f28c0726-3d7d-4776-9354-acb3e5135a4f"
      },
      "execution_count": null,
      "outputs": [
        {
          "output_type": "stream",
          "name": "stdout",
          "text": [
            "tensor(5336.6011, grad_fn=<MseLossBackward0>)\n"
          ]
        }
      ]
    },
    {
      "cell_type": "markdown",
      "source": [
        "## **Optimizer**\n",
        "* Instead of manually manipulating the model's weights and biases using gradients, we can use the optimizer `optim.SGD`\n",
        "* SGD is shirt for \"*stochastic gradient descent*\" \n",
        "* The term *stochastic* indicates that the samples are selected in random batches instead of as a single group"
      ],
      "metadata": {
        "id": "adYYjwbbzMDj"
      }
    },
    {
      "cell_type": "code",
      "source": [
        "# define optimizer\n",
        "opt = torch.optim.SGD(model.parameters(), lr=1e-5)"
      ],
      "metadata": {
        "id": "DwqgQPn6zDfV"
      },
      "execution_count": null,
      "outputs": []
    },
    {
      "cell_type": "markdown",
      "source": [
        "Note that `model.parameters()` is passed as an argement to `optim.SGD` so that the optimizer knows which matrics should be modiied during the update step. Also, we can specify a learning rate that controls the amount by which the parameters are modified."
      ],
      "metadata": {
        "id": "6m4ESgZ30KSA"
      }
    },
    {
      "cell_type": "markdown",
      "source": [
        "## **Train the model**\n",
        "We are now ready to train the model. We'll follow the same process to implement gradient descent:\n",
        "1. Generate predictions\n",
        "2. Calculate the loss\n",
        "3. Compute gradients w.r.t the weights and biases\n",
        "4. Adjust the weights by substracting a samll quantity proportional to the gradient\n",
        "5. Reset the gradients to zero.\n",
        "\n",
        "The only change is the we'll work on batches of data instead of processing the entire training data in every iteration. Let's define a utility function `fit` that trains the model for a given number of epochs."
      ],
      "metadata": {
        "id": "_kK-FVDZ0om8"
      }
    },
    {
      "cell_type": "code",
      "source": [
        "# utility function to train the model\n",
        "def fit(num_epochs, model, loss_fn, opt, train_dl):\n",
        "  \n",
        "  # repeat for given number of epochs\n",
        "  for epoch in range(num_epochs):\n",
        "\n",
        "    # trains with batches of data\n",
        "    for xb, yb in train_dl:\n",
        "\n",
        "      # 1. Generate predictions\n",
        "      pred = model(xb)\n",
        "\n",
        "      # 2. Calculate the loss\n",
        "      loss = loss_fn(pred, yb)\n",
        "      \n",
        "      # 3. Compute gradients w.r.t the weights and biases\n",
        "      loss.backward()\n",
        "      \n",
        "      # 4. Update parameters using gradients\n",
        "      opt.step()\n",
        "\n",
        "      # 5. Reset the gradients to zero.\n",
        "      opt.zero_grad()\n",
        "\n",
        "    # print the progress\n",
        "    if(epoch+1) % 10 == 0:\n",
        "      print('Epoch [{}/{}], Loss: {:.4f}'.format(epoch+1, num_epochs, loss.item()))"
      ],
      "metadata": {
        "id": "UInKcu8E0Gqs"
      },
      "execution_count": null,
      "outputs": []
    },
    {
      "cell_type": "markdown",
      "source": [
        "Some things to note above:\n",
        "* We use the data loader earlier to get batches of data for every iteration.\n",
        "* Instead of updating parameters (weights and biases) manually, we use `opt.step` to perform the update and `opt.zero_grad` to reset the gradients to zero.\n",
        "* `loss.item` returns the actual value stored in the loss tensor."
      ],
      "metadata": {
        "id": "vcm_VvXE4KJL"
      }
    },
    {
      "cell_type": "code",
      "source": [
        "fit(100, model, loss_fn, opt, train_dl)"
      ],
      "metadata": {
        "colab": {
          "base_uri": "https://localhost:8080/"
        },
        "id": "vU_nOneu3NUt",
        "outputId": "9b1ff38a-d332-4e33-a466-2ef240a9ba1b"
      },
      "execution_count": null,
      "outputs": [
        {
          "output_type": "stream",
          "name": "stdout",
          "text": [
            "Epoch [10/100], Loss: 362.7525\n",
            "Epoch [20/100], Loss: 225.6245\n",
            "Epoch [30/100], Loss: 255.9174\n",
            "Epoch [40/100], Loss: 192.4297\n",
            "Epoch [50/100], Loss: 83.0999\n",
            "Epoch [60/100], Loss: 53.7823\n",
            "Epoch [70/100], Loss: 21.5872\n",
            "Epoch [80/100], Loss: 14.6056\n",
            "Epoch [90/100], Loss: 4.1818\n",
            "Epoch [100/100], Loss: 11.5203\n"
          ]
        }
      ]
    },
    {
      "cell_type": "code",
      "source": [
        "preds = model(inputs)\n",
        "preds"
      ],
      "metadata": {
        "colab": {
          "base_uri": "https://localhost:8080/"
        },
        "id": "6LyC1GGi7AVx",
        "outputId": "126a0dca-08f9-4742-a67e-2122e8c0fe87"
      },
      "execution_count": null,
      "outputs": [
        {
          "output_type": "execute_result",
          "data": {
            "text/plain": [
              "tensor([[ 57.3666,  71.7949],\n",
              "        [ 80.7312, 100.3341],\n",
              "        [120.2504, 130.5171],\n",
              "        [ 23.7869,  46.3426],\n",
              "        [ 97.7741, 113.1330],\n",
              "        [ 56.1554,  70.9384],\n",
              "        [ 80.3240, 100.3134],\n",
              "        [120.4226, 131.1196],\n",
              "        [ 24.9982,  47.1991],\n",
              "        [ 98.5782, 113.9687],\n",
              "        [ 56.9595,  71.7742],\n",
              "        [ 79.5199,  99.4776],\n",
              "        [120.6576, 130.5378],\n",
              "        [ 22.9828,  45.5069],\n",
              "        [ 98.9854, 113.9894]], grad_fn=<AddmmBackward0>)"
            ]
          },
          "metadata": {},
          "execution_count": 35
        }
      ]
    },
    {
      "cell_type": "code",
      "source": [
        "targets"
      ],
      "metadata": {
        "colab": {
          "base_uri": "https://localhost:8080/"
        },
        "id": "tuNCrJpn7Dbo",
        "outputId": "ea66f472-a856-43ff-f185-dc8637186116"
      },
      "execution_count": null,
      "outputs": [
        {
          "output_type": "execute_result",
          "data": {
            "text/plain": [
              "tensor([[ 56.,  70.],\n",
              "        [ 81., 101.],\n",
              "        [119., 133.],\n",
              "        [ 22.,  37.],\n",
              "        [103., 119.],\n",
              "        [ 57.,  69.],\n",
              "        [ 80., 102.],\n",
              "        [118., 132.],\n",
              "        [ 21.,  38.],\n",
              "        [104., 118.],\n",
              "        [ 57.,  69.],\n",
              "        [ 82., 100.],\n",
              "        [118., 134.],\n",
              "        [ 20.,  38.],\n",
              "        [102., 120.]])"
            ]
          },
          "metadata": {},
          "execution_count": 36
        }
      ]
    }
  ],
  "metadata": {
    "kernelspec": {
      "display_name": "Python 3",
      "language": "python",
      "name": "python3"
    },
    "language_info": {
      "codemirror_mode": {
        "name": "ipython",
        "version": 3
      },
      "file_extension": ".py",
      "mimetype": "text/x-python",
      "name": "python",
      "nbconvert_exporter": "python",
      "pygments_lexer": "ipython3",
      "version": "3.7.6"
    },
    "colab": {
      "provenance": [],
      "collapsed_sections": [
        "wDJmnupoowam",
        "2fb2FEayzqvA",
        "5opWWk9y0Rr-",
        "pmoWMPQ_4m-I",
        "JYnDOuSGrvx6",
        "5xaEwaytw8fT",
        "OPKWkOYUyj-X",
        "adYYjwbbzMDj",
        "_kK-FVDZ0om8"
      ],
      "include_colab_link": true
    },
    "accelerator": "GPU"
  },
  "nbformat": 4,
  "nbformat_minor": 0
}