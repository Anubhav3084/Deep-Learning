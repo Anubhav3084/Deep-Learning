{
  "cells": [
    {
      "cell_type": "markdown",
      "metadata": {
        "id": "view-in-github",
        "colab_type": "text"
      },
      "source": [
        "<a href=\"https://colab.research.google.com/github/Anubhav3084/Deep-Learning/blob/main/PyTorch_Tutorial/logistic_regression.ipynb\" target=\"_parent\"><img src=\"https://colab.research.google.com/assets/colab-badge.svg\" alt=\"Open In Colab\"/></a>"
      ]
    },
    {
      "cell_type": "markdown",
      "metadata": {
        "id": "O8Rzj_2kWUfV"
      },
      "source": [
        "# **Working with Images & Logistic Regression using PyTorch**"
      ]
    },
    {
      "cell_type": "markdown",
      "metadata": {
        "id": "XD101TkfWfKh"
      },
      "source": [
        "## **Working with Images**\n"
      ]
    },
    {
      "cell_type": "code",
      "execution_count": null,
      "metadata": {
        "id": "HlbBsxOdVaoH"
      },
      "outputs": [],
      "source": [
        "import torch\n",
        "import torchvision\n",
        "from torchvision.datasets import MNIST"
      ]
    },
    {
      "cell_type": "code",
      "execution_count": null,
      "metadata": {
        "colab": {
          "base_uri": "https://localhost:8080/",
          "height": 423,
          "referenced_widgets": [
            "274e2ee38c5241d18580fa93cb1b625d",
            "f8aa102203874a138a93cd907ca1ca58",
            "aff8b3e224504cc1bb715650295c567e",
            "0a8e3e84b58d42bea2988c7788261992",
            "7b8e7e16d9224325b4c91a45330251cb",
            "172c779b8f48457e9b441e0129a23e8b",
            "403b1df6237c4f219d41f85228b46fdc",
            "8abd055e794944738fa029803a0fefa3",
            "a9fdbd805bfd4027822d9a94de696c2e",
            "2273d4821e0f4b7b852100c2309b9881",
            "3d883e715bf44dd193a7f21beccdea5f",
            "126951fc220a4ded8dcdec00c247d4b1",
            "455108df40fd4dc19db148a73e9774de",
            "201671b5238e4c229948d7d5c626f5cd",
            "83d3220683ab46d08de422ad66def727",
            "22690c50a1c842c4bf885e12cef5bd47",
            "cbbc58e7ffcc43489fc9320624a8d533",
            "634358a70d0d4d61856412ff6cd7f775",
            "195a02f9aef243b48cd1cff0f32ada62",
            "39542b4e551248e8988341af413ac2b4",
            "280ffb8e0f64431dace2085c008fcc63",
            "c0a9d7763c81484e84f347dcc19f6891",
            "cc3d8dd0398e4b7b9e2d2d5967cb418f",
            "2c75ce50a3834d12b216b598911d6796",
            "09907ab2a4854a6fad02b8de2cb90b32",
            "5bb79d592e6a444bba552556d89cf17e",
            "f9b1d62fcd66493fb5702317c21af504",
            "003982294bba435f86d8d357b00409d2",
            "7850dd31df704f6ab4497f7a062f0dca",
            "b82e59953c26433bab48b854e09c1b21",
            "b9aed6eef3d74dd2811deaf9d19b79bf",
            "898e60aae3a144bca185986fd3900f7f",
            "e30c96b13ef2457da8ac2a9d47830b0b",
            "c2af5aecfe99442fbe8a67fd7ae1a5aa",
            "b02d8c65dfcd4c289d7766c73e6b67a5",
            "55c234a8ac39489a9ebfd2d73ea3df8a",
            "77ffdc6e703b4c1fb02e1d28a9e8068b",
            "1203cd0fa17e493aa050bc304c31be97",
            "b6c7b89e46fe48bfa5f45e093f62c39d",
            "b0914eb2a506409fb3b0a3408d8e33e0",
            "e00c66c2abc9428196ec81b82fd3bea3",
            "d3f69c4019e14deaae6b6ddd3f790125",
            "a692f334649f4f42b9d7f3f889ee7fed",
            "4c691eb7cfe94a5d8fc76dc90a8286c1"
          ]
        },
        "id": "VbBFlCI-XAYY",
        "outputId": "1b76a80d-b787-4459-f51d-e78481bfbdb2"
      },
      "outputs": [
        {
          "output_type": "stream",
          "name": "stdout",
          "text": [
            "Downloading http://yann.lecun.com/exdb/mnist/train-images-idx3-ubyte.gz\n",
            "Downloading http://yann.lecun.com/exdb/mnist/train-images-idx3-ubyte.gz to data/MNIST/raw/train-images-idx3-ubyte.gz\n"
          ]
        },
        {
          "output_type": "display_data",
          "data": {
            "application/vnd.jupyter.widget-view+json": {
              "model_id": "274e2ee38c5241d18580fa93cb1b625d",
              "version_minor": 0,
              "version_major": 2
            },
            "text/plain": [
              "  0%|          | 0/9912422 [00:00<?, ?it/s]"
            ]
          },
          "metadata": {}
        },
        {
          "output_type": "stream",
          "name": "stdout",
          "text": [
            "Extracting data/MNIST/raw/train-images-idx3-ubyte.gz to data/MNIST/raw\n",
            "\n",
            "Downloading http://yann.lecun.com/exdb/mnist/train-labels-idx1-ubyte.gz\n",
            "Downloading http://yann.lecun.com/exdb/mnist/train-labels-idx1-ubyte.gz to data/MNIST/raw/train-labels-idx1-ubyte.gz\n"
          ]
        },
        {
          "output_type": "display_data",
          "data": {
            "application/vnd.jupyter.widget-view+json": {
              "model_id": "126951fc220a4ded8dcdec00c247d4b1",
              "version_minor": 0,
              "version_major": 2
            },
            "text/plain": [
              "  0%|          | 0/28881 [00:00<?, ?it/s]"
            ]
          },
          "metadata": {}
        },
        {
          "output_type": "stream",
          "name": "stdout",
          "text": [
            "Extracting data/MNIST/raw/train-labels-idx1-ubyte.gz to data/MNIST/raw\n",
            "\n",
            "Downloading http://yann.lecun.com/exdb/mnist/t10k-images-idx3-ubyte.gz\n",
            "Downloading http://yann.lecun.com/exdb/mnist/t10k-images-idx3-ubyte.gz to data/MNIST/raw/t10k-images-idx3-ubyte.gz\n"
          ]
        },
        {
          "output_type": "display_data",
          "data": {
            "application/vnd.jupyter.widget-view+json": {
              "model_id": "cc3d8dd0398e4b7b9e2d2d5967cb418f",
              "version_minor": 0,
              "version_major": 2
            },
            "text/plain": [
              "  0%|          | 0/1648877 [00:00<?, ?it/s]"
            ]
          },
          "metadata": {}
        },
        {
          "output_type": "stream",
          "name": "stdout",
          "text": [
            "Extracting data/MNIST/raw/t10k-images-idx3-ubyte.gz to data/MNIST/raw\n",
            "\n",
            "Downloading http://yann.lecun.com/exdb/mnist/t10k-labels-idx1-ubyte.gz\n",
            "Downloading http://yann.lecun.com/exdb/mnist/t10k-labels-idx1-ubyte.gz to data/MNIST/raw/t10k-labels-idx1-ubyte.gz\n"
          ]
        },
        {
          "output_type": "display_data",
          "data": {
            "application/vnd.jupyter.widget-view+json": {
              "model_id": "c2af5aecfe99442fbe8a67fd7ae1a5aa",
              "version_minor": 0,
              "version_major": 2
            },
            "text/plain": [
              "  0%|          | 0/4542 [00:00<?, ?it/s]"
            ]
          },
          "metadata": {}
        },
        {
          "output_type": "stream",
          "name": "stdout",
          "text": [
            "Extracting data/MNIST/raw/t10k-labels-idx1-ubyte.gz to data/MNIST/raw\n",
            "\n"
          ]
        }
      ],
      "source": [
        "dataset = MNIST(root='data/', download=True)"
      ]
    },
    {
      "cell_type": "code",
      "execution_count": null,
      "metadata": {
        "colab": {
          "base_uri": "https://localhost:8080/"
        },
        "id": "ETAo_NBHXGst",
        "outputId": "2ba937c9-88bf-4d3b-a24c-df9055f3559a"
      },
      "outputs": [
        {
          "output_type": "execute_result",
          "data": {
            "text/plain": [
              "60000"
            ]
          },
          "metadata": {},
          "execution_count": 3
        }
      ],
      "source": [
        "len(dataset)"
      ]
    },
    {
      "cell_type": "code",
      "execution_count": null,
      "metadata": {
        "colab": {
          "base_uri": "https://localhost:8080/"
        },
        "id": "EPWaufmFXUtF",
        "outputId": "990b9c2f-f3d9-464d-d03c-c9dcc1a3612d"
      },
      "outputs": [
        {
          "output_type": "execute_result",
          "data": {
            "text/plain": [
              "10000"
            ]
          },
          "metadata": {},
          "execution_count": 4
        }
      ],
      "source": [
        "test_dataset = MNIST(root='data/',train=False)\n",
        "len(test_dataset)"
      ]
    },
    {
      "cell_type": "code",
      "execution_count": null,
      "metadata": {
        "colab": {
          "base_uri": "https://localhost:8080/"
        },
        "id": "N29x4jaqXcjX",
        "outputId": "f4a3b68a-38d4-495e-a333-59d6d939e31d"
      },
      "outputs": [
        {
          "output_type": "execute_result",
          "data": {
            "text/plain": [
              "(<PIL.Image.Image image mode=L size=28x28 at 0x7F51B80A8D90>, 5)"
            ]
          },
          "metadata": {},
          "execution_count": 5
        }
      ],
      "source": [
        "dataset[0]"
      ]
    },
    {
      "cell_type": "markdown",
      "metadata": {
        "id": "QQkxvBQCX6pZ"
      },
      "source": [
        "* It's a pair containing an image of 28px28px and a label.\n",
        "* The image is an object of the class `PIL.Image.Image` which is a part of the python imaging library."
      ]
    },
    {
      "cell_type": "code",
      "execution_count": null,
      "metadata": {
        "id": "sJ9cYWRuXk_V"
      },
      "outputs": [],
      "source": [
        "import matplotlib.pyplot as plt\n",
        "%matplotlib inline"
      ]
    },
    {
      "cell_type": "markdown",
      "metadata": {
        "id": "D8Bhp9sTYQl_"
      },
      "source": [
        "* The statement `%matplotlib inline` indicates to Jupyter that we want to plot the graph within the notebook and not on the pop up window.\n",
        "* Statements starting with `%` are called magic commands and are used to configure the behaviour of Jupyter itself."
      ]
    },
    {
      "cell_type": "code",
      "execution_count": null,
      "metadata": {
        "colab": {
          "base_uri": "https://localhost:8080/",
          "height": 282
        },
        "id": "vyZsPsmQYzw-",
        "outputId": "09aacaac-67c7-422d-d997-6ff4b6e1c199"
      },
      "outputs": [
        {
          "output_type": "stream",
          "name": "stdout",
          "text": [
            "Label: 5\n"
          ]
        },
        {
          "output_type": "display_data",
          "data": {
            "image/png": "[encoded data removed]",
            "text/plain": [
              "<Figure size 432x288 with 1 Axes>"
            ]
          },
          "metadata": {
            "needs_background": "light"
          }
        }
      ],
      "source": [
        "image, label = dataset[0]\n",
        "plt.imshow(image, cmap='gray')\n",
        "print('Label:', label)"
      ]
    },
    {
      "cell_type": "markdown",
      "metadata": {
        "id": "rg2KuJJ0ZZH1"
      },
      "source": [
        "* PyTorch don't know how to work with images. We need to convert images into tensors.\n",
        "* We can do this by specifying a transform while creating our dataset."
      ]
    },
    {
      "cell_type": "code",
      "execution_count": null,
      "metadata": {
        "id": "OjT9Spz2ZAt5"
      },
      "outputs": [],
      "source": [
        "import torchvision.transforms as transforms"
      ]
    },
    {
      "cell_type": "markdown",
      "metadata": {
        "id": "xQyRuy2wZ419"
      },
      "source": [
        "* PyTorch datasets allow us to specify one or more transformations functions that are applied to the images as they are loaded.\n",
        "* The `torchvision.transforms` module contain many such predefined functions.\n",
        "* We'll use the `ToTensor` transform to convert images into PyTorch tensors."
      ]
    },
    {
      "cell_type": "code",
      "execution_count": null,
      "metadata": {
        "id": "0g57mKF3Z4C8"
      },
      "outputs": [],
      "source": [
        "dataset = MNIST(root='data/',\n",
        "                train=True,\n",
        "                transform=transforms.ToTensor())"
      ]
    },
    {
      "cell_type": "code",
      "execution_count": null,
      "metadata": {
        "colab": {
          "base_uri": "https://localhost:8080/"
        },
        "id": "Tk8P9xP5ad7U",
        "outputId": "8d98232c-2a41-4e27-ac8c-660f9156717e"
      },
      "outputs": [
        {
          "output_type": "stream",
          "name": "stdout",
          "text": [
            "torch.Size([1, 28, 28]) 5\n"
          ]
        }
      ],
      "source": [
        "img_tensor, label = dataset[0]\n",
        "print(img_tensor.shape, label)"
      ]
    },
    {
      "cell_type": "markdown",
      "metadata": {
        "id": "NYF-h7Saaqug"
      },
      "source": [
        "* The image is now converted to a 1x28x28 tensor.\n",
        "* The first dimension tracks color channels.\n",
        "* The 2nd and 3rd dimensions represent pixels along heigth and weight respectively"
      ]
    },
    {
      "cell_type": "code",
      "execution_count": null,
      "metadata": {
        "colab": {
          "base_uri": "https://localhost:8080/"
        },
        "id": "FObjCIB_alp_",
        "outputId": "5121f263-55cc-4a69-8bcb-0b1d91ac4161"
      },
      "outputs": [
        {
          "output_type": "stream",
          "name": "stdout",
          "text": [
            "tensor([[0.0039, 0.6039, 0.9922, 0.3529, 0.0000],\n",
            "        [0.0000, 0.5451, 0.9922, 0.7451, 0.0078],\n",
            "        [0.0000, 0.0431, 0.7451, 0.9922, 0.2745],\n",
            "        [0.0000, 0.0000, 0.1373, 0.9451, 0.8824],\n",
            "        [0.0000, 0.0000, 0.0000, 0.3176, 0.9412]])\n",
            "tensor(1.) tensor(0.)\n"
          ]
        }
      ],
      "source": [
        "print(img_tensor[0,10:15,10:15])\n",
        "print(torch.max(img_tensor), torch.min(img_tensor))"
      ]
    },
    {
      "cell_type": "markdown",
      "metadata": {
        "id": "isChUEPAbkhK"
      },
      "source": [
        "* The value ranges from 0 to 1 with `0` representing black and `1` representing white.\n",
        "* We can also plot tensor using `plt.imshow`."
      ]
    },
    {
      "cell_type": "code",
      "execution_count": null,
      "metadata": {
        "colab": {
          "base_uri": "https://localhost:8080/",
          "height": 282
        },
        "id": "p-3AHM-tbjF0",
        "outputId": "3244565b-2e48-4531-fd78-86fc6fff8b64"
      },
      "outputs": [
        {
          "output_type": "execute_result",
          "data": {
            "text/plain": [
              "<matplotlib.image.AxesImage at 0x7f51b7b01190>"
            ]
          },
          "metadata": {},
          "execution_count": 12
        },
        {
          "output_type": "display_data",
          "data": {
            "image/png": "[encoded data removed]",
            "text/plain": [
              "<Figure size 432x288 with 1 Axes>"
            ]
          },
          "metadata": {
            "needs_background": "light"
          }
        }
      ],
      "source": [
        "plt.imshow(img_tensor[0,10:15,10:15], cmap='gray')"
      ]
    },
    {
      "cell_type": "markdown",
      "metadata": {
        "id": "HpF8PIvCcQhg"
      },
      "source": [
        "## **Training and Validation Datasets**\n",
        "While building real-world learning models, it's quite common to split the dataset into 3 parts:\n",
        "1. **Training set** - used to train the model. (i.e. compute the loss and adjust the model's weights and biases using gradient descent)\n",
        "2. **Validation set** - used to evaluate the model during training, adjust hyperparameters (learning rate, etc)\n",
        "3. **Test set** - used to compare different models or approaches and report the model's final accuracy.\n",
        "\n",
        "Since there is no predefined validation so we can randomly split them.\n",
        "\n",
        "We can split the data using `random_split` method from PyTorch"
      ]
    },
    {
      "cell_type": "code",
      "execution_count": null,
      "metadata": {
        "colab": {
          "base_uri": "https://localhost:8080/"
        },
        "id": "9jVYLP3Xb_7c",
        "outputId": "992c586e-109d-4229-af08-40fd85df5d52"
      },
      "outputs": [
        {
          "output_type": "execute_result",
          "data": {
            "text/plain": [
              "(50000, 10000)"
            ]
          },
          "metadata": {},
          "execution_count": 13
        }
      ],
      "source": [
        "from torch.utils.data import random_split\n",
        "\n",
        "train_ds, val_ds = random_split(dataset, [50000, 10000])\n",
        "len(train_ds), len(val_ds)"
      ]
    },
    {
      "cell_type": "markdown",
      "metadata": {
        "id": "OIFY4GmteI16"
      },
      "source": [
        "* It's essential to choose a random samplefor creating a validation set. Training data is ofter sorted by the last target labels (i.e. images of 0 followed 1 then 2, etc)\n",
        "* If we take last 20% dataset then validation set will have only 8's and 9's.\n",
        "\n",
        "We can now create data loaders to help us load the data in batches. We'll use a batch size of 128."
      ]
    },
    {
      "cell_type": "code",
      "execution_count": null,
      "metadata": {
        "id": "1E2Rs1RJeJl9"
      },
      "outputs": [],
      "source": [
        "from torch.utils.data import DataLoader\n",
        "\n",
        "batch_size = 128\n",
        "\n",
        "train_loader = DataLoader(train_ds, batch_size, shuffle=True)\n",
        "val_loader = DataLoader(val_ds, batch_size)"
      ]
    },
    {
      "cell_type": "markdown",
      "metadata": {
        "id": "MG_LdvYhfKmg"
      },
      "source": [
        "We set `shuffle=True` to ensure randomness in the batches generated in each epoch. This randomization helps generalize & speed up the training process. Onthe other hand, since the validation data loader in used only for evaluating the model, there is no need to shuffle the images."
      ]
    },
    {
      "cell_type": "markdown",
      "metadata": {
        "id": "PEsZGWnSg26C"
      },
      "source": [
        "## **Model**\n",
        "* A **logistic regression** model is almost identical to a linear regression model. It contains weights and biases matrices, and output is obtained using simple matrix operations (`pred = x @ w.t + b`).\n",
        "* As we did with linear regression, we can use `nn.Linear` to create the model instead of manually creating and initializing the matrices.\n",
        "* Since `nn.Linear` expects each training example to be a vector, each `1x28x28` image tensor is flattened into a vector of size 784 (`28x28`) before being passed into the model.\n",
        "* The output for each image is a vector of size 10, with each element signifying the probability of a particular target label (i.e., 0 to 9). The predicted label for an image is simply the one with the highest probability."
      ]
    },
    {
      "cell_type": "code",
      "execution_count": null,
      "metadata": {
        "id": "g091zOqxfIDe"
      },
      "outputs": [],
      "source": [
        "import torch.nn as nn\n",
        "\n",
        "input_size = 28*28\n",
        "num_classes = 10\n",
        "\n",
        "# Logistic regression model\n",
        "model = nn.Linear(input_size, num_classes)"
      ]
    },
    {
      "cell_type": "code",
      "execution_count": null,
      "metadata": {
        "colab": {
          "base_uri": "https://localhost:8080/"
        },
        "id": "kBZZvSB1isw3",
        "outputId": "afe4b398-81ec-4aab-e642-06f490b1ee24"
      },
      "outputs": [
        {
          "output_type": "stream",
          "name": "stdout",
          "text": [
            "torch.Size([10, 784])\n"
          ]
        },
        {
          "output_type": "execute_result",
          "data": {
            "text/plain": [
              "Parameter containing:\n",
              "tensor([[-0.0216,  0.0219,  0.0049,  ..., -0.0071, -0.0305, -0.0267],\n",
              "        [-0.0129, -0.0281, -0.0220,  ..., -0.0266, -0.0320,  0.0217],\n",
              "        [-0.0128, -0.0314,  0.0257,  ..., -0.0225, -0.0006,  0.0350],\n",
              "        ...,\n",
              "        [-0.0282, -0.0337,  0.0095,  ...,  0.0139,  0.0002, -0.0310],\n",
              "        [ 0.0214,  0.0276,  0.0351,  ...,  0.0227, -0.0106, -0.0308],\n",
              "        [ 0.0353,  0.0039,  0.0162,  ...,  0.0319, -0.0039, -0.0039]],\n",
              "       requires_grad=True)"
            ]
          },
          "metadata": {},
          "execution_count": 16
        }
      ],
      "source": [
        "print(model.weight.shape)\n",
        "model.weight"
      ]
    },
    {
      "cell_type": "code",
      "execution_count": null,
      "metadata": {
        "colab": {
          "base_uri": "https://localhost:8080/"
        },
        "id": "xQ4eC4SPiwp4",
        "outputId": "1a0f916f-dc35-4b75-d314-795d55a6db83"
      },
      "outputs": [
        {
          "output_type": "stream",
          "name": "stdout",
          "text": [
            "torch.Size([10])\n"
          ]
        },
        {
          "output_type": "execute_result",
          "data": {
            "text/plain": [
              "Parameter containing:\n",
              "tensor([-0.0275,  0.0169, -0.0235, -0.0344, -0.0328, -0.0095,  0.0232, -0.0186,\n",
              "         0.0136,  0.0266], requires_grad=True)"
            ]
          },
          "metadata": {},
          "execution_count": 17
        }
      ],
      "source": [
        "print(model.bias.shape)\n",
        "model.bias"
      ]
    },
    {
      "cell_type": "markdown",
      "metadata": {
        "id": "93nEBuJ0jW5g"
      },
      "source": [
        "We have a total of 7850 parameters here but conceptually nothing has changed. It's same as linear regression.\n",
        "We'll take the first batch of 100 images from out dataset and pass them into our model."
      ]
    },
    {
      "cell_type": "code",
      "execution_count": null,
      "metadata": {
        "colab": {
          "base_uri": "https://localhost:8080/",
          "height": 484
        },
        "id": "WnOI77myjL0X",
        "outputId": "da622d87-cd07-4eb2-c97c-13234f709ac0"
      },
      "outputs": [
        {
          "output_type": "stream",
          "name": "stdout",
          "text": [
            "tensor([6, 2, 7, 1, 2, 3, 2, 7, 8, 5, 2, 9, 0, 4, 0, 2, 2, 3, 3, 3, 8, 2, 0, 4,\n",
            "        5, 7, 9, 4, 4, 6, 0, 2, 2, 9, 0, 9, 8, 9, 2, 2, 5, 2, 3, 6, 1, 9, 8, 7,\n",
            "        5, 0, 1, 1, 0, 1, 9, 5, 8, 6, 0, 2, 1, 9, 2, 9, 2, 9, 7, 3, 1, 4, 2, 5,\n",
            "        8, 2, 1, 3, 5, 1, 5, 3, 7, 2, 8, 9, 4, 7, 0, 7, 4, 3, 9, 8, 1, 8, 6, 1,\n",
            "        9, 2, 8, 1, 6, 0, 9, 2, 1, 9, 8, 1, 6, 8, 8, 9, 8, 4, 6, 6, 4, 3, 1, 3,\n",
            "        8, 0, 9, 4, 7, 4, 6, 9])\n",
            "torch.Size([128, 1, 28, 28])\n"
          ]
        },
        {
          "output_type": "error",
          "ename": "RuntimeError",
          "evalue": "ignored",
          "traceback": [
            "\u001b[0;31m---------------------------------------------------------------------------\u001b[0m",
            "\u001b[0;31mRuntimeError\u001b[0m                              Traceback (most recent call last)",
            "\u001b[0;32m<ipython-input-18-a8c0fa89d43a>\u001b[0m in \u001b[0;36m<module>\u001b[0;34m()\u001b[0m\n\u001b[1;32m      2\u001b[0m   \u001b[0mprint\u001b[0m\u001b[0;34m(\u001b[0m\u001b[0mlabels\u001b[0m\u001b[0;34m)\u001b[0m\u001b[0;34m\u001b[0m\u001b[0;34m\u001b[0m\u001b[0m\n\u001b[1;32m      3\u001b[0m   \u001b[0mprint\u001b[0m\u001b[0;34m(\u001b[0m\u001b[0mimages\u001b[0m\u001b[0;34m.\u001b[0m\u001b[0mshape\u001b[0m\u001b[0;34m)\u001b[0m\u001b[0;34m\u001b[0m\u001b[0;34m\u001b[0m\u001b[0m\n\u001b[0;32m----> 4\u001b[0;31m   \u001b[0moutputs\u001b[0m \u001b[0;34m=\u001b[0m \u001b[0mmodel\u001b[0m\u001b[0;34m(\u001b[0m\u001b[0mimages\u001b[0m\u001b[0;34m)\u001b[0m\u001b[0;34m\u001b[0m\u001b[0;34m\u001b[0m\u001b[0m\n\u001b[0m\u001b[1;32m      5\u001b[0m   \u001b[0;32mbreak\u001b[0m\u001b[0;34m\u001b[0m\u001b[0;34m\u001b[0m\u001b[0m\n",
            "\u001b[0;32m/usr/local/lib/python3.7/dist-packages/torch/nn/modules/module.py\u001b[0m in \u001b[0;36m_call_impl\u001b[0;34m(self, *input, **kwargs)\u001b[0m\n\u001b[1;32m   1100\u001b[0m         if not (self._backward_hooks or self._forward_hooks or self._forward_pre_hooks or _global_backward_hooks\n\u001b[1;32m   1101\u001b[0m                 or _global_forward_hooks or _global_forward_pre_hooks):\n\u001b[0;32m-> 1102\u001b[0;31m             \u001b[0;32mreturn\u001b[0m \u001b[0mforward_call\u001b[0m\u001b[0;34m(\u001b[0m\u001b[0;34m*\u001b[0m\u001b[0minput\u001b[0m\u001b[0;34m,\u001b[0m \u001b[0;34m**\u001b[0m\u001b[0mkwargs\u001b[0m\u001b[0;34m)\u001b[0m\u001b[0;34m\u001b[0m\u001b[0;34m\u001b[0m\u001b[0m\n\u001b[0m\u001b[1;32m   1103\u001b[0m         \u001b[0;31m# Do not call functions when jit is used\u001b[0m\u001b[0;34m\u001b[0m\u001b[0;34m\u001b[0m\u001b[0;34m\u001b[0m\u001b[0m\n\u001b[1;32m   1104\u001b[0m         \u001b[0mfull_backward_hooks\u001b[0m\u001b[0;34m,\u001b[0m \u001b[0mnon_full_backward_hooks\u001b[0m \u001b[0;34m=\u001b[0m \u001b[0;34m[\u001b[0m\u001b[0;34m]\u001b[0m\u001b[0;34m,\u001b[0m \u001b[0;34m[\u001b[0m\u001b[0;34m]\u001b[0m\u001b[0;34m\u001b[0m\u001b[0;34m\u001b[0m\u001b[0m\n",
            "\u001b[0;32m/usr/local/lib/python3.7/dist-packages/torch/nn/modules/linear.py\u001b[0m in \u001b[0;36mforward\u001b[0;34m(self, input)\u001b[0m\n\u001b[1;32m    101\u001b[0m \u001b[0;34m\u001b[0m\u001b[0m\n\u001b[1;32m    102\u001b[0m     \u001b[0;32mdef\u001b[0m \u001b[0mforward\u001b[0m\u001b[0;34m(\u001b[0m\u001b[0mself\u001b[0m\u001b[0;34m,\u001b[0m \u001b[0minput\u001b[0m\u001b[0;34m:\u001b[0m \u001b[0mTensor\u001b[0m\u001b[0;34m)\u001b[0m \u001b[0;34m->\u001b[0m \u001b[0mTensor\u001b[0m\u001b[0;34m:\u001b[0m\u001b[0;34m\u001b[0m\u001b[0;34m\u001b[0m\u001b[0m\n\u001b[0;32m--> 103\u001b[0;31m         \u001b[0;32mreturn\u001b[0m \u001b[0mF\u001b[0m\u001b[0;34m.\u001b[0m\u001b[0mlinear\u001b[0m\u001b[0;34m(\u001b[0m\u001b[0minput\u001b[0m\u001b[0;34m,\u001b[0m \u001b[0mself\u001b[0m\u001b[0;34m.\u001b[0m\u001b[0mweight\u001b[0m\u001b[0;34m,\u001b[0m \u001b[0mself\u001b[0m\u001b[0;34m.\u001b[0m\u001b[0mbias\u001b[0m\u001b[0;34m)\u001b[0m\u001b[0;34m\u001b[0m\u001b[0;34m\u001b[0m\u001b[0m\n\u001b[0m\u001b[1;32m    104\u001b[0m \u001b[0;34m\u001b[0m\u001b[0m\n\u001b[1;32m    105\u001b[0m     \u001b[0;32mdef\u001b[0m \u001b[0mextra_repr\u001b[0m\u001b[0;34m(\u001b[0m\u001b[0mself\u001b[0m\u001b[0;34m)\u001b[0m \u001b[0;34m->\u001b[0m \u001b[0mstr\u001b[0m\u001b[0;34m:\u001b[0m\u001b[0;34m\u001b[0m\u001b[0;34m\u001b[0m\u001b[0m\n",
            "\u001b[0;32m/usr/local/lib/python3.7/dist-packages/torch/nn/functional.py\u001b[0m in \u001b[0;36mlinear\u001b[0;34m(input, weight, bias)\u001b[0m\n\u001b[1;32m   1846\u001b[0m     \u001b[0;32mif\u001b[0m \u001b[0mhas_torch_function_variadic\u001b[0m\u001b[0;34m(\u001b[0m\u001b[0minput\u001b[0m\u001b[0;34m,\u001b[0m \u001b[0mweight\u001b[0m\u001b[0;34m,\u001b[0m \u001b[0mbias\u001b[0m\u001b[0;34m)\u001b[0m\u001b[0;34m:\u001b[0m\u001b[0;34m\u001b[0m\u001b[0;34m\u001b[0m\u001b[0m\n\u001b[1;32m   1847\u001b[0m         \u001b[0;32mreturn\u001b[0m \u001b[0mhandle_torch_function\u001b[0m\u001b[0;34m(\u001b[0m\u001b[0mlinear\u001b[0m\u001b[0;34m,\u001b[0m \u001b[0;34m(\u001b[0m\u001b[0minput\u001b[0m\u001b[0;34m,\u001b[0m \u001b[0mweight\u001b[0m\u001b[0;34m,\u001b[0m \u001b[0mbias\u001b[0m\u001b[0;34m)\u001b[0m\u001b[0;34m,\u001b[0m \u001b[0minput\u001b[0m\u001b[0;34m,\u001b[0m \u001b[0mweight\u001b[0m\u001b[0;34m,\u001b[0m \u001b[0mbias\u001b[0m\u001b[0;34m=\u001b[0m\u001b[0mbias\u001b[0m\u001b[0;34m)\u001b[0m\u001b[0;34m\u001b[0m\u001b[0;34m\u001b[0m\u001b[0m\n\u001b[0;32m-> 1848\u001b[0;31m     \u001b[0;32mreturn\u001b[0m \u001b[0mtorch\u001b[0m\u001b[0;34m.\u001b[0m\u001b[0m_C\u001b[0m\u001b[0;34m.\u001b[0m\u001b[0m_nn\u001b[0m\u001b[0;34m.\u001b[0m\u001b[0mlinear\u001b[0m\u001b[0;34m(\u001b[0m\u001b[0minput\u001b[0m\u001b[0;34m,\u001b[0m \u001b[0mweight\u001b[0m\u001b[0;34m,\u001b[0m \u001b[0mbias\u001b[0m\u001b[0;34m)\u001b[0m\u001b[0;34m\u001b[0m\u001b[0;34m\u001b[0m\u001b[0m\n\u001b[0m\u001b[1;32m   1849\u001b[0m \u001b[0;34m\u001b[0m\u001b[0m\n\u001b[1;32m   1850\u001b[0m \u001b[0;34m\u001b[0m\u001b[0m\n",
            "\u001b[0;31mRuntimeError\u001b[0m: mat1 and mat2 shapes cannot be multiplied (3584x28 and 784x10)"
          ]
        }
      ],
      "source": [
        "for images, labels in train_loader:\n",
        "  print(labels)\n",
        "  print(images.shape)\n",
        "  outputs = model(images)\n",
        "  break"
      ]
    },
    {
      "cell_type": "markdown",
      "metadata": {
        "id": "Mtg1-4gGkT88"
      },
      "source": [
        "* The code above leads to an error because our input data does not have the right shape. Our images are of the shape 1x28x28, but we need them to be vectors of sixe 784, i.e., we need to flatten them. We'll use the `.reshape` method of a tensor, which will allow us to efficiently 'view' each image as a flat vector without really creating a copy of the underlying data. \n",
        "* To include this additional functionality within our model, we need to define a custom model by extending the `nn.Module` class from PyTorch."
      ]
    },
    {
      "cell_type": "code",
      "execution_count": null,
      "metadata": {
        "colab": {
          "base_uri": "https://localhost:8080/"
        },
        "id": "T-H9PiuEjwsl",
        "outputId": "b02fa5fe-0c64-4d3c-d951-d70633e38c79"
      },
      "outputs": [
        {
          "output_type": "execute_result",
          "data": {
            "text/plain": [
              "torch.Size([128, 1, 28, 28])"
            ]
          },
          "metadata": {},
          "execution_count": 19
        }
      ],
      "source": [
        "images.shape"
      ]
    },
    {
      "cell_type": "code",
      "execution_count": null,
      "metadata": {
        "colab": {
          "base_uri": "https://localhost:8080/"
        },
        "id": "mbGbBEv0lzRo",
        "outputId": "6d1ffac1-6d6f-4204-94e6-6ecf8f33a928"
      },
      "outputs": [
        {
          "output_type": "execute_result",
          "data": {
            "text/plain": [
              "torch.Size([128, 784])"
            ]
          },
          "metadata": {},
          "execution_count": 20
        }
      ],
      "source": [
        "images.reshape(128,784).shape"
      ]
    },
    {
      "cell_type": "markdown",
      "metadata": {
        "id": "2tj6bFgWnKOp"
      },
      "source": [
        "A class in Python provides a \"blueprint\" for creating objects. Let's look at an example of defining a new class in Python"
      ]
    },
    {
      "cell_type": "code",
      "execution_count": null,
      "metadata": {
        "id": "AjJVOr9wl5QV"
      },
      "outputs": [],
      "source": [
        "class Person:\n",
        "\n",
        "  # class constructor\n",
        "  def __init__(self, name, age):\n",
        "\n",
        "    # object properties\n",
        "    self.name = name\n",
        "    self.age = age\n",
        "\n",
        "    # method\n",
        "  def say_hello(self):\n",
        "    print(\"Hello my name is \" + self.name + \"!\")"
      ]
    },
    {
      "cell_type": "markdown",
      "metadata": {
        "id": "BOWa_IMtnVdd"
      },
      "source": [
        "Here's how we create or *instantiate* an object of the class `Person`."
      ]
    },
    {
      "cell_type": "code",
      "execution_count": null,
      "metadata": {
        "id": "ZIN3Sy_GnUlN"
      },
      "outputs": [],
      "source": [
        "bob = Person(\"Bob\", 32)"
      ]
    },
    {
      "cell_type": "markdown",
      "metadata": {
        "id": "Y8e9b-Flnhtw"
      },
      "source": [
        "The object `bob` is an instance of the class `Person`.\n",
        "We can access the object's properties (also called attributes) or invoke its method using the `.` notation."
      ]
    },
    {
      "cell_type": "code",
      "execution_count": null,
      "metadata": {
        "colab": {
          "base_uri": "https://localhost:8080/"
        },
        "id": "VgPXHH4wnfHQ",
        "outputId": "6008bd35-a5a6-4ab1-b0f3-beb818e1bd55"
      },
      "outputs": [
        {
          "output_type": "execute_result",
          "data": {
            "text/plain": [
              "('Bob', 32)"
            ]
          },
          "metadata": {},
          "execution_count": 23
        }
      ],
      "source": [
        "bob.name, bob.age"
      ]
    },
    {
      "cell_type": "code",
      "execution_count": null,
      "metadata": {
        "colab": {
          "base_uri": "https://localhost:8080/"
        },
        "id": "gny5AgnQn16v",
        "outputId": "8cc6ebf5-fbfb-4ab1-d7c8-5f4f55b11dac"
      },
      "outputs": [
        {
          "output_type": "stream",
          "name": "stdout",
          "text": [
            "Hello my name is Bob!\n"
          ]
        }
      ],
      "source": [
        "bob.say_hello()"
      ]
    },
    {
      "cell_type": "markdown",
      "metadata": {
        "id": "Mdz1G_jxoYus"
      },
      "source": [
        "Classes can also build upon or extend the functionality of existing classes. Let's extend the `nn.Module` class from PyTorch to define a custom model."
      ]
    },
    {
      "cell_type": "code",
      "execution_count": null,
      "metadata": {
        "id": "ndfk9hljn4LE"
      },
      "outputs": [],
      "source": [
        "class MnistModel(nn.Module):\n",
        "  def __init__(self):\n",
        "    super().__init__()\n",
        "    self.linear = nn.Linear(input_size, num_classes)\n",
        "\n",
        "  def forward(self, xb):\n",
        "     xb = xb.reshape(-1, 784)\n",
        "     out = self.linear(xb)\n",
        "     return out\n",
        "\n",
        "model = MnistModel()"
      ]
    },
    {
      "cell_type": "markdown",
      "metadata": {
        "id": "oVvgIVsmz6b8"
      },
      "source": [
        "* Inside the `__init__` constructor method, we instantiate the weights and biases using `nn.Linear`. And inside `forward` method, which is invoked when we pass a batch of inputs to the model, we flatten the input tensor and pass it into `self.linear`.\n",
        "* `xb.reshape(-1, 28*28)` indicates to PyTorch that we want a view of `xb` tensor with two dimensions. The length along the 2nd dimension is 28*28 = 784. One argument to `.reshape` can be set to -1 (in this case the 1st dimension) to let PyTorch figure it out automatically based on the shape of the original tensor.\n",
        "* Note that the model no longer has `.weight`, `.bias` attributes (as they are now inside `.linear` attribute) but it does have a `.parameter` method that returns a list containing the weights and bias."
      ]
    },
    {
      "cell_type": "code",
      "execution_count": null,
      "metadata": {
        "colab": {
          "base_uri": "https://localhost:8080/"
        },
        "id": "sEo-WEcb2d8N",
        "outputId": "b3a383f6-827f-4602-c1ed-c2e97e72c70a"
      },
      "outputs": [
        {
          "output_type": "execute_result",
          "data": {
            "text/plain": [
              "Linear(in_features=784, out_features=10, bias=True)"
            ]
          },
          "metadata": {},
          "execution_count": 26
        }
      ],
      "source": [
        "model.linear"
      ]
    },
    {
      "cell_type": "code",
      "execution_count": null,
      "metadata": {
        "colab": {
          "base_uri": "https://localhost:8080/"
        },
        "id": "LaY4_hfP2fnO",
        "outputId": "e1faaf0e-a694-4554-9bb5-fc078866115c"
      },
      "outputs": [
        {
          "output_type": "stream",
          "name": "stdout",
          "text": [
            "torch.Size([10, 784]) torch.Size([10])\n"
          ]
        },
        {
          "output_type": "execute_result",
          "data": {
            "text/plain": [
              "[Parameter containing:\n",
              " tensor([[ 0.0026,  0.0034,  0.0027,  ..., -0.0060, -0.0038,  0.0269],\n",
              "         [-0.0133,  0.0052,  0.0282,  ..., -0.0274, -0.0003,  0.0091],\n",
              "         [-0.0119,  0.0289,  0.0343,  ...,  0.0034,  0.0273,  0.0156],\n",
              "         ...,\n",
              "         [-0.0110,  0.0225, -0.0295,  ..., -0.0208, -0.0320,  0.0089],\n",
              "         [ 0.0273, -0.0225, -0.0273,  ..., -0.0357,  0.0344,  0.0346],\n",
              "         [-0.0185, -0.0195,  0.0019,  ...,  0.0286, -0.0064,  0.0348]],\n",
              "        requires_grad=True), Parameter containing:\n",
              " tensor([ 0.0121,  0.0269,  0.0135,  0.0299, -0.0080,  0.0304, -0.0138, -0.0345,\n",
              "          0.0101,  0.0089], requires_grad=True)]"
            ]
          },
          "metadata": {},
          "execution_count": 27
        }
      ],
      "source": [
        "print(model.linear.weight.shape, model.linear.bias.shape)\n",
        "list(model.parameters())"
      ]
    },
    {
      "cell_type": "code",
      "execution_count": null,
      "metadata": {
        "colab": {
          "base_uri": "https://localhost:8080/"
        },
        "id": "zFs4LuSI2s3f",
        "outputId": "dda6701b-3790-4e89-889c-6a4a1644d7b9"
      },
      "outputs": [
        {
          "output_type": "stream",
          "name": "stdout",
          "text": [
            "torch.Size([128, 1, 28, 28])\n",
            "Outputs.shape :  torch.Size([128, 10])\n",
            "Sample outputs :  tensor([[-0.2084, -0.0774,  0.0279,  0.0668,  0.0196, -0.1931, -0.0639, -0.0195,\n",
            "          0.1689, -0.0672],\n",
            "        [-0.1962,  0.0757,  0.0624, -0.0772, -0.3197, -0.0958, -0.1059, -0.1870,\n",
            "         -0.0629,  0.0425]])\n"
          ]
        }
      ],
      "source": [
        "for images, labels in train_loader:\n",
        "  print(images.shape)\n",
        "  outputs = model(images)\n",
        "  break\n",
        "\n",
        "print('Outputs.shape : ', outputs.shape)\n",
        "print('Sample outputs : ', outputs[:2].data)"
      ]
    },
    {
      "cell_type": "markdown",
      "metadata": {
        "id": "qI5SBESfoQK-"
      },
      "source": [
        "* For each of the 100 input images, we get 10 outputs, one for each class. As duscussed earlier, we'd like these outputs to represent probabilities. Each output row's elements must lie between 0 to 1 and add up to 1, which is not in the case\n",
        "\n",
        "* To convert the output rows into probabilities, we use the softmax function, which has the following formula:\n",
        "\\begin{equation} {S(y_{i}) =  \\sum_{j} \\frac{e^{y_{i}}}{e^{y_{j}}}\\  } \\end{equation}\n",
        "* First, we replace each element `yi` in an output row by `e^yi`, making all the elements positive.\n",
        "* Then we divide them by the sum of all those values, which makes it a probability."
      ]
    },
    {
      "cell_type": "code",
      "execution_count": null,
      "metadata": {
        "id": "skZ48ZDro4x3"
      },
      "outputs": [],
      "source": [
        "import torch.nn.functional as F"
      ]
    },
    {
      "cell_type": "markdown",
      "metadata": {
        "id": "d4WG3i3NsYOH"
      },
      "source": [
        "* The softmax function is included in the `torch.nn.functional` package and requires us to specify a dimension along which the function should be applied.\n",
        "* Here we have 2 dimension in the output, `dim=0` is along the rows and `dim=1` is along the columns (i.e.: 10 values in the output)."
      ]
    },
    {
      "cell_type": "code",
      "execution_count": null,
      "metadata": {
        "colab": {
          "base_uri": "https://localhost:8080/"
        },
        "id": "zNgCnpUMsPwd",
        "outputId": "4fdb7b94-2b7d-462d-9263-2669212513a0"
      },
      "outputs": [
        {
          "output_type": "execute_result",
          "data": {
            "text/plain": [
              "tensor([[-0.2084, -0.0774,  0.0279,  0.0668,  0.0196, -0.1931, -0.0639, -0.0195,\n",
              "          0.1689, -0.0672],\n",
              "        [-0.1962,  0.0757,  0.0624, -0.0772, -0.3197, -0.0958, -0.1059, -0.1870,\n",
              "         -0.0629,  0.0425]], grad_fn=<SliceBackward0>)"
            ]
          },
          "metadata": {},
          "execution_count": 30
        }
      ],
      "source": [
        "outputs[:2]"
      ]
    },
    {
      "cell_type": "code",
      "execution_count": null,
      "metadata": {
        "colab": {
          "base_uri": "https://localhost:8080/"
        },
        "id": "IVHBPGkms1Uw",
        "outputId": "2084fff2-45a3-40a4-fbcf-58c5e25ec525"
      },
      "outputs": [
        {
          "output_type": "stream",
          "name": "stdout",
          "text": [
            "sample probabilities:\n",
            " tensor([[0.0836, 0.0952, 0.1058, 0.1100, 0.1050, 0.0848, 0.0965, 0.1009, 0.1219,\n",
            "         0.0962],\n",
            "        [0.0890, 0.1168, 0.1152, 0.1002, 0.0786, 0.0984, 0.0974, 0.0898, 0.1017,\n",
            "         0.1130]])\n",
            "Sum:  0.9999999403953552\n"
          ]
        }
      ],
      "source": [
        "# apply softmax for each output\n",
        "probs = F.softmax(outputs, dim=1)\n",
        "\n",
        "# look at sample probabilities\n",
        "print(\"sample probabilities:\\n\", probs[0:2].data)\n",
        "\n",
        "# add up the probabilities of an output row\n",
        "print(\"Sum: \", torch.sum(probs[0]).item())"
      ]
    },
    {
      "cell_type": "markdown",
      "metadata": {
        "id": "3HGoQ75zuVj7"
      },
      "source": [
        "Finally, we can determine the predicted label for each image by simply choosing the index of the element with the highest probability in each output row. We can do this using `torch.max`, which returns each row's largest element and the corresponding index."
      ]
    },
    {
      "cell_type": "code",
      "execution_count": null,
      "metadata": {
        "colab": {
          "base_uri": "https://localhost:8080/"
        },
        "id": "uWpW_c62th11",
        "outputId": "a8c1cf81-84d2-400d-9057-d84d1a86a17b"
      },
      "outputs": [
        {
          "output_type": "stream",
          "name": "stdout",
          "text": [
            "tensor([8, 1, 8, 8, 6, 8, 2, 2, 2, 9, 8, 8, 9, 8, 9, 9, 7, 2, 1, 9, 0, 5, 1, 2,\n",
            "        2, 8, 9, 1, 7, 9, 0, 8, 8, 9, 7, 2, 0, 8, 2, 0, 1, 2, 7, 8, 9, 1, 7, 1,\n",
            "        5, 5, 9, 8, 4, 4, 9, 1, 8, 1, 4, 9, 1, 2, 3, 2, 2, 7, 2, 8, 2, 2, 1, 8,\n",
            "        1, 8, 8, 8, 2, 8, 8, 2, 8, 2, 8, 8, 4, 2, 7, 9, 8, 1, 8, 0, 2, 2, 9, 7,\n",
            "        8, 9, 9, 9, 8, 2, 9, 8, 7, 2, 2, 8, 1, 2, 1, 9, 6, 8, 9, 8, 1, 2, 8, 8,\n",
            "        1, 9, 8, 1, 2, 8, 2, 2])\n",
            "tensor([0.1219, 0.1168, 0.1316, 0.1304, 0.1155, 0.1326, 0.1142, 0.1210, 0.1244,\n",
            "        0.1278, 0.1159, 0.1248, 0.1202, 0.1156, 0.1325, 0.1264, 0.1200, 0.1247,\n",
            "        0.1351, 0.1279, 0.1302, 0.1185, 0.1295, 0.1283, 0.1211, 0.1254, 0.1272,\n",
            "        0.1267, 0.1309, 0.1277, 0.1143, 0.1483, 0.1282, 0.1241, 0.1311, 0.1268,\n",
            "        0.1222, 0.1215, 0.1299, 0.1232, 0.1348, 0.1206, 0.1442, 0.1228, 0.1172,\n",
            "        0.1399, 0.1306, 0.1266, 0.1247, 0.1250, 0.1270, 0.1266, 0.1205, 0.1223,\n",
            "        0.1354, 0.1304, 0.1167, 0.1355, 0.1113, 0.1340, 0.1168, 0.1328, 0.1165,\n",
            "        0.1389, 0.1271, 0.1257, 0.1455, 0.1299, 0.1276, 0.1449, 0.1309, 0.1306,\n",
            "        0.1416, 0.1238, 0.1245, 0.1178, 0.1187, 0.1293, 0.1145, 0.1307, 0.1132,\n",
            "        0.1456, 0.1271, 0.1266, 0.1204, 0.1194, 0.1217, 0.1158, 0.1229, 0.1227,\n",
            "        0.1328, 0.1282, 0.1405, 0.1230, 0.1101, 0.1243, 0.1307, 0.1220, 0.1288,\n",
            "        0.1282, 0.1396, 0.1182, 0.1521, 0.1165, 0.1165, 0.1370, 0.1236, 0.1316,\n",
            "        0.1330, 0.1209, 0.1267, 0.1352, 0.1163, 0.1153, 0.1195, 0.1095, 0.1542,\n",
            "        0.1200, 0.1373, 0.1261, 0.1148, 0.1213, 0.1255, 0.1202, 0.1313, 0.1568,\n",
            "        0.1144, 0.1233], grad_fn=<MaxBackward0>)\n"
          ]
        }
      ],
      "source": [
        "max_probs, preds = torch.max(probs, dim=1)\n",
        "print(preds)\n",
        "print(max_probs)"
      ]
    },
    {
      "cell_type": "markdown",
      "metadata": {
        "id": "NpzVWA7fvTET"
      },
      "source": [
        "The numbers printed above are the predicted labsls alonf with their predictions probabilities. Let's compare them with the actual labels."
      ]
    },
    {
      "cell_type": "code",
      "execution_count": null,
      "metadata": {
        "colab": {
          "base_uri": "https://localhost:8080/"
        },
        "id": "5xTvhB4nu4KC",
        "outputId": "7b8c0b8f-0367-4c4e-a21b-39635e8ca0bd"
      },
      "outputs": [
        {
          "output_type": "execute_result",
          "data": {
            "text/plain": [
              "tensor([9, 6, 2, 5, 5, 2, 1, 1, 4, 7, 3, 3, 2, 9, 0, 6, 7, 4, 2, 0, 3, 1, 5, 4,\n",
              "        1, 5, 9, 0, 5, 0, 3, 3, 3, 6, 6, 9, 1, 5, 4, 3, 6, 2, 8, 6, 5, 0, 1, 2,\n",
              "        4, 3, 7, 6, 7, 2, 3, 7, 2, 0, 2, 9, 1, 6, 6, 4, 8, 0, 0, 0, 6, 4, 7, 8,\n",
              "        2, 7, 0, 2, 1, 3, 0, 4, 4, 4, 4, 1, 5, 1, 8, 2, 3, 1, 8, 3, 4, 4, 7, 5,\n",
              "        5, 9, 0, 3, 8, 8, 2, 5, 6, 6, 6, 8, 8, 7, 6, 4, 4, 3, 5, 1, 0, 9, 3, 8,\n",
              "        2, 4, 1, 9, 9, 8, 4, 1])"
            ]
          },
          "metadata": {},
          "execution_count": 33
        }
      ],
      "source": [
        "labels"
      ]
    },
    {
      "cell_type": "markdown",
      "metadata": {
        "id": "Dp0_UqBswBiN"
      },
      "source": [
        "## **Evaluation Metric and Loss Function**\n",
        "Just as with linear regression, we need a way to evaluate how well our model is performing. A natural way to do this would be to find the precentage of labels that were predicted correctly, i.e, the **accuracy** of the predictions."
      ]
    },
    {
      "cell_type": "code",
      "execution_count": null,
      "metadata": {
        "colab": {
          "base_uri": "https://localhost:8080/"
        },
        "id": "JC75FlybxqMJ",
        "outputId": "fd3627c1-62a9-4819-b567-7e55a026dd94"
      },
      "outputs": [
        {
          "output_type": "execute_result",
          "data": {
            "text/plain": [
              "tensor([8, 1, 8, 8, 6, 8, 2, 2, 2, 9, 8, 8, 9, 8, 9, 9, 7, 2, 1, 9, 0, 5, 1, 2,\n",
              "        2, 8, 9, 1, 7, 9, 0, 8, 8, 9, 7, 2, 0, 8, 2, 0, 1, 2, 7, 8, 9, 1, 7, 1,\n",
              "        5, 5, 9, 8, 4, 4, 9, 1, 8, 1, 4, 9, 1, 2, 3, 2, 2, 7, 2, 8, 2, 2, 1, 8,\n",
              "        1, 8, 8, 8, 2, 8, 8, 2, 8, 2, 8, 8, 4, 2, 7, 9, 8, 1, 8, 0, 2, 2, 9, 7,\n",
              "        8, 9, 9, 9, 8, 2, 9, 8, 7, 2, 2, 8, 1, 2, 1, 9, 6, 8, 9, 8, 1, 2, 8, 8,\n",
              "        1, 9, 8, 1, 2, 8, 2, 2])"
            ]
          },
          "metadata": {},
          "execution_count": 34
        }
      ],
      "source": [
        "preds"
      ]
    },
    {
      "cell_type": "code",
      "execution_count": null,
      "metadata": {
        "colab": {
          "base_uri": "https://localhost:8080/"
        },
        "id": "wZB2HL8Uxt7C",
        "outputId": "a8016622-ed7a-4147-cf9f-ad89f53301e2"
      },
      "outputs": [
        {
          "output_type": "execute_result",
          "data": {
            "text/plain": [
              "tensor([False, False, False, False, False, False, False, False, False, False,\n",
              "        False, False, False, False, False, False,  True, False, False, False,\n",
              "        False, False, False, False, False, False,  True, False, False, False,\n",
              "        False, False, False, False, False, False, False, False, False, False,\n",
              "        False,  True, False, False, False, False, False, False, False, False,\n",
              "        False, False, False, False, False, False, False, False, False,  True,\n",
              "         True, False, False, False, False, False, False, False, False, False,\n",
              "        False,  True, False, False, False, False, False, False, False, False,\n",
              "        False, False, False, False, False, False, False, False, False,  True,\n",
              "         True, False, False, False, False, False, False,  True, False, False,\n",
              "         True, False, False, False, False, False, False,  True, False, False,\n",
              "        False, False, False, False, False, False, False, False, False,  True,\n",
              "        False, False, False, False, False,  True, False, False])"
            ]
          },
          "metadata": {},
          "execution_count": 35
        }
      ],
      "source": [
        "preds == labels"
      ]
    },
    {
      "cell_type": "markdown",
      "metadata": {
        "id": "um3ydVSTyKED"
      },
      "source": [
        "We see how many are true and count them to find our accuracy"
      ]
    },
    {
      "cell_type": "code",
      "execution_count": null,
      "metadata": {
        "colab": {
          "base_uri": "https://localhost:8080/"
        },
        "id": "Ty28gsdAxwV2",
        "outputId": "6f010436-4ba6-46a2-ab15-46bc1d31e443"
      },
      "outputs": [
        {
          "output_type": "execute_result",
          "data": {
            "text/plain": [
              "tensor(13)"
            ]
          },
          "metadata": {},
          "execution_count": 36
        }
      ],
      "source": [
        "torch.sum(preds==labels)"
      ]
    },
    {
      "cell_type": "code",
      "execution_count": null,
      "metadata": {
        "colab": {
          "base_uri": "https://localhost:8080/"
        },
        "id": "5UwygyIRx0s0",
        "outputId": "b5707874-6aac-4195-da59-48d3f4e5e24f"
      },
      "outputs": [
        {
          "output_type": "execute_result",
          "data": {
            "text/plain": [
              "13"
            ]
          },
          "metadata": {},
          "execution_count": 37
        }
      ],
      "source": [
        "# converting tensor to scalar\n",
        "torch.sum(preds==labels).item()"
      ]
    },
    {
      "cell_type": "code",
      "execution_count": null,
      "metadata": {
        "id": "z8Wu1Hijwtwn"
      },
      "outputs": [],
      "source": [
        "def accuracy(outputs, labels):\n",
        "  _, preds = torch.max(outputs, dim=1)\n",
        "  return torch.tensor(torch.sum(preds==labels).item()/len(preds))"
      ]
    },
    {
      "cell_type": "code",
      "execution_count": null,
      "metadata": {
        "colab": {
          "base_uri": "https://localhost:8080/"
        },
        "id": "yEK4OeNoxHzn",
        "outputId": "bbe8293e-1859-4be2-f7ff-d2f806b6f12b"
      },
      "outputs": [
        {
          "output_type": "execute_result",
          "data": {
            "text/plain": [
              "tensor(0.1016)"
            ]
          },
          "metadata": {},
          "execution_count": 39
        }
      ],
      "source": [
        "accuracy(outputs, labels)"
      ]
    },
    {
      "cell_type": "markdown",
      "metadata": {
        "id": "B_-aEA3nyfqr"
      },
      "source": [
        "Accuracy is an excellent way for us (humans) to evaluate the model. However, we can't use it as a loss function for optimizing our model using gradient descent for the following reasons:\n",
        "1. It's not differentiable function. `torch.sum` and `==` are both non-continuous and non-differentiable operations, so we can't use the accuracy for computing gradients w.r.t the weights and biases.\n",
        "2. It dosen't take into account the actual proabilities predicted by the model, so it can't provide sufficient feedback for incremental improvements.\n",
        "\n",
        "For, these reasons, accuracy is often used as an **evaluation metric** for classification, but not as a loss function. A commonly used loss function for classification is the **cross-entropy**, which has the following formula:\n",
        "\\begin{equation} {D(\\hat{y},y) =  -\\sum_j y_jln\\hat{y_j}  } \\end{equation}\n",
        "* If the probability is close to 1 then logarithm is close to 0.\n",
        "* If probability is close to 0 then logarithm is a large negative value.\n",
        "* Hence we multiply the result with -1 an it can be considered as a loss.\n",
        "* Finally, we take the average of the cross entropy across all the output rows to get the overall loss for a batch of data.\n",
        "\n",
        "Unlike accuracy, cross-entropy is a continuous and differentiable function. It also provides useful feedback for incremental improvements in the model (a slightly higher probability for the correct label leads to a lower loss). These two factors make cross-entropy a better choice for the loss function.\n",
        "\n",
        "PyTorch provides an efficient and tensor-friendly implementation of cross-entropy as part of `torch.nn.functional` package. It also performs softmax internally, so we can directly pass in the model's outputs without converting them into probabilities."
      ]
    },
    {
      "cell_type": "code",
      "execution_count": null,
      "metadata": {
        "id": "FI15I1Nnxkeb"
      },
      "outputs": [],
      "source": [
        "loss_fn = F.cross_entropy"
      ]
    },
    {
      "cell_type": "code",
      "execution_count": null,
      "metadata": {
        "colab": {
          "base_uri": "https://localhost:8080/"
        },
        "id": "A5oV5Dbp3AZM",
        "outputId": "c296b124-d0dc-4ce1-b27b-c8da84adc45e"
      },
      "outputs": [
        {
          "output_type": "stream",
          "name": "stdout",
          "text": [
            "tensor(2.3132, grad_fn=<NllLossBackward0>)\n"
          ]
        }
      ],
      "source": [
        "loss = loss_fn(outputs, labels)\n",
        "print(loss)"
      ]
    },
    {
      "cell_type": "markdown",
      "metadata": {
        "id": "vmOEkQQd3ZWO"
      },
      "source": [
        "## **Training the model**\n",
        "Training process is similar to linear regression, with the addition of a \"validation phase\" to evaluate the model in each epoch. Below is a pseudocede for the same. \n",
        "\n",
        "    for epoch in range(num_epochs):\n",
        "    \n",
        "      # training phase\n",
        "      for batch in train_loader:\n",
        "\n",
        "        # generate predictions\n",
        "        # calculate loss\n",
        "        # compute gradient\n",
        "        # update weights\n",
        "        # reset gradients\n",
        "\n",
        "      # validation phase\n",
        "      for batch in val_loader:\n",
        "\n",
        "        # generate predictions\n",
        "        # calculate loss\n",
        "        # calculate metrics (accuracy etc.)\n",
        "\n",
        "      # calculcate average validation loss & metrics\n",
        "      # log epoch, loss & metrics for inspection"
      ]
    },
    {
      "cell_type": "markdown",
      "metadata": {
        "id": "9_B3sVTC6-yR"
      },
      "source": [
        "* Some parts of the training loop are specific to the problem we are solving (e.g. loss function, metrics, etc.) whereas others are generic and can be applied to any deep learning problem.\n",
        "* We'll include the problem-independent parts within a function called `fit`, which will be used to train the model. The problem-specific parts will be implemented by adding new methods to the `nn.Module` class."
      ]
    },
    {
      "cell_type": "code",
      "execution_count": null,
      "metadata": {
        "id": "q3CCI2Gg7l5C"
      },
      "outputs": [],
      "source": [
        "def fit(epochs, lr, model, train_loader, val_loader, opt_func=torch.optim.SGD):\n",
        "  optimizer = opt_func(model.parameters(), lr)\n",
        "  history = [] # for recording epoch-wise reuslts\n",
        "\n",
        "  for epoch in range(epochs):\n",
        "\n",
        "    # training phase\n",
        "    for batch in val_loader:\n",
        "      loss = model.training_step(batch)\n",
        "      loss.backward()\n",
        "      optimizer.step()\n",
        "      optimizer.zero_grad()\n",
        "\n",
        "    # valitation phase\n",
        "    result = evaluate(model, val_loader)\n",
        "    model.epoch_end(epoch, result)\n",
        "    history.append(result)\n",
        "\n",
        "  return history"
      ]
    },
    {
      "cell_type": "markdown",
      "metadata": {
        "id": "fMWB4foA-BkL"
      },
      "source": [
        "* The `fit` function recors the validation loss and metric from each epoch. It returns a history of the training, useful for debugging and visualization.\n",
        "* Configurations like batch size, learning rate, etc are called hyperparameters. These need to picked in advanced while training machine learning models. Choosing the  right hyperparameters is critical for training a reasonably accurate model within a reasonable amount of time.\n",
        "\n",
        "Let's define the `evaluate` function, used in the validation phase of `fit`."
      ]
    },
    {
      "cell_type": "code",
      "execution_count": null,
      "metadata": {
        "id": "arCz_7ci_aEN"
      },
      "outputs": [],
      "source": [
        "def evaluate(model, val_loader):\n",
        "  outputs = [model.validation_step(batch) for batch in val_loader]\n",
        "  return model.validation_epoch_end(outputs)"
      ]
    },
    {
      "cell_type": "markdown",
      "metadata": {
        "id": "LSpNmcbU_9TF"
      },
      "source": [
        "Finally, let's redefine the `MnistModel` class to include additional methods `training_step`, `validation_step`, `validation_epoch_end` and `epoch_end` used by `fit` and `evaluate`."
      ]
    },
    {
      "cell_type": "code",
      "execution_count": null,
      "metadata": {
        "id": "1chCW0xhAVlo"
      },
      "outputs": [],
      "source": [
        "class MnistModel(nn.Module):\n",
        "  def __init__(self):\n",
        "    super().__init__()\n",
        "    self.linear = nn.Linear(input_size, num_classes)\n",
        "\n",
        "  def forward(self, xb):\n",
        "     xb = xb.reshape(-1, 784)\n",
        "     out = self.linear(xb)\n",
        "     return out\n",
        "\n",
        "  def training_step(self, batch):\n",
        "    images, labels = batch\n",
        "    out = self(images)                    # generate predictions\n",
        "    loss = F.cross_entropy(out, labels)   # calculate loss\n",
        "    return loss\n",
        "\n",
        "  def validation_step(self, batch):\n",
        "    images, labels = batch\n",
        "    out = self(images)                    # generate predictions\n",
        "    loss = F.cross_entropy(out, labels)   # calculate loss\n",
        "    acc = accuracy(out, labels)           # calculate accuracy\n",
        "    return {'val_loss': loss, 'val_acc': acc}\n",
        "\n",
        "  def validation_epoch_end(self, outputs):\n",
        "    batch_losses = [x['val_loss'] for x in outputs]\n",
        "    epoch_loss = torch.stack(batch_losses).mean()   # combine losses\n",
        "    batch_accs = [x['val_acc'] for x in outputs]\n",
        "    epoch_acc = torch.stack(batch_accs).mean()      # combine accuracies\n",
        "    return {'val_loss':epoch_loss.item(), 'val_acc':epoch_acc.item()}\n",
        "\n",
        "  def epoch_end(self, epoch, results):\n",
        "    print(\"Epoch [{}], val_loss: {:.4f}, val_acc: {:.4f}\".format(epoch, results['val_loss'], results['val_acc']))\n",
        "\n",
        "\n",
        "model = MnistModel()"
      ]
    },
    {
      "cell_type": "markdown",
      "metadata": {
        "id": "E6Tn7urxD3yF"
      },
      "source": [
        "Before we train the model, let's see how the model performs on the validation set with the initial set of randomly initialized weights and biases"
      ]
    },
    {
      "cell_type": "code",
      "execution_count": null,
      "metadata": {
        "colab": {
          "base_uri": "https://localhost:8080/"
        },
        "id": "QXvXn0lWD2Lm",
        "outputId": "7ecace35-cd68-4ba8-8dd3-ed37e29ccbd8"
      },
      "outputs": [
        {
          "output_type": "execute_result",
          "data": {
            "text/plain": [
              "{'val_acc': 0.09849683195352554, 'val_loss': 2.3161683082580566}"
            ]
          },
          "metadata": {},
          "execution_count": 45
        }
      ],
      "source": [
        "result0 = evaluate(model, val_loader)\n",
        "result0"
      ]
    },
    {
      "cell_type": "markdown",
      "metadata": {
        "id": "_xaLLHqQE2bq"
      },
      "source": [
        "The initial accuracy is around 7%"
      ]
    },
    {
      "cell_type": "code",
      "execution_count": null,
      "metadata": {
        "colab": {
          "base_uri": "https://localhost:8080/"
        },
        "id": "x2mVKy_EEma7",
        "outputId": "4245accb-2dda-4238-8996-c5fd3e0b11cc"
      },
      "outputs": [
        {
          "output_type": "stream",
          "name": "stdout",
          "text": [
            "Epoch [0], val_loss: 2.2268, val_acc: 0.1764\n",
            "Epoch [1], val_loss: 2.1467, val_acc: 0.3223\n",
            "Epoch [2], val_loss: 2.0729, val_acc: 0.4396\n",
            "Epoch [3], val_loss: 2.0042, val_acc: 0.5315\n",
            "Epoch [4], val_loss: 1.9399, val_acc: 0.5938\n"
          ]
        }
      ],
      "source": [
        "history1 = fit(5, 0.001, model, train_loader, val_loader)"
      ]
    },
    {
      "cell_type": "markdown",
      "metadata": {
        "id": "jKLxc5mNGNao"
      },
      "source": [
        "With just 5 epochs of training, our model has reached an accuracy of 63% on the validation set."
      ]
    },
    {
      "cell_type": "code",
      "execution_count": null,
      "metadata": {
        "colab": {
          "base_uri": "https://localhost:8080/"
        },
        "id": "JOEd4D0-FXvo",
        "outputId": "ac883274-b499-4378-9de2-e5a0c78b9f61"
      },
      "outputs": [
        {
          "output_type": "stream",
          "name": "stdout",
          "text": [
            "Epoch [0], val_loss: 1.8794, val_acc: 0.6401\n",
            "Epoch [1], val_loss: 1.8225, val_acc: 0.6713\n",
            "Epoch [2], val_loss: 1.7689, val_acc: 0.6930\n",
            "Epoch [3], val_loss: 1.7183, val_acc: 0.7100\n",
            "Epoch [4], val_loss: 1.6707, val_acc: 0.7223\n"
          ]
        }
      ],
      "source": [
        "history2 = fit(5, 0.001, model, train_loader, val_loader)"
      ]
    },
    {
      "cell_type": "code",
      "execution_count": null,
      "metadata": {
        "colab": {
          "base_uri": "https://localhost:8080/"
        },
        "id": "SKth9RiuGgWR",
        "outputId": "cfb0a72c-370f-460f-8024-4aff88c86e48"
      },
      "outputs": [
        {
          "output_type": "stream",
          "name": "stdout",
          "text": [
            "Epoch [0], val_loss: 1.6258, val_acc: 0.7314\n",
            "Epoch [1], val_loss: 1.5835, val_acc: 0.7393\n",
            "Epoch [2], val_loss: 1.5435, val_acc: 0.7468\n",
            "Epoch [3], val_loss: 1.5058, val_acc: 0.7538\n",
            "Epoch [4], val_loss: 1.4702, val_acc: 0.7586\n"
          ]
        }
      ],
      "source": [
        "history3 = fit(5, 0.001, model, train_loader, val_loader)"
      ]
    },
    {
      "cell_type": "code",
      "execution_count": null,
      "metadata": {
        "colab": {
          "base_uri": "https://localhost:8080/"
        },
        "id": "IGIfPJqgGliq",
        "outputId": "8e9d92e9-40a6-41a5-dfc3-563a0df7396b"
      },
      "outputs": [
        {
          "output_type": "stream",
          "name": "stdout",
          "text": [
            "Epoch [0], val_loss: 1.4365, val_acc: 0.7647\n",
            "Epoch [1], val_loss: 1.4047, val_acc: 0.7707\n",
            "Epoch [2], val_loss: 1.3745, val_acc: 0.7742\n",
            "Epoch [3], val_loss: 1.3460, val_acc: 0.7784\n",
            "Epoch [4], val_loss: 1.3189, val_acc: 0.7819\n"
          ]
        }
      ],
      "source": [
        "history4 = fit(5, 0.001, model, train_loader, val_loader)"
      ]
    },
    {
      "cell_type": "code",
      "execution_count": null,
      "metadata": {
        "colab": {
          "base_uri": "https://localhost:8080/"
        },
        "id": "ofdV1hBPGrY_",
        "outputId": "e7715609-92ae-45e7-ef46-c1df3bfbf27a"
      },
      "outputs": [
        {
          "output_type": "stream",
          "name": "stdout",
          "text": [
            "Epoch [0], val_loss: 1.2932, val_acc: 0.7847\n",
            "Epoch [1], val_loss: 1.2688, val_acc: 0.7871\n",
            "Epoch [2], val_loss: 1.2457, val_acc: 0.7901\n",
            "Epoch [3], val_loss: 1.2236, val_acc: 0.7932\n",
            "Epoch [4], val_loss: 1.2026, val_acc: 0.7958\n"
          ]
        }
      ],
      "source": [
        "history5 = fit(5, 0.001, model, train_loader, val_loader)"
      ]
    },
    {
      "cell_type": "code",
      "execution_count": null,
      "metadata": {
        "colab": {
          "base_uri": "https://localhost:8080/"
        },
        "id": "DnZvFdwNGxLm",
        "outputId": "b51982db-4b44-47da-a752-da91a4f45d6d"
      },
      "outputs": [
        {
          "output_type": "stream",
          "name": "stdout",
          "text": [
            "Epoch [0], val_loss: 1.1826, val_acc: 0.7976\n",
            "Epoch [1], val_loss: 1.1635, val_acc: 0.7999\n",
            "Epoch [2], val_loss: 1.1453, val_acc: 0.8024\n",
            "Epoch [3], val_loss: 1.1278, val_acc: 0.8052\n",
            "Epoch [4], val_loss: 1.1112, val_acc: 0.8066\n",
            "Epoch [5], val_loss: 1.0953, val_acc: 0.8082\n",
            "Epoch [6], val_loss: 1.0800, val_acc: 0.8099\n",
            "Epoch [7], val_loss: 1.0653, val_acc: 0.8122\n",
            "Epoch [8], val_loss: 1.0513, val_acc: 0.8136\n",
            "Epoch [9], val_loss: 1.0378, val_acc: 0.8149\n"
          ]
        }
      ],
      "source": [
        "history6 = fit(10, 0.001, model, train_loader, val_loader)"
      ]
    },
    {
      "cell_type": "code",
      "execution_count": null,
      "metadata": {
        "colab": {
          "base_uri": "https://localhost:8080/",
          "height": 295
        },
        "id": "CdVuidd5Hb1Z",
        "outputId": "baa0438d-dc9b-4875-ab34-2b1f248cd256"
      },
      "outputs": [
        {
          "output_type": "display_data",
          "data": {
            "image/png": "[encoded data removed]",
            "text/plain": [
              "<Figure size 432x288 with 1 Axes>"
            ]
          },
          "metadata": {
            "needs_background": "light"
          }
        }
      ],
      "source": [
        "history = [result0] + history1 + history2 + history3 + history4 + history5 + history6\n",
        "accuracies = [result['val_acc'] for result in history]\n",
        "plt.plot(accuracies, '-x')\n",
        "plt.xlabel('epoch')\n",
        "plt.ylabel('accuracy')\n",
        "plt.title('Accuracy vs No. of epochs');"
      ]
    },
    {
      "cell_type": "markdown",
      "metadata": {
        "id": "AOrmhj_CJazO"
      },
      "source": [
        "## **Testing with individual images**\n",
        "While we have been tracking the overall accuracy of a model so far, it's good idea to look at model's results on some sample images. Let's test our model with some images from the predefined dataset of 10000 images."
      ]
    },
    {
      "cell_type": "code",
      "execution_count": null,
      "metadata": {
        "id": "oi0U6Xs7Jgxy"
      },
      "outputs": [],
      "source": [
        "test_dataset = MNIST(root='data/',\n",
        "                     train=False,\n",
        "                     transform=transforms.ToTensor())"
      ]
    },
    {
      "cell_type": "code",
      "execution_count": null,
      "metadata": {
        "colab": {
          "base_uri": "https://localhost:8080/",
          "height": 300
        },
        "id": "qaCo5kXgovcJ",
        "outputId": "184c9b7f-dd19-44c9-970a-2a7e64709616"
      },
      "outputs": [
        {
          "output_type": "stream",
          "name": "stdout",
          "text": [
            "Shape:  torch.Size([1, 28, 28])\n",
            "Label:  7\n"
          ]
        },
        {
          "output_type": "display_data",
          "data": {
            "image/png": "[encoded data removed]",
            "text/plain": [
              "<Figure size 432x288 with 1 Axes>"
            ]
          },
          "metadata": {
            "needs_background": "light"
          }
        }
      ],
      "source": [
        "img, label = test_dataset[0]\n",
        "plt.imshow(img[0], cmap='gray')\n",
        "print('Shape: ', img.shape)\n",
        "print('Label: ', label)"
      ]
    },
    {
      "cell_type": "markdown",
      "metadata": {
        "id": "zlc-wa1LpC-B"
      },
      "source": [
        "Let's define a helper function `predict_image`, which returms the predicted label for a single image tensor"
      ]
    },
    {
      "cell_type": "code",
      "execution_count": null,
      "metadata": {
        "colab": {
          "base_uri": "https://localhost:8080/"
        },
        "id": "YD4_jBi_peeC",
        "outputId": "e4795e0a-855e-48b1-8b6e-370525a6f5de"
      },
      "outputs": [
        {
          "output_type": "execute_result",
          "data": {
            "text/plain": [
              "torch.Size([1, 1, 28, 28])"
            ]
          },
          "metadata": {},
          "execution_count": 55
        }
      ],
      "source": [
        "img.unsqueeze(0).shape"
      ]
    },
    {
      "cell_type": "markdown",
      "metadata": {
        "id": "ZlbD4zpIpkbU"
      },
      "source": [
        "* We use `.unsqueeze` to add another dimesion at the begining of the image to make it 1x1x28x28.\n",
        "* This is done because our model accepts only batch of data so we convert our image to a batch containing one imag only."
      ]
    },
    {
      "cell_type": "code",
      "execution_count": null,
      "metadata": {
        "id": "d_3nvvtao9pq"
      },
      "outputs": [],
      "source": [
        "def predict_image(img, model):\n",
        "  xb = img.unsqueeze(0)\n",
        "  yb = model(xb)\n",
        "  _, preds = torch.max(yb, dim=1)\n",
        "  return preds[0].item()"
      ]
    },
    {
      "cell_type": "code",
      "execution_count": null,
      "metadata": {
        "colab": {
          "base_uri": "https://localhost:8080/",
          "height": 282
        },
        "id": "IF9CrP2BqWrF",
        "outputId": "58b676d8-1948-4008-a227-3801acf5f2ba"
      },
      "outputs": [
        {
          "output_type": "stream",
          "name": "stdout",
          "text": [
            "Label: 7 Predicted: 7\n"
          ]
        },
        {
          "output_type": "display_data",
          "data": {
            "image/png": "[encoded data removed]",
            "text/plain": [
              "<Figure size 432x288 with 1 Axes>"
            ]
          },
          "metadata": {
            "needs_background": "light"
          }
        }
      ],
      "source": [
        "img, label = test_dataset[0]\n",
        "plt.imshow(img[0], cmap='gray')\n",
        "print('Label:', label, 'Predicted:', predict_image(img, model))"
      ]
    },
    {
      "cell_type": "code",
      "execution_count": null,
      "metadata": {
        "colab": {
          "base_uri": "https://localhost:8080/",
          "height": 282
        },
        "id": "2a8i9LePrAGn",
        "outputId": "8c7b98b2-d191-428e-b7f6-ce9efcf262ec"
      },
      "outputs": [
        {
          "output_type": "stream",
          "name": "stdout",
          "text": [
            "Label: 0 Predicted: 0\n"
          ]
        },
        {
          "output_type": "display_data",
          "data": {
            "image/png": "[encoded data removed]",
            "text/plain": [
              "<Figure size 432x288 with 1 Axes>"
            ]
          },
          "metadata": {
            "needs_background": "light"
          }
        }
      ],
      "source": [
        "img, label = test_dataset[10]\n",
        "plt.imshow(img[0], cmap='gray')\n",
        "print('Label:', label, 'Predicted:', predict_image(img, model))"
      ]
    },
    {
      "cell_type": "code",
      "execution_count": null,
      "metadata": {
        "colab": {
          "base_uri": "https://localhost:8080/",
          "height": 282
        },
        "id": "yE-ijqZBrEZW",
        "outputId": "c802b3a2-ea35-4872-c6ce-cf5d576ad53b"
      },
      "outputs": [
        {
          "output_type": "stream",
          "name": "stdout",
          "text": [
            "Label: 9 Predicted: 3\n"
          ]
        },
        {
          "output_type": "display_data",
          "data": {
            "image/png": "[encoded data removed]",
            "text/plain": [
              "<Figure size 432x288 with 1 Axes>"
            ]
          },
          "metadata": {
            "needs_background": "light"
          }
        }
      ],
      "source": [
        "img, label = test_dataset[193]\n",
        "plt.imshow(img[0], cmap='gray')\n",
        "print('Label:', label, 'Predicted:', predict_image(img, model))"
      ]
    },
    {
      "cell_type": "code",
      "execution_count": null,
      "metadata": {
        "colab": {
          "base_uri": "https://localhost:8080/",
          "height": 282
        },
        "id": "Nn7d0lg4rH7h",
        "outputId": "e579b4c1-9490-449e-beac-6b3217716178"
      },
      "outputs": [
        {
          "output_type": "stream",
          "name": "stdout",
          "text": [
            "Label: 2 Predicted: 8\n"
          ]
        },
        {
          "output_type": "display_data",
          "data": {
            "image/png": "[encoded data removed]",
            "text/plain": [
              "<Figure size 432x288 with 1 Axes>"
            ]
          },
          "metadata": {
            "needs_background": "light"
          }
        }
      ],
      "source": [
        "img, label = test_dataset[1839]\n",
        "plt.imshow(img[0], cmap='gray')\n",
        "print('Label:', label, 'Predicted:', predict_image(img, model))"
      ]
    },
    {
      "cell_type": "markdown",
      "metadata": {
        "id": "w-lmX34jrjcw"
      },
      "source": [
        "As a final step, let's also look at the overall loss and accuracy of the model on the test set."
      ]
    },
    {
      "cell_type": "code",
      "execution_count": null,
      "metadata": {
        "colab": {
          "base_uri": "https://localhost:8080/"
        },
        "id": "B3WArrNBrLL8",
        "outputId": "06508033-703d-4fdc-8f43-f0e3bbeebee5"
      },
      "outputs": [
        {
          "output_type": "execute_result",
          "data": {
            "text/plain": [
              "{'val_acc': 0.8211914300918579, 'val_loss': 1.0142923593521118}"
            ]
          },
          "metadata": {},
          "execution_count": 61
        }
      ],
      "source": [
        "test_loader = DataLoader(test_dataset, batch_size=256)\n",
        "result = evaluate(model, test_loader)\n",
        "result"
      ]
    },
    {
      "cell_type": "markdown",
      "metadata": {
        "id": "7bYyIuHcsCar"
      },
      "source": [
        "We expect this to be similar to the accuracy/loss on the validation set. If, not we might need a better validation set that has similar data and distribution as the test set(which ofter comes from real world data)."
      ]
    },
    {
      "cell_type": "markdown",
      "metadata": {
        "id": "TH3e6l8_r9ax"
      },
      "source": [
        "## **Saving and Loading the model**"
      ]
    },
    {
      "cell_type": "code",
      "execution_count": null,
      "metadata": {
        "id": "MAz-wI5Ir0e9"
      },
      "outputs": [],
      "source": [
        "torch.save(model.state_dict(), 'mnist-logistic.pth')"
      ]
    },
    {
      "cell_type": "markdown",
      "metadata": {
        "id": "9Wp8LBNzsvc1"
      },
      "source": [
        "The `.state_dict` method returns an `OrderedDict` containing all the weights and bias matrices mapped to the right attributes of the model."
      ]
    },
    {
      "cell_type": "code",
      "execution_count": null,
      "metadata": {
        "colab": {
          "base_uri": "https://localhost:8080/"
        },
        "id": "aA4xmeu3spFb",
        "outputId": "f726f3cf-d93f-40cc-e6b3-75a3521da816"
      },
      "outputs": [
        {
          "output_type": "execute_result",
          "data": {
            "text/plain": [
              "OrderedDict([('linear.weight',\n",
              "              tensor([[-0.0229,  0.0040,  0.0324,  ..., -0.0208,  0.0111, -0.0053],\n",
              "                      [-0.0301,  0.0297,  0.0152,  ..., -0.0268,  0.0037,  0.0161],\n",
              "                      [ 0.0251,  0.0040,  0.0094,  ..., -0.0013,  0.0354,  0.0276],\n",
              "                      ...,\n",
              "                      [ 0.0335,  0.0070, -0.0178,  ...,  0.0244,  0.0047,  0.0338],\n",
              "                      [ 0.0220, -0.0263,  0.0208,  ...,  0.0163,  0.0046, -0.0097],\n",
              "                      [-0.0277, -0.0262, -0.0344,  ..., -0.0140, -0.0008, -0.0339]])),\n",
              "             ('linear.bias',\n",
              "              tensor([-0.0412,  0.0486,  0.0006,  0.0111,  0.0010,  0.0248,  0.0072,  0.0032,\n",
              "                      -0.0190,  0.0236]))])"
            ]
          },
          "metadata": {},
          "execution_count": 63
        }
      ],
      "source": [
        "model.state_dict()"
      ]
    },
    {
      "cell_type": "markdown",
      "metadata": {
        "id": "BGh2AEcFtDtI"
      },
      "source": [
        "To load the model weights, we can instantiate a new object of the class `MnistModel`, and use the `.load_state_dict` method."
      ]
    },
    {
      "cell_type": "code",
      "execution_count": null,
      "metadata": {
        "colab": {
          "base_uri": "https://localhost:8080/"
        },
        "id": "0AEjc8RSs-Da",
        "outputId": "48dab26c-e0e4-4a8c-e160-b60a85606015"
      },
      "outputs": [
        {
          "output_type": "stream",
          "name": "stdout",
          "text": [
            "OrderedDict([('linear.weight', tensor([[-0.0279,  0.0340,  0.0119,  ...,  0.0325, -0.0349, -0.0176],\n",
            "        [-0.0291,  0.0182,  0.0103,  ..., -0.0160,  0.0163,  0.0129],\n",
            "        [-0.0093, -0.0355, -0.0201,  ...,  0.0001,  0.0296, -0.0225],\n",
            "        ...,\n",
            "        [ 0.0352,  0.0102,  0.0275,  ..., -0.0083,  0.0135, -0.0103],\n",
            "        [ 0.0114, -0.0047, -0.0159,  ...,  0.0133,  0.0334, -0.0354],\n",
            "        [ 0.0318, -0.0270,  0.0314,  ...,  0.0111, -0.0272,  0.0339]])), ('linear.bias', tensor([-0.0209,  0.0113, -0.0296, -0.0218, -0.0224, -0.0239, -0.0234,  0.0049,\n",
            "         0.0351, -0.0110]))])\n"
          ]
        },
        {
          "output_type": "execute_result",
          "data": {
            "text/plain": [
              "OrderedDict([('linear.weight',\n",
              "              tensor([[-0.0229,  0.0040,  0.0324,  ..., -0.0208,  0.0111, -0.0053],\n",
              "                      [-0.0301,  0.0297,  0.0152,  ..., -0.0268,  0.0037,  0.0161],\n",
              "                      [ 0.0251,  0.0040,  0.0094,  ..., -0.0013,  0.0354,  0.0276],\n",
              "                      ...,\n",
              "                      [ 0.0335,  0.0070, -0.0178,  ...,  0.0244,  0.0047,  0.0338],\n",
              "                      [ 0.0220, -0.0263,  0.0208,  ...,  0.0163,  0.0046, -0.0097],\n",
              "                      [-0.0277, -0.0262, -0.0344,  ..., -0.0140, -0.0008, -0.0339]])),\n",
              "             ('linear.bias',\n",
              "              tensor([-0.0412,  0.0486,  0.0006,  0.0111,  0.0010,  0.0248,  0.0072,  0.0032,\n",
              "                      -0.0190,  0.0236]))])"
            ]
          },
          "metadata": {},
          "execution_count": 64
        }
      ],
      "source": [
        "model2 = MnistModel()\n",
        "print(model2.state_dict())\n",
        "model2.load_state_dict(torch.load('mnist-logistic.pth'))\n",
        "model2.state_dict()"
      ]
    },
    {
      "cell_type": "markdown",
      "metadata": {
        "id": "sosGFihpuEOP"
      },
      "source": [
        "Verify if it gives the same result as previous model or not."
      ]
    },
    {
      "cell_type": "code",
      "execution_count": null,
      "metadata": {
        "colab": {
          "base_uri": "https://localhost:8080/"
        },
        "id": "b5oq51Y-t32T",
        "outputId": "4d26302d-ab7e-4127-afec-290b59472cd9"
      },
      "outputs": [
        {
          "output_type": "execute_result",
          "data": {
            "text/plain": [
              "{'val_acc': 0.8211914300918579, 'val_loss': 1.0142923593521118}"
            ]
          },
          "metadata": {},
          "execution_count": 65
        }
      ],
      "source": [
        "test_loader = DataLoader(test_dataset, batch_size=256)\n",
        "result = evaluate(model2, test_loader)\n",
        "result"
      ]
    }
  ],
  "metadata": {
    "colab": {
      "collapsed_sections": [],
      "provenance": [],
      "authorship_tag": "ABX9TyPDJpviRtAUT2OFZe6jI5Hp",
      "include_colab_link": true
    },
    "kernelspec": {
      "display_name": "Python 3",
      "name": "python3"
    },
    "language_info": {
      "name": "python"
    },
    "widgets": {
      "application/vnd.jupyter.widget-state+json": {
        "274e2ee38c5241d18580fa93cb1b625d": {
          "model_module": "@jupyter-widgets/controls",
          "model_name": "HBoxModel",
          "model_module_version": "1.5.0",
          "state": {
            "_view_name": "HBoxView",
            "_dom_classes": [],
            "_model_name": "HBoxModel",
            "_view_module": "@jupyter-widgets/controls",
            "_model_module_version": "1.5.0",
            "_view_count": null,
            "_view_module_version": "1.5.0",
            "box_style": "",
            "layout": "IPY_MODEL_f8aa102203874a138a93cd907ca1ca58",
            "_model_module": "@jupyter-widgets/controls",
            "children": [
              "IPY_MODEL_aff8b3e224504cc1bb715650295c567e",
              "IPY_MODEL_0a8e3e84b58d42bea2988c7788261992",
              "IPY_MODEL_7b8e7e16d9224325b4c91a45330251cb"
            ]
          }
        },
        "f8aa102203874a138a93cd907ca1ca58": {
          "model_module": "@jupyter-widgets/base",
          "model_name": "LayoutModel",
          "model_module_version": "1.2.0",
          "state": {
            "_view_name": "LayoutView",
            "grid_template_rows": null,
            "right": null,
            "justify_content": null,
            "_view_module": "@jupyter-widgets/base",
            "overflow": null,
            "_model_module_version": "1.2.0",
            "_view_count": null,
            "flex_flow": null,
            "width": null,
            "min_width": null,
            "border": null,
            "align_items": null,
            "bottom": null,
            "_model_module": "@jupyter-widgets/base",
            "top": null,
            "grid_column": null,
            "overflow_y": null,
            "overflow_x": null,
            "grid_auto_flow": null,
            "grid_area": null,
            "grid_template_columns": null,
            "flex": null,
            "_model_name": "LayoutModel",
            "justify_items": null,
            "grid_row": null,
            "max_height": null,
            "align_content": null,
            "visibility": null,
            "align_self": null,
            "height": null,
            "min_height": null,
            "padding": null,
            "grid_auto_rows": null,
            "grid_gap": null,
            "max_width": null,
            "order": null,
            "_view_module_version": "1.2.0",
            "grid_template_areas": null,
            "object_position": null,
            "object_fit": null,
            "grid_auto_columns": null,
            "margin": null,
            "display": null,
            "left": null
          }
        },
        "aff8b3e224504cc1bb715650295c567e": {
          "model_module": "@jupyter-widgets/controls",
          "model_name": "HTMLModel",
          "model_module_version": "1.5.0",
          "state": {
            "_view_name": "HTMLView",
            "style": "IPY_MODEL_172c779b8f48457e9b441e0129a23e8b",
            "_dom_classes": [],
            "description": "",
            "_model_name": "HTMLModel",
            "placeholder": "​",
            "_view_module": "@jupyter-widgets/controls",
            "_model_module_version": "1.5.0",
            "value": "",
            "_view_count": null,
            "_view_module_version": "1.5.0",
            "description_tooltip": null,
            "_model_module": "@jupyter-widgets/controls",
            "layout": "IPY_MODEL_403b1df6237c4f219d41f85228b46fdc"
          }
        },
        "0a8e3e84b58d42bea2988c7788261992": {
          "model_module": "@jupyter-widgets/controls",
          "model_name": "FloatProgressModel",
          "model_module_version": "1.5.0",
          "state": {
            "_view_name": "ProgressView",
            "style": "IPY_MODEL_8abd055e794944738fa029803a0fefa3",
            "_dom_classes": [],
            "description": "",
            "_model_name": "FloatProgressModel",
            "bar_style": "success",
            "max": 9912422,
            "_view_module": "@jupyter-widgets/controls",
            "_model_module_version": "1.5.0",
            "value": 9912422,
            "_view_count": null,
            "_view_module_version": "1.5.0",
            "orientation": "horizontal",
            "min": 0,
            "description_tooltip": null,
            "_model_module": "@jupyter-widgets/controls",
            "layout": "IPY_MODEL_a9fdbd805bfd4027822d9a94de696c2e"
          }
        },
        "7b8e7e16d9224325b4c91a45330251cb": {
          "model_module": "@jupyter-widgets/controls",
          "model_name": "HTMLModel",
          "model_module_version": "1.5.0",
          "state": {
            "_view_name": "HTMLView",
            "style": "IPY_MODEL_2273d4821e0f4b7b852100c2309b9881",
            "_dom_classes": [],
            "description": "",
            "_model_name": "HTMLModel",
            "placeholder": "​",
            "_view_module": "@jupyter-widgets/controls",
            "_model_module_version": "1.5.0",
            "value": " 9913344/? [00:00&lt;00:00, 15921857.93it/s]",
            "_view_count": null,
            "_view_module_version": "1.5.0",
            "description_tooltip": null,
            "_model_module": "@jupyter-widgets/controls",
            "layout": "IPY_MODEL_3d883e715bf44dd193a7f21beccdea5f"
          }
        },
        "172c779b8f48457e9b441e0129a23e8b": {
          "model_module": "@jupyter-widgets/controls",
          "model_name": "DescriptionStyleModel",
          "model_module_version": "1.5.0",
          "state": {
            "_view_name": "StyleView",
            "_model_name": "DescriptionStyleModel",
            "description_width": "",
            "_view_module": "@jupyter-widgets/base",
            "_model_module_version": "1.5.0",
            "_view_count": null,
            "_view_module_version": "1.2.0",
            "_model_module": "@jupyter-widgets/controls"
          }
        },
        "403b1df6237c4f219d41f85228b46fdc": {
          "model_module": "@jupyter-widgets/base",
          "model_name": "LayoutModel",
          "model_module_version": "1.2.0",
          "state": {
            "_view_name": "LayoutView",
            "grid_template_rows": null,
            "right": null,
            "justify_content": null,
            "_view_module": "@jupyter-widgets/base",
            "overflow": null,
            "_model_module_version": "1.2.0",
            "_view_count": null,
            "flex_flow": null,
            "width": null,
            "min_width": null,
            "border": null,
            "align_items": null,
            "bottom": null,
            "_model_module": "@jupyter-widgets/base",
            "top": null,
            "grid_column": null,
            "overflow_y": null,
            "overflow_x": null,
            "grid_auto_flow": null,
            "grid_area": null,
            "grid_template_columns": null,
            "flex": null,
            "_model_name": "LayoutModel",
            "justify_items": null,
            "grid_row": null,
            "max_height": null,
            "align_content": null,
            "visibility": null,
            "align_self": null,
            "height": null,
            "min_height": null,
            "padding": null,
            "grid_auto_rows": null,
            "grid_gap": null,
            "max_width": null,
            "order": null,
            "_view_module_version": "1.2.0",
            "grid_template_areas": null,
            "object_position": null,
            "object_fit": null,
            "grid_auto_columns": null,
            "margin": null,
            "display": null,
            "left": null
          }
        },
        "8abd055e794944738fa029803a0fefa3": {
          "model_module": "@jupyter-widgets/controls",
          "model_name": "ProgressStyleModel",
          "model_module_version": "1.5.0",
          "state": {
            "_view_name": "StyleView",
            "_model_name": "ProgressStyleModel",
            "description_width": "",
            "_view_module": "@jupyter-widgets/base",
            "_model_module_version": "1.5.0",
            "_view_count": null,
            "_view_module_version": "1.2.0",
            "bar_color": null,
            "_model_module": "@jupyter-widgets/controls"
          }
        },
        "a9fdbd805bfd4027822d9a94de696c2e": {
          "model_module": "@jupyter-widgets/base",
          "model_name": "LayoutModel",
          "model_module_version": "1.2.0",
          "state": {
            "_view_name": "LayoutView",
            "grid_template_rows": null,
            "right": null,
            "justify_content": null,
            "_view_module": "@jupyter-widgets/base",
            "overflow": null,
            "_model_module_version": "1.2.0",
            "_view_count": null,
            "flex_flow": null,
            "width": null,
            "min_width": null,
            "border": null,
            "align_items": null,
            "bottom": null,
            "_model_module": "@jupyter-widgets/base",
            "top": null,
            "grid_column": null,
            "overflow_y": null,
            "overflow_x": null,
            "grid_auto_flow": null,
            "grid_area": null,
            "grid_template_columns": null,
            "flex": null,
            "_model_name": "LayoutModel",
            "justify_items": null,
            "grid_row": null,
            "max_height": null,
            "align_content": null,
            "visibility": null,
            "align_self": null,
            "height": null,
            "min_height": null,
            "padding": null,
            "grid_auto_rows": null,
            "grid_gap": null,
            "max_width": null,
            "order": null,
            "_view_module_version": "1.2.0",
            "grid_template_areas": null,
            "object_position": null,
            "object_fit": null,
            "grid_auto_columns": null,
            "margin": null,
            "display": null,
            "left": null
          }
        },
        "2273d4821e0f4b7b852100c2309b9881": {
          "model_module": "@jupyter-widgets/controls",
          "model_name": "DescriptionStyleModel",
          "model_module_version": "1.5.0",
          "state": {
            "_view_name": "StyleView",
            "_model_name": "DescriptionStyleModel",
            "description_width": "",
            "_view_module": "@jupyter-widgets/base",
            "_model_module_version": "1.5.0",
            "_view_count": null,
            "_view_module_version": "1.2.0",
            "_model_module": "@jupyter-widgets/controls"
          }
        },
        "3d883e715bf44dd193a7f21beccdea5f": {
          "model_module": "@jupyter-widgets/base",
          "model_name": "LayoutModel",
          "model_module_version": "1.2.0",
          "state": {
            "_view_name": "LayoutView",
            "grid_template_rows": null,
            "right": null,
            "justify_content": null,
            "_view_module": "@jupyter-widgets/base",
            "overflow": null,
            "_model_module_version": "1.2.0",
            "_view_count": null,
            "flex_flow": null,
            "width": null,
            "min_width": null,
            "border": null,
            "align_items": null,
            "bottom": null,
            "_model_module": "@jupyter-widgets/base",
            "top": null,
            "grid_column": null,
            "overflow_y": null,
            "overflow_x": null,
            "grid_auto_flow": null,
            "grid_area": null,
            "grid_template_columns": null,
            "flex": null,
            "_model_name": "LayoutModel",
            "justify_items": null,
            "grid_row": null,
            "max_height": null,
            "align_content": null,
            "visibility": null,
            "align_self": null,
            "height": null,
            "min_height": null,
            "padding": null,
            "grid_auto_rows": null,
            "grid_gap": null,
            "max_width": null,
            "order": null,
            "_view_module_version": "1.2.0",
            "grid_template_areas": null,
            "object_position": null,
            "object_fit": null,
            "grid_auto_columns": null,
            "margin": null,
            "display": null,
            "left": null
          }
        },
        "126951fc220a4ded8dcdec00c247d4b1": {
          "model_module": "@jupyter-widgets/controls",
          "model_name": "HBoxModel",
          "model_module_version": "1.5.0",
          "state": {
            "_view_name": "HBoxView",
            "_dom_classes": [],
            "_model_name": "HBoxModel",
            "_view_module": "@jupyter-widgets/controls",
            "_model_module_version": "1.5.0",
            "_view_count": null,
            "_view_module_version": "1.5.0",
            "box_style": "",
            "layout": "IPY_MODEL_455108df40fd4dc19db148a73e9774de",
            "_model_module": "@jupyter-widgets/controls",
            "children": [
              "IPY_MODEL_201671b5238e4c229948d7d5c626f5cd",
              "IPY_MODEL_83d3220683ab46d08de422ad66def727",
              "IPY_MODEL_22690c50a1c842c4bf885e12cef5bd47"
            ]
          }
        },
        "455108df40fd4dc19db148a73e9774de": {
          "model_module": "@jupyter-widgets/base",
          "model_name": "LayoutModel",
          "model_module_version": "1.2.0",
          "state": {
            "_view_name": "LayoutView",
            "grid_template_rows": null,
            "right": null,
            "justify_content": null,
            "_view_module": "@jupyter-widgets/base",
            "overflow": null,
            "_model_module_version": "1.2.0",
            "_view_count": null,
            "flex_flow": null,
            "width": null,
            "min_width": null,
            "border": null,
            "align_items": null,
            "bottom": null,
            "_model_module": "@jupyter-widgets/base",
            "top": null,
            "grid_column": null,
            "overflow_y": null,
            "overflow_x": null,
            "grid_auto_flow": null,
            "grid_area": null,
            "grid_template_columns": null,
            "flex": null,
            "_model_name": "LayoutModel",
            "justify_items": null,
            "grid_row": null,
            "max_height": null,
            "align_content": null,
            "visibility": null,
            "align_self": null,
            "height": null,
            "min_height": null,
            "padding": null,
            "grid_auto_rows": null,
            "grid_gap": null,
            "max_width": null,
            "order": null,
            "_view_module_version": "1.2.0",
            "grid_template_areas": null,
            "object_position": null,
            "object_fit": null,
            "grid_auto_columns": null,
            "margin": null,
            "display": null,
            "left": null
          }
        },
        "201671b5238e4c229948d7d5c626f5cd": {
          "model_module": "@jupyter-widgets/controls",
          "model_name": "HTMLModel",
          "model_module_version": "1.5.0",
          "state": {
            "_view_name": "HTMLView",
            "style": "IPY_MODEL_cbbc58e7ffcc43489fc9320624a8d533",
            "_dom_classes": [],
            "description": "",
            "_model_name": "HTMLModel",
            "placeholder": "​",
            "_view_module": "@jupyter-widgets/controls",
            "_model_module_version": "1.5.0",
            "value": "",
            "_view_count": null,
            "_view_module_version": "1.5.0",
            "description_tooltip": null,
            "_model_module": "@jupyter-widgets/controls",
            "layout": "IPY_MODEL_634358a70d0d4d61856412ff6cd7f775"
          }
        },
        "83d3220683ab46d08de422ad66def727": {
          "model_module": "@jupyter-widgets/controls",
          "model_name": "FloatProgressModel",
          "model_module_version": "1.5.0",
          "state": {
            "_view_name": "ProgressView",
            "style": "IPY_MODEL_195a02f9aef243b48cd1cff0f32ada62",
            "_dom_classes": [],
            "description": "",
            "_model_name": "FloatProgressModel",
            "bar_style": "success",
            "max": 28881,
            "_view_module": "@jupyter-widgets/controls",
            "_model_module_version": "1.5.0",
            "value": 28881,
            "_view_count": null,
            "_view_module_version": "1.5.0",
            "orientation": "horizontal",
            "min": 0,
            "description_tooltip": null,
            "_model_module": "@jupyter-widgets/controls",
            "layout": "IPY_MODEL_39542b4e551248e8988341af413ac2b4"
          }
        },
        "22690c50a1c842c4bf885e12cef5bd47": {
          "model_module": "@jupyter-widgets/controls",
          "model_name": "HTMLModel",
          "model_module_version": "1.5.0",
          "state": {
            "_view_name": "HTMLView",
            "style": "IPY_MODEL_280ffb8e0f64431dace2085c008fcc63",
            "_dom_classes": [],
            "description": "",
            "_model_name": "HTMLModel",
            "placeholder": "​",
            "_view_module": "@jupyter-widgets/controls",
            "_model_module_version": "1.5.0",
            "value": " 29696/? [00:00&lt;00:00, 6344.00it/s]",
            "_view_count": null,
            "_view_module_version": "1.5.0",
            "description_tooltip": null,
            "_model_module": "@jupyter-widgets/controls",
            "layout": "IPY_MODEL_c0a9d7763c81484e84f347dcc19f6891"
          }
        },
        "cbbc58e7ffcc43489fc9320624a8d533": {
          "model_module": "@jupyter-widgets/controls",
          "model_name": "DescriptionStyleModel",
          "model_module_version": "1.5.0",
          "state": {
            "_view_name": "StyleView",
            "_model_name": "DescriptionStyleModel",
            "description_width": "",
            "_view_module": "@jupyter-widgets/base",
            "_model_module_version": "1.5.0",
            "_view_count": null,
            "_view_module_version": "1.2.0",
            "_model_module": "@jupyter-widgets/controls"
          }
        },
        "634358a70d0d4d61856412ff6cd7f775": {
          "model_module": "@jupyter-widgets/base",
          "model_name": "LayoutModel",
          "model_module_version": "1.2.0",
          "state": {
            "_view_name": "LayoutView",
            "grid_template_rows": null,
            "right": null,
            "justify_content": null,
            "_view_module": "@jupyter-widgets/base",
            "overflow": null,
            "_model_module_version": "1.2.0",
            "_view_count": null,
            "flex_flow": null,
            "width": null,
            "min_width": null,
            "border": null,
            "align_items": null,
            "bottom": null,
            "_model_module": "@jupyter-widgets/base",
            "top": null,
            "grid_column": null,
            "overflow_y": null,
            "overflow_x": null,
            "grid_auto_flow": null,
            "grid_area": null,
            "grid_template_columns": null,
            "flex": null,
            "_model_name": "LayoutModel",
            "justify_items": null,
            "grid_row": null,
            "max_height": null,
            "align_content": null,
            "visibility": null,
            "align_self": null,
            "height": null,
            "min_height": null,
            "padding": null,
            "grid_auto_rows": null,
            "grid_gap": null,
            "max_width": null,
            "order": null,
            "_view_module_version": "1.2.0",
            "grid_template_areas": null,
            "object_position": null,
            "object_fit": null,
            "grid_auto_columns": null,
            "margin": null,
            "display": null,
            "left": null
          }
        },
        "195a02f9aef243b48cd1cff0f32ada62": {
          "model_module": "@jupyter-widgets/controls",
          "model_name": "ProgressStyleModel",
          "model_module_version": "1.5.0",
          "state": {
            "_view_name": "StyleView",
            "_model_name": "ProgressStyleModel",
            "description_width": "",
            "_view_module": "@jupyter-widgets/base",
            "_model_module_version": "1.5.0",
            "_view_count": null,
            "_view_module_version": "1.2.0",
            "bar_color": null,
            "_model_module": "@jupyter-widgets/controls"
          }
        },
        "39542b4e551248e8988341af413ac2b4": {
          "model_module": "@jupyter-widgets/base",
          "model_name": "LayoutModel",
          "model_module_version": "1.2.0",
          "state": {
            "_view_name": "LayoutView",
            "grid_template_rows": null,
            "right": null,
            "justify_content": null,
            "_view_module": "@jupyter-widgets/base",
            "overflow": null,
            "_model_module_version": "1.2.0",
            "_view_count": null,
            "flex_flow": null,
            "width": null,
            "min_width": null,
            "border": null,
            "align_items": null,
            "bottom": null,
            "_model_module": "@jupyter-widgets/base",
            "top": null,
            "grid_column": null,
            "overflow_y": null,
            "overflow_x": null,
            "grid_auto_flow": null,
            "grid_area": null,
            "grid_template_columns": null,
            "flex": null,
            "_model_name": "LayoutModel",
            "justify_items": null,
            "grid_row": null,
            "max_height": null,
            "align_content": null,
            "visibility": null,
            "align_self": null,
            "height": null,
            "min_height": null,
            "padding": null,
            "grid_auto_rows": null,
            "grid_gap": null,
            "max_width": null,
            "order": null,
            "_view_module_version": "1.2.0",
            "grid_template_areas": null,
            "object_position": null,
            "object_fit": null,
            "grid_auto_columns": null,
            "margin": null,
            "display": null,
            "left": null
          }
        },
        "280ffb8e0f64431dace2085c008fcc63": {
          "model_module": "@jupyter-widgets/controls",
          "model_name": "DescriptionStyleModel",
          "model_module_version": "1.5.0",
          "state": {
            "_view_name": "StyleView",
            "_model_name": "DescriptionStyleModel",
            "description_width": "",
            "_view_module": "@jupyter-widgets/base",
            "_model_module_version": "1.5.0",
            "_view_count": null,
            "_view_module_version": "1.2.0",
            "_model_module": "@jupyter-widgets/controls"
          }
        },
        "c0a9d7763c81484e84f347dcc19f6891": {
          "model_module": "@jupyter-widgets/base",
          "model_name": "LayoutModel",
          "model_module_version": "1.2.0",
          "state": {
            "_view_name": "LayoutView",
            "grid_template_rows": null,
            "right": null,
            "justify_content": null,
            "_view_module": "@jupyter-widgets/base",
            "overflow": null,
            "_model_module_version": "1.2.0",
            "_view_count": null,
            "flex_flow": null,
            "width": null,
            "min_width": null,
            "border": null,
            "align_items": null,
            "bottom": null,
            "_model_module": "@jupyter-widgets/base",
            "top": null,
            "grid_column": null,
            "overflow_y": null,
            "overflow_x": null,
            "grid_auto_flow": null,
            "grid_area": null,
            "grid_template_columns": null,
            "flex": null,
            "_model_name": "LayoutModel",
            "justify_items": null,
            "grid_row": null,
            "max_height": null,
            "align_content": null,
            "visibility": null,
            "align_self": null,
            "height": null,
            "min_height": null,
            "padding": null,
            "grid_auto_rows": null,
            "grid_gap": null,
            "max_width": null,
            "order": null,
            "_view_module_version": "1.2.0",
            "grid_template_areas": null,
            "object_position": null,
            "object_fit": null,
            "grid_auto_columns": null,
            "margin": null,
            "display": null,
            "left": null
          }
        },
        "cc3d8dd0398e4b7b9e2d2d5967cb418f": {
          "model_module": "@jupyter-widgets/controls",
          "model_name": "HBoxModel",
          "model_module_version": "1.5.0",
          "state": {
            "_view_name": "HBoxView",
            "_dom_classes": [],
            "_model_name": "HBoxModel",
            "_view_module": "@jupyter-widgets/controls",
            "_model_module_version": "1.5.0",
            "_view_count": null,
            "_view_module_version": "1.5.0",
            "box_style": "",
            "layout": "IPY_MODEL_2c75ce50a3834d12b216b598911d6796",
            "_model_module": "@jupyter-widgets/controls",
            "children": [
              "IPY_MODEL_09907ab2a4854a6fad02b8de2cb90b32",
              "IPY_MODEL_5bb79d592e6a444bba552556d89cf17e",
              "IPY_MODEL_f9b1d62fcd66493fb5702317c21af504"
            ]
          }
        },
        "2c75ce50a3834d12b216b598911d6796": {
          "model_module": "@jupyter-widgets/base",
          "model_name": "LayoutModel",
          "model_module_version": "1.2.0",
          "state": {
            "_view_name": "LayoutView",
            "grid_template_rows": null,
            "right": null,
            "justify_content": null,
            "_view_module": "@jupyter-widgets/base",
            "overflow": null,
            "_model_module_version": "1.2.0",
            "_view_count": null,
            "flex_flow": null,
            "width": null,
            "min_width": null,
            "border": null,
            "align_items": null,
            "bottom": null,
            "_model_module": "@jupyter-widgets/base",
            "top": null,
            "grid_column": null,
            "overflow_y": null,
            "overflow_x": null,
            "grid_auto_flow": null,
            "grid_area": null,
            "grid_template_columns": null,
            "flex": null,
            "_model_name": "LayoutModel",
            "justify_items": null,
            "grid_row": null,
            "max_height": null,
            "align_content": null,
            "visibility": null,
            "align_self": null,
            "height": null,
            "min_height": null,
            "padding": null,
            "grid_auto_rows": null,
            "grid_gap": null,
            "max_width": null,
            "order": null,
            "_view_module_version": "1.2.0",
            "grid_template_areas": null,
            "object_position": null,
            "object_fit": null,
            "grid_auto_columns": null,
            "margin": null,
            "display": null,
            "left": null
          }
        },
        "09907ab2a4854a6fad02b8de2cb90b32": {
          "model_module": "@jupyter-widgets/controls",
          "model_name": "HTMLModel",
          "model_module_version": "1.5.0",
          "state": {
            "_view_name": "HTMLView",
            "style": "IPY_MODEL_003982294bba435f86d8d357b00409d2",
            "_dom_classes": [],
            "description": "",
            "_model_name": "HTMLModel",
            "placeholder": "​",
            "_view_module": "@jupyter-widgets/controls",
            "_model_module_version": "1.5.0",
            "value": "",
            "_view_count": null,
            "_view_module_version": "1.5.0",
            "description_tooltip": null,
            "_model_module": "@jupyter-widgets/controls",
            "layout": "IPY_MODEL_7850dd31df704f6ab4497f7a062f0dca"
          }
        },
        "5bb79d592e6a444bba552556d89cf17e": {
          "model_module": "@jupyter-widgets/controls",
          "model_name": "FloatProgressModel",
          "model_module_version": "1.5.0",
          "state": {
            "_view_name": "ProgressView",
            "style": "IPY_MODEL_b82e59953c26433bab48b854e09c1b21",
            "_dom_classes": [],
            "description": "",
            "_model_name": "FloatProgressModel",
            "bar_style": "success",
            "max": 1648877,
            "_view_module": "@jupyter-widgets/controls",
            "_model_module_version": "1.5.0",
            "value": 1648877,
            "_view_count": null,
            "_view_module_version": "1.5.0",
            "orientation": "horizontal",
            "min": 0,
            "description_tooltip": null,
            "_model_module": "@jupyter-widgets/controls",
            "layout": "IPY_MODEL_b9aed6eef3d74dd2811deaf9d19b79bf"
          }
        },
        "f9b1d62fcd66493fb5702317c21af504": {
          "model_module": "@jupyter-widgets/controls",
          "model_name": "HTMLModel",
          "model_module_version": "1.5.0",
          "state": {
            "_view_name": "HTMLView",
            "style": "IPY_MODEL_898e60aae3a144bca185986fd3900f7f",
            "_dom_classes": [],
            "description": "",
            "_model_name": "HTMLModel",
            "placeholder": "​",
            "_view_module": "@jupyter-widgets/controls",
            "_model_module_version": "1.5.0",
            "value": " 1649664/? [00:00&lt;00:00, 3172849.99it/s]",
            "_view_count": null,
            "_view_module_version": "1.5.0",
            "description_tooltip": null,
            "_model_module": "@jupyter-widgets/controls",
            "layout": "IPY_MODEL_e30c96b13ef2457da8ac2a9d47830b0b"
          }
        },
        "003982294bba435f86d8d357b00409d2": {
          "model_module": "@jupyter-widgets/controls",
          "model_name": "DescriptionStyleModel",
          "model_module_version": "1.5.0",
          "state": {
            "_view_name": "StyleView",
            "_model_name": "DescriptionStyleModel",
            "description_width": "",
            "_view_module": "@jupyter-widgets/base",
            "_model_module_version": "1.5.0",
            "_view_count": null,
            "_view_module_version": "1.2.0",
            "_model_module": "@jupyter-widgets/controls"
          }
        },
        "7850dd31df704f6ab4497f7a062f0dca": {
          "model_module": "@jupyter-widgets/base",
          "model_name": "LayoutModel",
          "model_module_version": "1.2.0",
          "state": {
            "_view_name": "LayoutView",
            "grid_template_rows": null,
            "right": null,
            "justify_content": null,
            "_view_module": "@jupyter-widgets/base",
            "overflow": null,
            "_model_module_version": "1.2.0",
            "_view_count": null,
            "flex_flow": null,
            "width": null,
            "min_width": null,
            "border": null,
            "align_items": null,
            "bottom": null,
            "_model_module": "@jupyter-widgets/base",
            "top": null,
            "grid_column": null,
            "overflow_y": null,
            "overflow_x": null,
            "grid_auto_flow": null,
            "grid_area": null,
            "grid_template_columns": null,
            "flex": null,
            "_model_name": "LayoutModel",
            "justify_items": null,
            "grid_row": null,
            "max_height": null,
            "align_content": null,
            "visibility": null,
            "align_self": null,
            "height": null,
            "min_height": null,
            "padding": null,
            "grid_auto_rows": null,
            "grid_gap": null,
            "max_width": null,
            "order": null,
            "_view_module_version": "1.2.0",
            "grid_template_areas": null,
            "object_position": null,
            "object_fit": null,
            "grid_auto_columns": null,
            "margin": null,
            "display": null,
            "left": null
          }
        },
        "b82e59953c26433bab48b854e09c1b21": {
          "model_module": "@jupyter-widgets/controls",
          "model_name": "ProgressStyleModel",
          "model_module_version": "1.5.0",
          "state": {
            "_view_name": "StyleView",
            "_model_name": "ProgressStyleModel",
            "description_width": "",
            "_view_module": "@jupyter-widgets/base",
            "_model_module_version": "1.5.0",
            "_view_count": null,
            "_view_module_version": "1.2.0",
            "bar_color": null,
            "_model_module": "@jupyter-widgets/controls"
          }
        },
        "b9aed6eef3d74dd2811deaf9d19b79bf": {
          "model_module": "@jupyter-widgets/base",
          "model_name": "LayoutModel",
          "model_module_version": "1.2.0",
          "state": {
            "_view_name": "LayoutView",
            "grid_template_rows": null,
            "right": null,
            "justify_content": null,
            "_view_module": "@jupyter-widgets/base",
            "overflow": null,
            "_model_module_version": "1.2.0",
            "_view_count": null,
            "flex_flow": null,
            "width": null,
            "min_width": null,
            "border": null,
            "align_items": null,
            "bottom": null,
            "_model_module": "@jupyter-widgets/base",
            "top": null,
            "grid_column": null,
            "overflow_y": null,
            "overflow_x": null,
            "grid_auto_flow": null,
            "grid_area": null,
            "grid_template_columns": null,
            "flex": null,
            "_model_name": "LayoutModel",
            "justify_items": null,
            "grid_row": null,
            "max_height": null,
            "align_content": null,
            "visibility": null,
            "align_self": null,
            "height": null,
            "min_height": null,
            "padding": null,
            "grid_auto_rows": null,
            "grid_gap": null,
            "max_width": null,
            "order": null,
            "_view_module_version": "1.2.0",
            "grid_template_areas": null,
            "object_position": null,
            "object_fit": null,
            "grid_auto_columns": null,
            "margin": null,
            "display": null,
            "left": null
          }
        },
        "898e60aae3a144bca185986fd3900f7f": {
          "model_module": "@jupyter-widgets/controls",
          "model_name": "DescriptionStyleModel",
          "model_module_version": "1.5.0",
          "state": {
            "_view_name": "StyleView",
            "_model_name": "DescriptionStyleModel",
            "description_width": "",
            "_view_module": "@jupyter-widgets/base",
            "_model_module_version": "1.5.0",
            "_view_count": null,
            "_view_module_version": "1.2.0",
            "_model_module": "@jupyter-widgets/controls"
          }
        },
        "e30c96b13ef2457da8ac2a9d47830b0b": {
          "model_module": "@jupyter-widgets/base",
          "model_name": "LayoutModel",
          "model_module_version": "1.2.0",
          "state": {
            "_view_name": "LayoutView",
            "grid_template_rows": null,
            "right": null,
            "justify_content": null,
            "_view_module": "@jupyter-widgets/base",
            "overflow": null,
            "_model_module_version": "1.2.0",
            "_view_count": null,
            "flex_flow": null,
            "width": null,
            "min_width": null,
            "border": null,
            "align_items": null,
            "bottom": null,
            "_model_module": "@jupyter-widgets/base",
            "top": null,
            "grid_column": null,
            "overflow_y": null,
            "overflow_x": null,
            "grid_auto_flow": null,
            "grid_area": null,
            "grid_template_columns": null,
            "flex": null,
            "_model_name": "LayoutModel",
            "justify_items": null,
            "grid_row": null,
            "max_height": null,
            "align_content": null,
            "visibility": null,
            "align_self": null,
            "height": null,
            "min_height": null,
            "padding": null,
            "grid_auto_rows": null,
            "grid_gap": null,
            "max_width": null,
            "order": null,
            "_view_module_version": "1.2.0",
            "grid_template_areas": null,
            "object_position": null,
            "object_fit": null,
            "grid_auto_columns": null,
            "margin": null,
            "display": null,
            "left": null
          }
        },
        "c2af5aecfe99442fbe8a67fd7ae1a5aa": {
          "model_module": "@jupyter-widgets/controls",
          "model_name": "HBoxModel",
          "model_module_version": "1.5.0",
          "state": {
            "_view_name": "HBoxView",
            "_dom_classes": [],
            "_model_name": "HBoxModel",
            "_view_module": "@jupyter-widgets/controls",
            "_model_module_version": "1.5.0",
            "_view_count": null,
            "_view_module_version": "1.5.0",
            "box_style": "",
            "layout": "IPY_MODEL_b02d8c65dfcd4c289d7766c73e6b67a5",
            "_model_module": "@jupyter-widgets/controls",
            "children": [
              "IPY_MODEL_55c234a8ac39489a9ebfd2d73ea3df8a",
              "IPY_MODEL_77ffdc6e703b4c1fb02e1d28a9e8068b",
              "IPY_MODEL_1203cd0fa17e493aa050bc304c31be97"
            ]
          }
        },
        "b02d8c65dfcd4c289d7766c73e6b67a5": {
          "model_module": "@jupyter-widgets/base",
          "model_name": "LayoutModel",
          "model_module_version": "1.2.0",
          "state": {
            "_view_name": "LayoutView",
            "grid_template_rows": null,
            "right": null,
            "justify_content": null,
            "_view_module": "@jupyter-widgets/base",
            "overflow": null,
            "_model_module_version": "1.2.0",
            "_view_count": null,
            "flex_flow": null,
            "width": null,
            "min_width": null,
            "border": null,
            "align_items": null,
            "bottom": null,
            "_model_module": "@jupyter-widgets/base",
            "top": null,
            "grid_column": null,
            "overflow_y": null,
            "overflow_x": null,
            "grid_auto_flow": null,
            "grid_area": null,
            "grid_template_columns": null,
            "flex": null,
            "_model_name": "LayoutModel",
            "justify_items": null,
            "grid_row": null,
            "max_height": null,
            "align_content": null,
            "visibility": null,
            "align_self": null,
            "height": null,
            "min_height": null,
            "padding": null,
            "grid_auto_rows": null,
            "grid_gap": null,
            "max_width": null,
            "order": null,
            "_view_module_version": "1.2.0",
            "grid_template_areas": null,
            "object_position": null,
            "object_fit": null,
            "grid_auto_columns": null,
            "margin": null,
            "display": null,
            "left": null
          }
        },
        "55c234a8ac39489a9ebfd2d73ea3df8a": {
          "model_module": "@jupyter-widgets/controls",
          "model_name": "HTMLModel",
          "model_module_version": "1.5.0",
          "state": {
            "_view_name": "HTMLView",
            "style": "IPY_MODEL_b6c7b89e46fe48bfa5f45e093f62c39d",
            "_dom_classes": [],
            "description": "",
            "_model_name": "HTMLModel",
            "placeholder": "​",
            "_view_module": "@jupyter-widgets/controls",
            "_model_module_version": "1.5.0",
            "value": "",
            "_view_count": null,
            "_view_module_version": "1.5.0",
            "description_tooltip": null,
            "_model_module": "@jupyter-widgets/controls",
            "layout": "IPY_MODEL_b0914eb2a506409fb3b0a3408d8e33e0"
          }
        },
        "77ffdc6e703b4c1fb02e1d28a9e8068b": {
          "model_module": "@jupyter-widgets/controls",
          "model_name": "FloatProgressModel",
          "model_module_version": "1.5.0",
          "state": {
            "_view_name": "ProgressView",
            "style": "IPY_MODEL_e00c66c2abc9428196ec81b82fd3bea3",
            "_dom_classes": [],
            "description": "",
            "_model_name": "FloatProgressModel",
            "bar_style": "success",
            "max": 4542,
            "_view_module": "@jupyter-widgets/controls",
            "_model_module_version": "1.5.0",
            "value": 4542,
            "_view_count": null,
            "_view_module_version": "1.5.0",
            "orientation": "horizontal",
            "min": 0,
            "description_tooltip": null,
            "_model_module": "@jupyter-widgets/controls",
            "layout": "IPY_MODEL_d3f69c4019e14deaae6b6ddd3f790125"
          }
        },
        "1203cd0fa17e493aa050bc304c31be97": {
          "model_module": "@jupyter-widgets/controls",
          "model_name": "HTMLModel",
          "model_module_version": "1.5.0",
          "state": {
            "_view_name": "HTMLView",
            "style": "IPY_MODEL_a692f334649f4f42b9d7f3f889ee7fed",
            "_dom_classes": [],
            "description": "",
            "_model_name": "HTMLModel",
            "placeholder": "​",
            "_view_module": "@jupyter-widgets/controls",
            "_model_module_version": "1.5.0",
            "value": " 5120/? [00:00&lt;00:00, 6483.17it/s]",
            "_view_count": null,
            "_view_module_version": "1.5.0",
            "description_tooltip": null,
            "_model_module": "@jupyter-widgets/controls",
            "layout": "IPY_MODEL_4c691eb7cfe94a5d8fc76dc90a8286c1"
          }
        },
        "b6c7b89e46fe48bfa5f45e093f62c39d": {
          "model_module": "@jupyter-widgets/controls",
          "model_name": "DescriptionStyleModel",
          "model_module_version": "1.5.0",
          "state": {
            "_view_name": "StyleView",
            "_model_name": "DescriptionStyleModel",
            "description_width": "",
            "_view_module": "@jupyter-widgets/base",
            "_model_module_version": "1.5.0",
            "_view_count": null,
            "_view_module_version": "1.2.0",
            "_model_module": "@jupyter-widgets/controls"
          }
        },
        "b0914eb2a506409fb3b0a3408d8e33e0": {
          "model_module": "@jupyter-widgets/base",
          "model_name": "LayoutModel",
          "model_module_version": "1.2.0",
          "state": {
            "_view_name": "LayoutView",
            "grid_template_rows": null,
            "right": null,
            "justify_content": null,
            "_view_module": "@jupyter-widgets/base",
            "overflow": null,
            "_model_module_version": "1.2.0",
            "_view_count": null,
            "flex_flow": null,
            "width": null,
            "min_width": null,
            "border": null,
            "align_items": null,
            "bottom": null,
            "_model_module": "@jupyter-widgets/base",
            "top": null,
            "grid_column": null,
            "overflow_y": null,
            "overflow_x": null,
            "grid_auto_flow": null,
            "grid_area": null,
            "grid_template_columns": null,
            "flex": null,
            "_model_name": "LayoutModel",
            "justify_items": null,
            "grid_row": null,
            "max_height": null,
            "align_content": null,
            "visibility": null,
            "align_self": null,
            "height": null,
            "min_height": null,
            "padding": null,
            "grid_auto_rows": null,
            "grid_gap": null,
            "max_width": null,
            "order": null,
            "_view_module_version": "1.2.0",
            "grid_template_areas": null,
            "object_position": null,
            "object_fit": null,
            "grid_auto_columns": null,
            "margin": null,
            "display": null,
            "left": null
          }
        },
        "e00c66c2abc9428196ec81b82fd3bea3": {
          "model_module": "@jupyter-widgets/controls",
          "model_name": "ProgressStyleModel",
          "model_module_version": "1.5.0",
          "state": {
            "_view_name": "StyleView",
            "_model_name": "ProgressStyleModel",
            "description_width": "",
            "_view_module": "@jupyter-widgets/base",
            "_model_module_version": "1.5.0",
            "_view_count": null,
            "_view_module_version": "1.2.0",
            "bar_color": null,
            "_model_module": "@jupyter-widgets/controls"
          }
        },
        "d3f69c4019e14deaae6b6ddd3f790125": {
          "model_module": "@jupyter-widgets/base",
          "model_name": "LayoutModel",
          "model_module_version": "1.2.0",
          "state": {
            "_view_name": "LayoutView",
            "grid_template_rows": null,
            "right": null,
            "justify_content": null,
            "_view_module": "@jupyter-widgets/base",
            "overflow": null,
            "_model_module_version": "1.2.0",
            "_view_count": null,
            "flex_flow": null,
            "width": null,
            "min_width": null,
            "border": null,
            "align_items": null,
            "bottom": null,
            "_model_module": "@jupyter-widgets/base",
            "top": null,
            "grid_column": null,
            "overflow_y": null,
            "overflow_x": null,
            "grid_auto_flow": null,
            "grid_area": null,
            "grid_template_columns": null,
            "flex": null,
            "_model_name": "LayoutModel",
            "justify_items": null,
            "grid_row": null,
            "max_height": null,
            "align_content": null,
            "visibility": null,
            "align_self": null,
            "height": null,
            "min_height": null,
            "padding": null,
            "grid_auto_rows": null,
            "grid_gap": null,
            "max_width": null,
            "order": null,
            "_view_module_version": "1.2.0",
            "grid_template_areas": null,
            "object_position": null,
            "object_fit": null,
            "grid_auto_columns": null,
            "margin": null,
            "display": null,
            "left": null
          }
        },
        "a692f334649f4f42b9d7f3f889ee7fed": {
          "model_module": "@jupyter-widgets/controls",
          "model_name": "DescriptionStyleModel",
          "model_module_version": "1.5.0",
          "state": {
            "_view_name": "StyleView",
            "_model_name": "DescriptionStyleModel",
            "description_width": "",
            "_view_module": "@jupyter-widgets/base",
            "_model_module_version": "1.5.0",
            "_view_count": null,
            "_view_module_version": "1.2.0",
            "_model_module": "@jupyter-widgets/controls"
          }
        },
        "4c691eb7cfe94a5d8fc76dc90a8286c1": {
          "model_module": "@jupyter-widgets/base",
          "model_name": "LayoutModel",
          "model_module_version": "1.2.0",
          "state": {
            "_view_name": "LayoutView",
            "grid_template_rows": null,
            "right": null,
            "justify_content": null,
            "_view_module": "@jupyter-widgets/base",
            "overflow": null,
            "_model_module_version": "1.2.0",
            "_view_count": null,
            "flex_flow": null,
            "width": null,
            "min_width": null,
            "border": null,
            "align_items": null,
            "bottom": null,
            "_model_module": "@jupyter-widgets/base",
            "top": null,
            "grid_column": null,
            "overflow_y": null,
            "overflow_x": null,
            "grid_auto_flow": null,
            "grid_area": null,
            "grid_template_columns": null,
            "flex": null,
            "_model_name": "LayoutModel",
            "justify_items": null,
            "grid_row": null,
            "max_height": null,
            "align_content": null,
            "visibility": null,
            "align_self": null,
            "height": null,
            "min_height": null,
            "padding": null,
            "grid_auto_rows": null,
            "grid_gap": null,
            "max_width": null,
            "order": null,
            "_view_module_version": "1.2.0",
            "grid_template_areas": null,
            "object_position": null,
            "object_fit": null,
            "grid_auto_columns": null,
            "margin": null,
            "display": null,
            "left": null
          }
        }
      }
    }
  },
  "nbformat": 4,
  "nbformat_minor": 0
}