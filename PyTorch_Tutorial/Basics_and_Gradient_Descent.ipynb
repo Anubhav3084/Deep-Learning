{
  "nbformat": 4,
  "nbformat_minor": 0,
  "metadata": {
    "colab": {
      "provenance": [],
      "collapsed_sections": [],
      "authorship_tag": "ABX9TyPVv7eb0TFUJH1tlBU3FAPT",
      "include_colab_link": true
    },
    "kernelspec": {
      "name": "python3",
      "display_name": "Python 3"
    },
    "language_info": {
      "name": "python"
    }
  },
  "cells": [
    {
      "cell_type": "markdown",
      "metadata": {
        "id": "view-in-github",
        "colab_type": "text"
      },
      "source": [
        "<a href=\"https://colab.research.google.com/github/Anubhav3084/Deep-Learning/blob/main/PyTorch_Tutorial/Basics_and_Gradient_Descent.ipynb\" target=\"_parent\"><img src=\"https://colab.research.google.com/assets/colab-badge.svg\" alt=\"Open In Colab\"/></a>"
      ]
    },
    {
      "cell_type": "markdown",
      "source": [
        "## **Basics and Gradient Descent**"
      ],
      "metadata": {
        "id": "zLE7qped9Mao"
      }
    },
    {
      "cell_type": "code",
      "execution_count": null,
      "metadata": {
        "colab": {
          "base_uri": "https://localhost:8080/"
        },
        "id": "405Xe0mrbeAm",
        "outputId": "17f791a5-8055-42bb-ff0c-988a8fe33a6d"
      },
      "outputs": [
        {
          "output_type": "execute_result",
          "data": {
            "text/plain": [
              "tensor(4.)"
            ]
          },
          "metadata": {},
          "execution_count": 1
        }
      ],
      "source": [
        "import torch\n",
        "\n",
        "t1 = torch.tensor(4.)\n",
        "t1"
      ]
    },
    {
      "cell_type": "markdown",
      "source": [
        "**4. is a shorthand for 4.0. It's used for creating floating point numbers**"
      ],
      "metadata": {
        "id": "2MDMcDKOb2YU"
      }
    },
    {
      "cell_type": "code",
      "source": [
        "t1.dtype"
      ],
      "metadata": {
        "colab": {
          "base_uri": "https://localhost:8080/"
        },
        "id": "7m1UbJzBbmDe",
        "outputId": "5e96cc8e-f0bf-4e09-e783-cc078408919c"
      },
      "execution_count": null,
      "outputs": [
        {
          "output_type": "execute_result",
          "data": {
            "text/plain": [
              "torch.float32"
            ]
          },
          "metadata": {},
          "execution_count": 2
        }
      ]
    },
    {
      "cell_type": "markdown",
      "source": [
        "**All the elements have same data type in a tensor**"
      ],
      "metadata": {
        "id": "ABEFr_tpcMiz"
      }
    },
    {
      "cell_type": "code",
      "source": [
        "# vector\n",
        "t2 = torch.tensor([4.,5,6])\n",
        "t2"
      ],
      "metadata": {
        "colab": {
          "base_uri": "https://localhost:8080/"
        },
        "id": "ulHLD7ZPbr5F",
        "outputId": "918ca450-800f-42cf-bcd2-88301193304e"
      },
      "execution_count": null,
      "outputs": [
        {
          "output_type": "execute_result",
          "data": {
            "text/plain": [
              "tensor([4., 5., 6.])"
            ]
          },
          "metadata": {},
          "execution_count": 3
        }
      ]
    },
    {
      "cell_type": "code",
      "source": [
        "# matrix\n",
        "t3 = torch.tensor([[5.,6],\n",
        "                   [1,2],\n",
        "                   [7,3]])\n",
        "t3"
      ],
      "metadata": {
        "colab": {
          "base_uri": "https://localhost:8080/"
        },
        "id": "LO-cyb-QcGlY",
        "outputId": "d79275f8-d775-46e9-e11a-3f17bc560efa"
      },
      "execution_count": null,
      "outputs": [
        {
          "output_type": "execute_result",
          "data": {
            "text/plain": [
              "tensor([[5., 6.],\n",
              "        [1., 2.],\n",
              "        [7., 3.]])"
            ]
          },
          "metadata": {},
          "execution_count": 4
        }
      ]
    },
    {
      "cell_type": "code",
      "source": [
        "# 3 dimensional array\n",
        "t4 = torch.tensor([[[11,12,13],\n",
        "                    [1,2,3]],\n",
        "                   [[1,5,7],\n",
        "                    [2,3,5]]])\n",
        "t4"
      ],
      "metadata": {
        "colab": {
          "base_uri": "https://localhost:8080/"
        },
        "id": "aGKAAqXKcl9b",
        "outputId": "2f5c4888-cde9-41d0-8c3c-ad2fed25a192"
      },
      "execution_count": null,
      "outputs": [
        {
          "output_type": "execute_result",
          "data": {
            "text/plain": [
              "tensor([[[11, 12, 13],\n",
              "         [ 1,  2,  3]],\n",
              "\n",
              "        [[ 1,  5,  7],\n",
              "         [ 2,  3,  5]]])"
            ]
          },
          "metadata": {},
          "execution_count": 5
        }
      ]
    },
    {
      "cell_type": "code",
      "source": [
        "print(t1)\n",
        "t1.shape"
      ],
      "metadata": {
        "colab": {
          "base_uri": "https://localhost:8080/"
        },
        "id": "jExfAontc-_t",
        "outputId": "524ed103-7586-429f-d1ee-c1979df045bc"
      },
      "execution_count": null,
      "outputs": [
        {
          "output_type": "stream",
          "name": "stdout",
          "text": [
            "tensor(4.)\n"
          ]
        },
        {
          "output_type": "execute_result",
          "data": {
            "text/plain": [
              "torch.Size([])"
            ]
          },
          "metadata": {},
          "execution_count": 6
        }
      ]
    },
    {
      "cell_type": "code",
      "source": [
        "print(t2)\n",
        "t2.shape"
      ],
      "metadata": {
        "colab": {
          "base_uri": "https://localhost:8080/"
        },
        "id": "fYsJMLD4dG71",
        "outputId": "1a636ae5-80b9-43f5-dd7b-65de8efc8a1d"
      },
      "execution_count": null,
      "outputs": [
        {
          "output_type": "stream",
          "name": "stdout",
          "text": [
            "tensor([4., 5., 6.])\n"
          ]
        },
        {
          "output_type": "execute_result",
          "data": {
            "text/plain": [
              "torch.Size([3])"
            ]
          },
          "metadata": {},
          "execution_count": 7
        }
      ]
    },
    {
      "cell_type": "code",
      "source": [
        "print(t3)\n",
        "t3.shape"
      ],
      "metadata": {
        "colab": {
          "base_uri": "https://localhost:8080/"
        },
        "id": "s6zRbplvdMB3",
        "outputId": "94ccd56f-92ac-4026-a735-054a79d3c49e"
      },
      "execution_count": null,
      "outputs": [
        {
          "output_type": "stream",
          "name": "stdout",
          "text": [
            "tensor([[5., 6.],\n",
            "        [1., 2.],\n",
            "        [7., 3.]])\n"
          ]
        },
        {
          "output_type": "execute_result",
          "data": {
            "text/plain": [
              "torch.Size([3, 2])"
            ]
          },
          "metadata": {},
          "execution_count": 8
        }
      ]
    },
    {
      "cell_type": "code",
      "source": [
        "print(t4)\n",
        "t4.shape"
      ],
      "metadata": {
        "colab": {
          "base_uri": "https://localhost:8080/"
        },
        "id": "ecRHka1qdPdT",
        "outputId": "a7723085-bf1c-47c3-bd0e-de45563963f2"
      },
      "execution_count": null,
      "outputs": [
        {
          "output_type": "stream",
          "name": "stdout",
          "text": [
            "tensor([[[11, 12, 13],\n",
            "         [ 1,  2,  3]],\n",
            "\n",
            "        [[ 1,  5,  7],\n",
            "         [ 2,  3,  5]]])\n"
          ]
        },
        {
          "output_type": "execute_result",
          "data": {
            "text/plain": [
              "torch.Size([2, 2, 3])"
            ]
          },
          "metadata": {},
          "execution_count": 9
        }
      ]
    },
    {
      "cell_type": "markdown",
      "source": [
        "**It's not possible to create tensors with improper shape**"
      ],
      "metadata": {
        "id": "efhjNHYBdqaC"
      }
    },
    {
      "cell_type": "code",
      "source": [
        "t5 = torch.tensor([[5,6.,7],\n",
        "                   [2,3]])\n",
        "t5"
      ],
      "metadata": {
        "colab": {
          "base_uri": "https://localhost:8080/",
          "height": 200
        },
        "id": "6DVnY0BgdSxF",
        "outputId": "c57f9400-04a1-422c-b539-a43ea4da4fbe"
      },
      "execution_count": null,
      "outputs": [
        {
          "output_type": "error",
          "ename": "ValueError",
          "evalue": "ignored",
          "traceback": [
            "\u001b[0;31m---------------------------------------------------------------------------\u001b[0m",
            "\u001b[0;31mValueError\u001b[0m                                Traceback (most recent call last)",
            "\u001b[0;32m<ipython-input-10-4b60fd1106db>\u001b[0m in \u001b[0;36m<module>\u001b[0;34m()\u001b[0m\n\u001b[1;32m      1\u001b[0m t5 = torch.tensor([[5,6.,7],\n\u001b[0;32m----> 2\u001b[0;31m                    [2,3]])\n\u001b[0m\u001b[1;32m      3\u001b[0m \u001b[0mt5\u001b[0m\u001b[0;34m\u001b[0m\u001b[0;34m\u001b[0m\u001b[0m\n",
            "\u001b[0;31mValueError\u001b[0m: expected sequence of length 3 at dim 1 (got 2)"
          ]
        }
      ]
    },
    {
      "cell_type": "markdown",
      "source": [
        "# **Tensor operations and gradients** \n",
        "\n",
        "\n",
        "*   We can combine tensors with the usual arithmetic operations\n",
        "\n",
        "\n",
        "\n"
      ],
      "metadata": {
        "id": "37jM1fiMeAbf"
      }
    },
    {
      "cell_type": "code",
      "source": [
        "x = torch.tensor(3.)\n",
        "w = torch.tensor(4., requires_grad=True)\n",
        "b = torch.tensor(5., requires_grad=True)"
      ],
      "metadata": {
        "id": "4-DQiIRVd4v8"
      },
      "execution_count": null,
      "outputs": []
    },
    {
      "cell_type": "code",
      "source": [
        "# arithmetic operations \n",
        "y = w*x+b\n",
        "y"
      ],
      "metadata": {
        "colab": {
          "base_uri": "https://localhost:8080/"
        },
        "id": "9QucH8cle17y",
        "outputId": "76b0d15a-48bb-4fd4-9e44-9dde8377cc54"
      },
      "execution_count": null,
      "outputs": [
        {
          "output_type": "execute_result",
          "data": {
            "text/plain": [
              "tensor(17., grad_fn=<AddBackward0>)"
            ]
          },
          "metadata": {},
          "execution_count": 12
        }
      ]
    },
    {
      "cell_type": "markdown",
      "source": [
        " \n",
        "\n",
        "*   We can compute derivative of y automaitcally w.r.t the tensors that have `requires_grad` set to `True`.\n",
        "In our case it's w and b\n",
        "*   To compute the derivatives, we can invoke the `.backward` method on our result `y`.\n",
        "\n",
        "\n",
        "\n"
      ],
      "metadata": {
        "id": "kStHEJyofU7f"
      }
    },
    {
      "cell_type": "code",
      "source": [
        "# compute derivatives\n",
        "y.backward()"
      ],
      "metadata": {
        "id": "ms1O4iy8e-YB"
      },
      "execution_count": null,
      "outputs": []
    },
    {
      "cell_type": "markdown",
      "source": [
        "The derivatives of `y` with respect to the input tensors are stored in the `.grad` propety of the respective tenosrs."
      ],
      "metadata": {
        "id": "GHCmDbdfgIE9"
      }
    },
    {
      "cell_type": "code",
      "source": [
        "# display gradients\n",
        "\n",
        "print('dy/dx:', x.grad)\n",
        "print('dy/dw:', w.grad)\n",
        "print('dy/db:', b.grad)"
      ],
      "metadata": {
        "colab": {
          "base_uri": "https://localhost:8080/"
        },
        "id": "a8mWVL6ngF-a",
        "outputId": "1596a8dd-6b36-40d3-94fb-eb430bbbee1e"
      },
      "execution_count": null,
      "outputs": [
        {
          "output_type": "stream",
          "name": "stdout",
          "text": [
            "dy/dx: None\n",
            "dy/dw: tensor(3.)\n",
            "dy/db: tensor(1.)\n"
          ]
        }
      ]
    },
    {
      "cell_type": "markdown",
      "source": [
        "# **Tensor functions**\n"
      ],
      "metadata": {
        "id": "Yn4kK5q_g904"
      }
    },
    {
      "cell_type": "code",
      "source": [
        "# Create a tensor with a fixed value for every element\n",
        "t6 = torch.full((3,2), 42)\n",
        "t6"
      ],
      "metadata": {
        "colab": {
          "base_uri": "https://localhost:8080/"
        },
        "id": "QFqOsxeJgj3b",
        "outputId": "79001090-16d0-4ce0-c74d-652806680064"
      },
      "execution_count": null,
      "outputs": [
        {
          "output_type": "execute_result",
          "data": {
            "text/plain": [
              "tensor([[42, 42],\n",
              "        [42, 42],\n",
              "        [42, 42]])"
            ]
          },
          "metadata": {},
          "execution_count": 15
        }
      ]
    },
    {
      "cell_type": "code",
      "source": [
        "t3"
      ],
      "metadata": {
        "colab": {
          "base_uri": "https://localhost:8080/"
        },
        "id": "IQSMWu1uhdCR",
        "outputId": "28d8d982-6549-49a6-f49e-5fba8ceacdc3"
      },
      "execution_count": null,
      "outputs": [
        {
          "output_type": "execute_result",
          "data": {
            "text/plain": [
              "tensor([[5., 6.],\n",
              "        [1., 2.],\n",
              "        [7., 3.]])"
            ]
          },
          "metadata": {},
          "execution_count": 16
        }
      ]
    },
    {
      "cell_type": "code",
      "source": [
        "# concatenate two tensors with compatible shapes\n",
        "t7 = torch.cat((t6,t3))\n",
        "t7"
      ],
      "metadata": {
        "colab": {
          "base_uri": "https://localhost:8080/"
        },
        "id": "6ayjDJGFhgZD",
        "outputId": "8d31da7a-d09a-496e-bf83-f10bddd6710f"
      },
      "execution_count": null,
      "outputs": [
        {
          "output_type": "execute_result",
          "data": {
            "text/plain": [
              "tensor([[42., 42.],\n",
              "        [42., 42.],\n",
              "        [42., 42.],\n",
              "        [ 5.,  6.],\n",
              "        [ 1.,  2.],\n",
              "        [ 7.,  3.]])"
            ]
          },
          "metadata": {},
          "execution_count": 17
        }
      ]
    },
    {
      "cell_type": "code",
      "source": [
        "# Compute the sine of each element\n",
        "t8 = torch.sin(t7)\n",
        "t8"
      ],
      "metadata": {
        "colab": {
          "base_uri": "https://localhost:8080/"
        },
        "id": "69p_-1O_hrSe",
        "outputId": "8c0be685-4396-4e2b-aec1-136c1fd91af3"
      },
      "execution_count": null,
      "outputs": [
        {
          "output_type": "execute_result",
          "data": {
            "text/plain": [
              "tensor([[-0.9165, -0.9165],\n",
              "        [-0.9165, -0.9165],\n",
              "        [-0.9165, -0.9165],\n",
              "        [-0.9589, -0.2794],\n",
              "        [ 0.8415,  0.9093],\n",
              "        [ 0.6570,  0.1411]])"
            ]
          },
          "metadata": {},
          "execution_count": 18
        }
      ]
    },
    {
      "cell_type": "code",
      "source": [
        "# Change the shape of a tensor\n",
        "t9 = t8.reshape(3,2,2)\n",
        "t9"
      ],
      "metadata": {
        "colab": {
          "base_uri": "https://localhost:8080/"
        },
        "id": "PNi_WbVNh3ha",
        "outputId": "0f10d5f9-2712-4c0e-bb34-0af01714f3e2"
      },
      "execution_count": null,
      "outputs": [
        {
          "output_type": "execute_result",
          "data": {
            "text/plain": [
              "tensor([[[-0.9165, -0.9165],\n",
              "         [-0.9165, -0.9165]],\n",
              "\n",
              "        [[-0.9165, -0.9165],\n",
              "         [-0.9589, -0.2794]],\n",
              "\n",
              "        [[ 0.8415,  0.9093],\n",
              "         [ 0.6570,  0.1411]]])"
            ]
          },
          "metadata": {},
          "execution_count": 19
        }
      ]
    },
    {
      "cell_type": "markdown",
      "source": [
        "# **Interoperability with Numpy**"
      ],
      "metadata": {
        "id": "k6AFvCtviyLv"
      }
    },
    {
      "cell_type": "code",
      "source": [
        "import numpy as np\n",
        "\n",
        "x = np.array([[1.,2],\n",
        "              [3,4]])\n",
        "x"
      ],
      "metadata": {
        "colab": {
          "base_uri": "https://localhost:8080/"
        },
        "id": "uSUzK14WiMKH",
        "outputId": "befade4c-a8d5-4bee-8bf5-d9a04a01475f"
      },
      "execution_count": null,
      "outputs": [
        {
          "output_type": "execute_result",
          "data": {
            "text/plain": [
              "array([[1., 2.],\n",
              "       [3., 4.]])"
            ]
          },
          "metadata": {},
          "execution_count": 20
        }
      ]
    },
    {
      "cell_type": "markdown",
      "source": [
        "We can convert numpy array to a PyTorch tensor using `torch.from_numpy`.\n",
        "\n",
        "\n"
      ],
      "metadata": {
        "id": "6TMdOBh3jtPR"
      }
    },
    {
      "cell_type": "code",
      "source": [
        "# convert numpy array to tensor\n",
        "y = torch.from_numpy(x)\n",
        "y\n",
        "x.dtype, y.dtype"
      ],
      "metadata": {
        "colab": {
          "base_uri": "https://localhost:8080/"
        },
        "id": "vUha_2tAjkZS",
        "outputId": "91816d5d-67bd-4ad2-89d4-576c99f4e293"
      },
      "execution_count": null,
      "outputs": [
        {
          "output_type": "execute_result",
          "data": {
            "text/plain": [
              "(dtype('float64'), torch.float64)"
            ]
          },
          "metadata": {},
          "execution_count": 21
        }
      ]
    },
    {
      "cell_type": "markdown",
      "source": [
        "We can convert PyTorch tensor to a  numpy array using `.numpy`.\n"
      ],
      "metadata": {
        "id": "iC7vxTOdkGw7"
      }
    },
    {
      "cell_type": "code",
      "source": [
        "z = y.numpy()\n",
        "z"
      ],
      "metadata": {
        "colab": {
          "base_uri": "https://localhost:8080/"
        },
        "id": "XRVhwIg8j-q-",
        "outputId": "5c78d65f-d611-4f56-d83a-0b3ad61ac662"
      },
      "execution_count": null,
      "outputs": [
        {
          "output_type": "execute_result",
          "data": {
            "text/plain": [
              "array([[1., 2.],\n",
              "       [3., 4.]])"
            ]
          },
          "metadata": {},
          "execution_count": 22
        }
      ]
    }
  ]
}