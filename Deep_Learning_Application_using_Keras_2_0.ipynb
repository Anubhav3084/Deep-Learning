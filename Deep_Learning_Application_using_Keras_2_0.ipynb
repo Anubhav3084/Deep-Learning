{
  "nbformat": 4,
  "nbformat_minor": 0,
  "metadata": {
    "colab": {
      "name": "Deep Learning Application using Keras 2.0.ipynb",
      "provenance": [],
      "authorship_tag": "ABX9TyOkgjbHmiq6RsSy0dRaLxLT",
      "include_colab_link": true
    },
    "kernelspec": {
      "name": "python3",
      "display_name": "Python 3"
    },
    "language_info": {
      "name": "python"
    }
  },
  "cells": [
    {
      "cell_type": "markdown",
      "metadata": {
        "id": "view-in-github",
        "colab_type": "text"
      },
      "source": [
        "<a href=\"https://colab.research.google.com/github/Anubhav3084/Deep-Learning/blob/main/Deep_Learning_Application_using_Keras_2_0.ipynb\" target=\"_parent\"><img src=\"https://colab.research.google.com/assets/colab-badge.svg\" alt=\"Open In Colab\"/></a>"
      ]
    },
    {
      "cell_type": "code",
      "source": [
        "import pandas as pd"
      ],
      "metadata": {
        "id": "MTEezCcLSlNh"
      },
      "execution_count": 73,
      "outputs": []
    },
    {
      "cell_type": "code",
      "source": [
        "training_data = pd.read_csv(\"sales_data_training.csv\")"
      ],
      "metadata": {
        "id": "6oA5frWkgp-q"
      },
      "execution_count": 74,
      "outputs": []
    },
    {
      "cell_type": "markdown",
      "source": [
        "## **Data Preprocessing**"
      ],
      "metadata": {
        "id": "PXQqiOyvnjTo"
      }
    },
    {
      "cell_type": "code",
      "source": [
        "training_data.head()"
      ],
      "metadata": {
        "id": "fqzosKgYgw_O",
        "colab": {
          "base_uri": "https://localhost:8080/",
          "height": 206
        },
        "outputId": "4441bf16-6b11-4a92-fe04-02af9f1dedf4"
      },
      "execution_count": 75,
      "outputs": [
        {
          "output_type": "execute_result",
          "data": {
            "text/plain": [
              "   critic_rating  is_action  is_exclusive_to_us  is_portable  is_role_playing  \\\n",
              "0            3.5          1                   0            1                0   \n",
              "1            4.5          0                   0            0                0   \n",
              "2            3.0          0                   0            0                0   \n",
              "3            4.5          1                   0            0                0   \n",
              "4            4.0          1                   0            1                0   \n",
              "\n",
              "   is_sequel  is_sports  suitable_for_kids  total_earnings  unit_price  \n",
              "0          1          0                  0          132717       59.99  \n",
              "1          1          1                  0           83407       49.99  \n",
              "2          1          1                  0           62423       49.99  \n",
              "3          0          0                  1           69889       39.99  \n",
              "4          1          0                  1          161382       59.99  "
            ],
            "text/html": [
              "\n",
              "  <div id=\"df-d5a42a27-ccd8-4779-910b-026ef7336457\">\n",
              "    <div class=\"colab-df-container\">\n",
              "      <div>\n",
              "<style scoped>\n",
              "    .dataframe tbody tr th:only-of-type {\n",
              "        vertical-align: middle;\n",
              "    }\n",
              "\n",
              "    .dataframe tbody tr th {\n",
              "        vertical-align: top;\n",
              "    }\n",
              "\n",
              "    .dataframe thead th {\n",
              "        text-align: right;\n",
              "    }\n",
              "</style>\n",
              "<table border=\"1\" class=\"dataframe\">\n",
              "  <thead>\n",
              "    <tr style=\"text-align: right;\">\n",
              "      <th></th>\n",
              "      <th>critic_rating</th>\n",
              "      <th>is_action</th>\n",
              "      <th>is_exclusive_to_us</th>\n",
              "      <th>is_portable</th>\n",
              "      <th>is_role_playing</th>\n",
              "      <th>is_sequel</th>\n",
              "      <th>is_sports</th>\n",
              "      <th>suitable_for_kids</th>\n",
              "      <th>total_earnings</th>\n",
              "      <th>unit_price</th>\n",
              "    </tr>\n",
              "  </thead>\n",
              "  <tbody>\n",
              "    <tr>\n",
              "      <th>0</th>\n",
              "      <td>3.5</td>\n",
              "      <td>1</td>\n",
              "      <td>0</td>\n",
              "      <td>1</td>\n",
              "      <td>0</td>\n",
              "      <td>1</td>\n",
              "      <td>0</td>\n",
              "      <td>0</td>\n",
              "      <td>132717</td>\n",
              "      <td>59.99</td>\n",
              "    </tr>\n",
              "    <tr>\n",
              "      <th>1</th>\n",
              "      <td>4.5</td>\n",
              "      <td>0</td>\n",
              "      <td>0</td>\n",
              "      <td>0</td>\n",
              "      <td>0</td>\n",
              "      <td>1</td>\n",
              "      <td>1</td>\n",
              "      <td>0</td>\n",
              "      <td>83407</td>\n",
              "      <td>49.99</td>\n",
              "    </tr>\n",
              "    <tr>\n",
              "      <th>2</th>\n",
              "      <td>3.0</td>\n",
              "      <td>0</td>\n",
              "      <td>0</td>\n",
              "      <td>0</td>\n",
              "      <td>0</td>\n",
              "      <td>1</td>\n",
              "      <td>1</td>\n",
              "      <td>0</td>\n",
              "      <td>62423</td>\n",
              "      <td>49.99</td>\n",
              "    </tr>\n",
              "    <tr>\n",
              "      <th>3</th>\n",
              "      <td>4.5</td>\n",
              "      <td>1</td>\n",
              "      <td>0</td>\n",
              "      <td>0</td>\n",
              "      <td>0</td>\n",
              "      <td>0</td>\n",
              "      <td>0</td>\n",
              "      <td>1</td>\n",
              "      <td>69889</td>\n",
              "      <td>39.99</td>\n",
              "    </tr>\n",
              "    <tr>\n",
              "      <th>4</th>\n",
              "      <td>4.0</td>\n",
              "      <td>1</td>\n",
              "      <td>0</td>\n",
              "      <td>1</td>\n",
              "      <td>0</td>\n",
              "      <td>1</td>\n",
              "      <td>0</td>\n",
              "      <td>1</td>\n",
              "      <td>161382</td>\n",
              "      <td>59.99</td>\n",
              "    </tr>\n",
              "  </tbody>\n",
              "</table>\n",
              "</div>\n",
              "      <button class=\"colab-df-convert\" onclick=\"convertToInteractive('df-d5a42a27-ccd8-4779-910b-026ef7336457')\"\n",
              "              title=\"Convert this dataframe to an interactive table.\"\n",
              "              style=\"display:none;\">\n",
              "        \n",
              "  <svg xmlns=\"http://www.w3.org/2000/svg\" height=\"24px\"viewBox=\"0 0 24 24\"\n",
              "       width=\"24px\">\n",
              "    <path d=\"M0 0h24v24H0V0z\" fill=\"none\"/>\n",
              "    <path d=\"M18.56 5.44l.94 2.06.94-2.06 2.06-.94-2.06-.94-.94-2.06-.94 2.06-2.06.94zm-11 1L8.5 8.5l.94-2.06 2.06-.94-2.06-.94L8.5 2.5l-.94 2.06-2.06.94zm10 10l.94 2.06.94-2.06 2.06-.94-2.06-.94-.94-2.06-.94 2.06-2.06.94z\"/><path d=\"M17.41 7.96l-1.37-1.37c-.4-.4-.92-.59-1.43-.59-.52 0-1.04.2-1.43.59L10.3 9.45l-7.72 7.72c-.78.78-.78 2.05 0 2.83L4 21.41c.39.39.9.59 1.41.59.51 0 1.02-.2 1.41-.59l7.78-7.78 2.81-2.81c.8-.78.8-2.07 0-2.86zM5.41 20L4 18.59l7.72-7.72 1.47 1.35L5.41 20z\"/>\n",
              "  </svg>\n",
              "      </button>\n",
              "      \n",
              "  <style>\n",
              "    .colab-df-container {\n",
              "      display:flex;\n",
              "      flex-wrap:wrap;\n",
              "      gap: 12px;\n",
              "    }\n",
              "\n",
              "    .colab-df-convert {\n",
              "      background-color: #E8F0FE;\n",
              "      border: none;\n",
              "      border-radius: 50%;\n",
              "      cursor: pointer;\n",
              "      display: none;\n",
              "      fill: #1967D2;\n",
              "      height: 32px;\n",
              "      padding: 0 0 0 0;\n",
              "      width: 32px;\n",
              "    }\n",
              "\n",
              "    .colab-df-convert:hover {\n",
              "      background-color: #E2EBFA;\n",
              "      box-shadow: 0px 1px 2px rgba(60, 64, 67, 0.3), 0px 1px 3px 1px rgba(60, 64, 67, 0.15);\n",
              "      fill: #174EA6;\n",
              "    }\n",
              "\n",
              "    [theme=dark] .colab-df-convert {\n",
              "      background-color: #3B4455;\n",
              "      fill: #D2E3FC;\n",
              "    }\n",
              "\n",
              "    [theme=dark] .colab-df-convert:hover {\n",
              "      background-color: #434B5C;\n",
              "      box-shadow: 0px 1px 3px 1px rgba(0, 0, 0, 0.15);\n",
              "      filter: drop-shadow(0px 1px 2px rgba(0, 0, 0, 0.3));\n",
              "      fill: #FFFFFF;\n",
              "    }\n",
              "  </style>\n",
              "\n",
              "      <script>\n",
              "        const buttonEl =\n",
              "          document.querySelector('#df-d5a42a27-ccd8-4779-910b-026ef7336457 button.colab-df-convert');\n",
              "        buttonEl.style.display =\n",
              "          google.colab.kernel.accessAllowed ? 'block' : 'none';\n",
              "\n",
              "        async function convertToInteractive(key) {\n",
              "          const element = document.querySelector('#df-d5a42a27-ccd8-4779-910b-026ef7336457');\n",
              "          const dataTable =\n",
              "            await google.colab.kernel.invokeFunction('convertToInteractive',\n",
              "                                                     [key], {});\n",
              "          if (!dataTable) return;\n",
              "\n",
              "          const docLinkHtml = 'Like what you see? Visit the ' +\n",
              "            '<a target=\"_blank\" href=https://colab.research.google.com/notebooks/data_table.ipynb>data table notebook</a>'\n",
              "            + ' to learn more about interactive tables.';\n",
              "          element.innerHTML = '';\n",
              "          dataTable['output_type'] = 'display_data';\n",
              "          await google.colab.output.renderOutput(dataTable, element);\n",
              "          const docLink = document.createElement('div');\n",
              "          docLink.innerHTML = docLinkHtml;\n",
              "          element.appendChild(docLink);\n",
              "        }\n",
              "      </script>\n",
              "    </div>\n",
              "  </div>\n",
              "  "
            ]
          },
          "metadata": {},
          "execution_count": 75
        }
      ]
    },
    {
      "cell_type": "markdown",
      "source": [
        "* The above data set represents the salse of a gaming company.\n",
        "* **critic_rating :** game rating out of 5\n",
        "* **is_action :** if the game is action game\n",
        "* **is_portable :** if the game portable on mobile phone\n",
        "* **is_role_playing :** if the game is role playing\n",
        "* **is_sequal :** if the game is sequal of other game\n",
        "* **is_sports :** if the game is sports based\n",
        "* **suitable_for_kids :** if the game is suitable for kids\n",
        "* **total_earnings :** total earning from this same\n",
        "* **unit_price :** price of each unit"
      ],
      "metadata": {
        "id": "Lo1Ig_LXhHYq"
      }
    },
    {
      "cell_type": "code",
      "source": [
        "testing_data = pd.read_csv(\"sales_data_test.csv\")"
      ],
      "metadata": {
        "id": "LbFevCTmhEp-"
      },
      "execution_count": 76,
      "outputs": []
    },
    {
      "cell_type": "code",
      "source": [
        "print(training_data.shape, testing_data.shape)"
      ],
      "metadata": {
        "colab": {
          "base_uri": "https://localhost:8080/"
        },
        "id": "6WE4R2ihiP0i",
        "outputId": "24e67111-04ab-4238-a5d8-1fe90a089b9b"
      },
      "execution_count": 77,
      "outputs": [
        {
          "output_type": "stream",
          "name": "stdout",
          "text": [
            "(1000, 10) (400, 10)\n"
          ]
        }
      ]
    },
    {
      "cell_type": "markdown",
      "source": [
        "Since neural netowrk work best on scaled data, we will scale the whole data frame to (0,1)"
      ],
      "metadata": {
        "id": "7DVh6y5oiZBb"
      }
    },
    {
      "cell_type": "code",
      "source": [
        "from sklearn.preprocessing import MinMaxScaler"
      ],
      "metadata": {
        "id": "4yDMBliOiU6M"
      },
      "execution_count": 78,
      "outputs": []
    },
    {
      "cell_type": "code",
      "source": [
        "scaler = MinMaxScaler(feature_range=(0,1))\n",
        "\n",
        "training_data_scaled = scaler.fit_transform(training_data)\n",
        "testing_data_scaled = scaler.fit_transform(testing_data)"
      ],
      "metadata": {
        "id": "uuWnPndMi4gd"
      },
      "execution_count": 79,
      "outputs": []
    },
    {
      "cell_type": "code",
      "source": [
        "testing_data_df = pd.DataFrame(testing_data_scaled, columns=None)"
      ],
      "metadata": {
        "id": "pm-y7tB3lEkC"
      },
      "execution_count": 80,
      "outputs": []
    },
    {
      "cell_type": "code",
      "source": [
        "testing_data_df.head(2)"
      ],
      "metadata": {
        "colab": {
          "base_uri": "https://localhost:8080/",
          "height": 112
        },
        "id": "hn5Tl6balQgA",
        "outputId": "50e95120-f9f8-4608-af8f-eb518ea5e2bf"
      },
      "execution_count": 81,
      "outputs": [
        {
          "output_type": "execute_result",
          "data": {
            "text/plain": [
              "          0    1    2    3    4    5    6    7         8    9\n",
              "0  0.500000  1.0  1.0  1.0  0.0  1.0  0.0  1.0  0.895324  1.0\n",
              "1  0.166667  0.0  0.0  0.0  1.0  1.0  0.0  0.0  0.159931  1.0"
            ],
            "text/html": [
              "\n",
              "  <div id=\"df-621c621f-ae0f-47bf-9c9d-5c0932dd1724\">\n",
              "    <div class=\"colab-df-container\">\n",
              "      <div>\n",
              "<style scoped>\n",
              "    .dataframe tbody tr th:only-of-type {\n",
              "        vertical-align: middle;\n",
              "    }\n",
              "\n",
              "    .dataframe tbody tr th {\n",
              "        vertical-align: top;\n",
              "    }\n",
              "\n",
              "    .dataframe thead th {\n",
              "        text-align: right;\n",
              "    }\n",
              "</style>\n",
              "<table border=\"1\" class=\"dataframe\">\n",
              "  <thead>\n",
              "    <tr style=\"text-align: right;\">\n",
              "      <th></th>\n",
              "      <th>0</th>\n",
              "      <th>1</th>\n",
              "      <th>2</th>\n",
              "      <th>3</th>\n",
              "      <th>4</th>\n",
              "      <th>5</th>\n",
              "      <th>6</th>\n",
              "      <th>7</th>\n",
              "      <th>8</th>\n",
              "      <th>9</th>\n",
              "    </tr>\n",
              "  </thead>\n",
              "  <tbody>\n",
              "    <tr>\n",
              "      <th>0</th>\n",
              "      <td>0.500000</td>\n",
              "      <td>1.0</td>\n",
              "      <td>1.0</td>\n",
              "      <td>1.0</td>\n",
              "      <td>0.0</td>\n",
              "      <td>1.0</td>\n",
              "      <td>0.0</td>\n",
              "      <td>1.0</td>\n",
              "      <td>0.895324</td>\n",
              "      <td>1.0</td>\n",
              "    </tr>\n",
              "    <tr>\n",
              "      <th>1</th>\n",
              "      <td>0.166667</td>\n",
              "      <td>0.0</td>\n",
              "      <td>0.0</td>\n",
              "      <td>0.0</td>\n",
              "      <td>1.0</td>\n",
              "      <td>1.0</td>\n",
              "      <td>0.0</td>\n",
              "      <td>0.0</td>\n",
              "      <td>0.159931</td>\n",
              "      <td>1.0</td>\n",
              "    </tr>\n",
              "  </tbody>\n",
              "</table>\n",
              "</div>\n",
              "      <button class=\"colab-df-convert\" onclick=\"convertToInteractive('df-621c621f-ae0f-47bf-9c9d-5c0932dd1724')\"\n",
              "              title=\"Convert this dataframe to an interactive table.\"\n",
              "              style=\"display:none;\">\n",
              "        \n",
              "  <svg xmlns=\"http://www.w3.org/2000/svg\" height=\"24px\"viewBox=\"0 0 24 24\"\n",
              "       width=\"24px\">\n",
              "    <path d=\"M0 0h24v24H0V0z\" fill=\"none\"/>\n",
              "    <path d=\"M18.56 5.44l.94 2.06.94-2.06 2.06-.94-2.06-.94-.94-2.06-.94 2.06-2.06.94zm-11 1L8.5 8.5l.94-2.06 2.06-.94-2.06-.94L8.5 2.5l-.94 2.06-2.06.94zm10 10l.94 2.06.94-2.06 2.06-.94-2.06-.94-.94-2.06-.94 2.06-2.06.94z\"/><path d=\"M17.41 7.96l-1.37-1.37c-.4-.4-.92-.59-1.43-.59-.52 0-1.04.2-1.43.59L10.3 9.45l-7.72 7.72c-.78.78-.78 2.05 0 2.83L4 21.41c.39.39.9.59 1.41.59.51 0 1.02-.2 1.41-.59l7.78-7.78 2.81-2.81c.8-.78.8-2.07 0-2.86zM5.41 20L4 18.59l7.72-7.72 1.47 1.35L5.41 20z\"/>\n",
              "  </svg>\n",
              "      </button>\n",
              "      \n",
              "  <style>\n",
              "    .colab-df-container {\n",
              "      display:flex;\n",
              "      flex-wrap:wrap;\n",
              "      gap: 12px;\n",
              "    }\n",
              "\n",
              "    .colab-df-convert {\n",
              "      background-color: #E8F0FE;\n",
              "      border: none;\n",
              "      border-radius: 50%;\n",
              "      cursor: pointer;\n",
              "      display: none;\n",
              "      fill: #1967D2;\n",
              "      height: 32px;\n",
              "      padding: 0 0 0 0;\n",
              "      width: 32px;\n",
              "    }\n",
              "\n",
              "    .colab-df-convert:hover {\n",
              "      background-color: #E2EBFA;\n",
              "      box-shadow: 0px 1px 2px rgba(60, 64, 67, 0.3), 0px 1px 3px 1px rgba(60, 64, 67, 0.15);\n",
              "      fill: #174EA6;\n",
              "    }\n",
              "\n",
              "    [theme=dark] .colab-df-convert {\n",
              "      background-color: #3B4455;\n",
              "      fill: #D2E3FC;\n",
              "    }\n",
              "\n",
              "    [theme=dark] .colab-df-convert:hover {\n",
              "      background-color: #434B5C;\n",
              "      box-shadow: 0px 1px 3px 1px rgba(0, 0, 0, 0.15);\n",
              "      filter: drop-shadow(0px 1px 2px rgba(0, 0, 0, 0.3));\n",
              "      fill: #FFFFFF;\n",
              "    }\n",
              "  </style>\n",
              "\n",
              "      <script>\n",
              "        const buttonEl =\n",
              "          document.querySelector('#df-621c621f-ae0f-47bf-9c9d-5c0932dd1724 button.colab-df-convert');\n",
              "        buttonEl.style.display =\n",
              "          google.colab.kernel.accessAllowed ? 'block' : 'none';\n",
              "\n",
              "        async function convertToInteractive(key) {\n",
              "          const element = document.querySelector('#df-621c621f-ae0f-47bf-9c9d-5c0932dd1724');\n",
              "          const dataTable =\n",
              "            await google.colab.kernel.invokeFunction('convertToInteractive',\n",
              "                                                     [key], {});\n",
              "          if (!dataTable) return;\n",
              "\n",
              "          const docLinkHtml = 'Like what you see? Visit the ' +\n",
              "            '<a target=\"_blank\" href=https://colab.research.google.com/notebooks/data_table.ipynb>data table notebook</a>'\n",
              "            + ' to learn more about interactive tables.';\n",
              "          element.innerHTML = '';\n",
              "          dataTable['output_type'] = 'display_data';\n",
              "          await google.colab.output.renderOutput(dataTable, element);\n",
              "          const docLink = document.createElement('div');\n",
              "          docLink.innerHTML = docLinkHtml;\n",
              "          element.appendChild(docLink);\n",
              "        }\n",
              "      </script>\n",
              "    </div>\n",
              "  </div>\n",
              "  "
            ]
          },
          "metadata": {},
          "execution_count": 81
        }
      ]
    },
    {
      "cell_type": "code",
      "source": [
        "testing_data.head(2)"
      ],
      "metadata": {
        "colab": {
          "base_uri": "https://localhost:8080/",
          "height": 112
        },
        "id": "W4Vm4kS_lnRh",
        "outputId": "d6dd7d7c-cb68-4cf4-95e2-d1b130117f9e"
      },
      "execution_count": 82,
      "outputs": [
        {
          "output_type": "execute_result",
          "data": {
            "text/plain": [
              "   critic_rating  is_action  is_exclusive_to_us  is_portable  is_role_playing  \\\n",
              "0            3.5          1                   1            1                0   \n",
              "1            2.5          0                   0            0                1   \n",
              "\n",
              "   is_sequel  is_sports  suitable_for_kids  total_earnings  unit_price  \n",
              "0          1          0                  1          247537       59.99  \n",
              "1          1          0                  0           73960       59.99  "
            ],
            "text/html": [
              "\n",
              "  <div id=\"df-9e1c8a28-1168-4e16-86ac-4a96ca58d523\">\n",
              "    <div class=\"colab-df-container\">\n",
              "      <div>\n",
              "<style scoped>\n",
              "    .dataframe tbody tr th:only-of-type {\n",
              "        vertical-align: middle;\n",
              "    }\n",
              "\n",
              "    .dataframe tbody tr th {\n",
              "        vertical-align: top;\n",
              "    }\n",
              "\n",
              "    .dataframe thead th {\n",
              "        text-align: right;\n",
              "    }\n",
              "</style>\n",
              "<table border=\"1\" class=\"dataframe\">\n",
              "  <thead>\n",
              "    <tr style=\"text-align: right;\">\n",
              "      <th></th>\n",
              "      <th>critic_rating</th>\n",
              "      <th>is_action</th>\n",
              "      <th>is_exclusive_to_us</th>\n",
              "      <th>is_portable</th>\n",
              "      <th>is_role_playing</th>\n",
              "      <th>is_sequel</th>\n",
              "      <th>is_sports</th>\n",
              "      <th>suitable_for_kids</th>\n",
              "      <th>total_earnings</th>\n",
              "      <th>unit_price</th>\n",
              "    </tr>\n",
              "  </thead>\n",
              "  <tbody>\n",
              "    <tr>\n",
              "      <th>0</th>\n",
              "      <td>3.5</td>\n",
              "      <td>1</td>\n",
              "      <td>1</td>\n",
              "      <td>1</td>\n",
              "      <td>0</td>\n",
              "      <td>1</td>\n",
              "      <td>0</td>\n",
              "      <td>1</td>\n",
              "      <td>247537</td>\n",
              "      <td>59.99</td>\n",
              "    </tr>\n",
              "    <tr>\n",
              "      <th>1</th>\n",
              "      <td>2.5</td>\n",
              "      <td>0</td>\n",
              "      <td>0</td>\n",
              "      <td>0</td>\n",
              "      <td>1</td>\n",
              "      <td>1</td>\n",
              "      <td>0</td>\n",
              "      <td>0</td>\n",
              "      <td>73960</td>\n",
              "      <td>59.99</td>\n",
              "    </tr>\n",
              "  </tbody>\n",
              "</table>\n",
              "</div>\n",
              "      <button class=\"colab-df-convert\" onclick=\"convertToInteractive('df-9e1c8a28-1168-4e16-86ac-4a96ca58d523')\"\n",
              "              title=\"Convert this dataframe to an interactive table.\"\n",
              "              style=\"display:none;\">\n",
              "        \n",
              "  <svg xmlns=\"http://www.w3.org/2000/svg\" height=\"24px\"viewBox=\"0 0 24 24\"\n",
              "       width=\"24px\">\n",
              "    <path d=\"M0 0h24v24H0V0z\" fill=\"none\"/>\n",
              "    <path d=\"M18.56 5.44l.94 2.06.94-2.06 2.06-.94-2.06-.94-.94-2.06-.94 2.06-2.06.94zm-11 1L8.5 8.5l.94-2.06 2.06-.94-2.06-.94L8.5 2.5l-.94 2.06-2.06.94zm10 10l.94 2.06.94-2.06 2.06-.94-2.06-.94-.94-2.06-.94 2.06-2.06.94z\"/><path d=\"M17.41 7.96l-1.37-1.37c-.4-.4-.92-.59-1.43-.59-.52 0-1.04.2-1.43.59L10.3 9.45l-7.72 7.72c-.78.78-.78 2.05 0 2.83L4 21.41c.39.39.9.59 1.41.59.51 0 1.02-.2 1.41-.59l7.78-7.78 2.81-2.81c.8-.78.8-2.07 0-2.86zM5.41 20L4 18.59l7.72-7.72 1.47 1.35L5.41 20z\"/>\n",
              "  </svg>\n",
              "      </button>\n",
              "      \n",
              "  <style>\n",
              "    .colab-df-container {\n",
              "      display:flex;\n",
              "      flex-wrap:wrap;\n",
              "      gap: 12px;\n",
              "    }\n",
              "\n",
              "    .colab-df-convert {\n",
              "      background-color: #E8F0FE;\n",
              "      border: none;\n",
              "      border-radius: 50%;\n",
              "      cursor: pointer;\n",
              "      display: none;\n",
              "      fill: #1967D2;\n",
              "      height: 32px;\n",
              "      padding: 0 0 0 0;\n",
              "      width: 32px;\n",
              "    }\n",
              "\n",
              "    .colab-df-convert:hover {\n",
              "      background-color: #E2EBFA;\n",
              "      box-shadow: 0px 1px 2px rgba(60, 64, 67, 0.3), 0px 1px 3px 1px rgba(60, 64, 67, 0.15);\n",
              "      fill: #174EA6;\n",
              "    }\n",
              "\n",
              "    [theme=dark] .colab-df-convert {\n",
              "      background-color: #3B4455;\n",
              "      fill: #D2E3FC;\n",
              "    }\n",
              "\n",
              "    [theme=dark] .colab-df-convert:hover {\n",
              "      background-color: #434B5C;\n",
              "      box-shadow: 0px 1px 3px 1px rgba(0, 0, 0, 0.15);\n",
              "      filter: drop-shadow(0px 1px 2px rgba(0, 0, 0, 0.3));\n",
              "      fill: #FFFFFF;\n",
              "    }\n",
              "  </style>\n",
              "\n",
              "      <script>\n",
              "        const buttonEl =\n",
              "          document.querySelector('#df-9e1c8a28-1168-4e16-86ac-4a96ca58d523 button.colab-df-convert');\n",
              "        buttonEl.style.display =\n",
              "          google.colab.kernel.accessAllowed ? 'block' : 'none';\n",
              "\n",
              "        async function convertToInteractive(key) {\n",
              "          const element = document.querySelector('#df-9e1c8a28-1168-4e16-86ac-4a96ca58d523');\n",
              "          const dataTable =\n",
              "            await google.colab.kernel.invokeFunction('convertToInteractive',\n",
              "                                                     [key], {});\n",
              "          if (!dataTable) return;\n",
              "\n",
              "          const docLinkHtml = 'Like what you see? Visit the ' +\n",
              "            '<a target=\"_blank\" href=https://colab.research.google.com/notebooks/data_table.ipynb>data table notebook</a>'\n",
              "            + ' to learn more about interactive tables.';\n",
              "          element.innerHTML = '';\n",
              "          dataTable['output_type'] = 'display_data';\n",
              "          await google.colab.output.renderOutput(dataTable, element);\n",
              "          const docLink = document.createElement('div');\n",
              "          docLink.innerHTML = docLinkHtml;\n",
              "          element.appendChild(docLink);\n",
              "        }\n",
              "      </script>\n",
              "    </div>\n",
              "  </div>\n",
              "  "
            ]
          },
          "metadata": {},
          "execution_count": 82
        }
      ]
    },
    {
      "cell_type": "code",
      "source": [
        "testing_data_df = pd.DataFrame(data=testing_data_df.values, columns=testing_data.columns)\n",
        "testing_data_df.head()"
      ],
      "metadata": {
        "colab": {
          "base_uri": "https://localhost:8080/",
          "height": 206
        },
        "id": "1DEzbg_dmwUX",
        "outputId": "ef4aa7a7-4cdf-4954-ef88-c67ff7f256c6"
      },
      "execution_count": 83,
      "outputs": [
        {
          "output_type": "execute_result",
          "data": {
            "text/plain": [
              "   critic_rating  is_action  is_exclusive_to_us  is_portable  is_role_playing  \\\n",
              "0       0.500000        1.0                 1.0          1.0              0.0   \n",
              "1       0.166667        0.0                 0.0          0.0              1.0   \n",
              "2       0.500000        0.0                 0.0          0.0              0.0   \n",
              "3       0.666667        1.0                 1.0          0.0              0.0   \n",
              "4       0.000000        1.0                 0.0          1.0              0.0   \n",
              "\n",
              "   is_sequel  is_sports  suitable_for_kids  total_earnings  unit_price  \n",
              "0        1.0        0.0                1.0        0.895324         1.0  \n",
              "1        1.0        0.0                0.0        0.159931         1.0  \n",
              "2        1.0        1.0                0.0        0.196837         1.0  \n",
              "3        1.0        0.0                0.0        0.428944         0.0  \n",
              "4        1.0        0.0                0.0        0.226358         1.0  "
            ],
            "text/html": [
              "\n",
              "  <div id=\"df-3ed98aeb-e322-4a3f-a7b9-8f03be430227\">\n",
              "    <div class=\"colab-df-container\">\n",
              "      <div>\n",
              "<style scoped>\n",
              "    .dataframe tbody tr th:only-of-type {\n",
              "        vertical-align: middle;\n",
              "    }\n",
              "\n",
              "    .dataframe tbody tr th {\n",
              "        vertical-align: top;\n",
              "    }\n",
              "\n",
              "    .dataframe thead th {\n",
              "        text-align: right;\n",
              "    }\n",
              "</style>\n",
              "<table border=\"1\" class=\"dataframe\">\n",
              "  <thead>\n",
              "    <tr style=\"text-align: right;\">\n",
              "      <th></th>\n",
              "      <th>critic_rating</th>\n",
              "      <th>is_action</th>\n",
              "      <th>is_exclusive_to_us</th>\n",
              "      <th>is_portable</th>\n",
              "      <th>is_role_playing</th>\n",
              "      <th>is_sequel</th>\n",
              "      <th>is_sports</th>\n",
              "      <th>suitable_for_kids</th>\n",
              "      <th>total_earnings</th>\n",
              "      <th>unit_price</th>\n",
              "    </tr>\n",
              "  </thead>\n",
              "  <tbody>\n",
              "    <tr>\n",
              "      <th>0</th>\n",
              "      <td>0.500000</td>\n",
              "      <td>1.0</td>\n",
              "      <td>1.0</td>\n",
              "      <td>1.0</td>\n",
              "      <td>0.0</td>\n",
              "      <td>1.0</td>\n",
              "      <td>0.0</td>\n",
              "      <td>1.0</td>\n",
              "      <td>0.895324</td>\n",
              "      <td>1.0</td>\n",
              "    </tr>\n",
              "    <tr>\n",
              "      <th>1</th>\n",
              "      <td>0.166667</td>\n",
              "      <td>0.0</td>\n",
              "      <td>0.0</td>\n",
              "      <td>0.0</td>\n",
              "      <td>1.0</td>\n",
              "      <td>1.0</td>\n",
              "      <td>0.0</td>\n",
              "      <td>0.0</td>\n",
              "      <td>0.159931</td>\n",
              "      <td>1.0</td>\n",
              "    </tr>\n",
              "    <tr>\n",
              "      <th>2</th>\n",
              "      <td>0.500000</td>\n",
              "      <td>0.0</td>\n",
              "      <td>0.0</td>\n",
              "      <td>0.0</td>\n",
              "      <td>0.0</td>\n",
              "      <td>1.0</td>\n",
              "      <td>1.0</td>\n",
              "      <td>0.0</td>\n",
              "      <td>0.196837</td>\n",
              "      <td>1.0</td>\n",
              "    </tr>\n",
              "    <tr>\n",
              "      <th>3</th>\n",
              "      <td>0.666667</td>\n",
              "      <td>1.0</td>\n",
              "      <td>1.0</td>\n",
              "      <td>0.0</td>\n",
              "      <td>0.0</td>\n",
              "      <td>1.0</td>\n",
              "      <td>0.0</td>\n",
              "      <td>0.0</td>\n",
              "      <td>0.428944</td>\n",
              "      <td>0.0</td>\n",
              "    </tr>\n",
              "    <tr>\n",
              "      <th>4</th>\n",
              "      <td>0.000000</td>\n",
              "      <td>1.0</td>\n",
              "      <td>0.0</td>\n",
              "      <td>1.0</td>\n",
              "      <td>0.0</td>\n",
              "      <td>1.0</td>\n",
              "      <td>0.0</td>\n",
              "      <td>0.0</td>\n",
              "      <td>0.226358</td>\n",
              "      <td>1.0</td>\n",
              "    </tr>\n",
              "  </tbody>\n",
              "</table>\n",
              "</div>\n",
              "      <button class=\"colab-df-convert\" onclick=\"convertToInteractive('df-3ed98aeb-e322-4a3f-a7b9-8f03be430227')\"\n",
              "              title=\"Convert this dataframe to an interactive table.\"\n",
              "              style=\"display:none;\">\n",
              "        \n",
              "  <svg xmlns=\"http://www.w3.org/2000/svg\" height=\"24px\"viewBox=\"0 0 24 24\"\n",
              "       width=\"24px\">\n",
              "    <path d=\"M0 0h24v24H0V0z\" fill=\"none\"/>\n",
              "    <path d=\"M18.56 5.44l.94 2.06.94-2.06 2.06-.94-2.06-.94-.94-2.06-.94 2.06-2.06.94zm-11 1L8.5 8.5l.94-2.06 2.06-.94-2.06-.94L8.5 2.5l-.94 2.06-2.06.94zm10 10l.94 2.06.94-2.06 2.06-.94-2.06-.94-.94-2.06-.94 2.06-2.06.94z\"/><path d=\"M17.41 7.96l-1.37-1.37c-.4-.4-.92-.59-1.43-.59-.52 0-1.04.2-1.43.59L10.3 9.45l-7.72 7.72c-.78.78-.78 2.05 0 2.83L4 21.41c.39.39.9.59 1.41.59.51 0 1.02-.2 1.41-.59l7.78-7.78 2.81-2.81c.8-.78.8-2.07 0-2.86zM5.41 20L4 18.59l7.72-7.72 1.47 1.35L5.41 20z\"/>\n",
              "  </svg>\n",
              "      </button>\n",
              "      \n",
              "  <style>\n",
              "    .colab-df-container {\n",
              "      display:flex;\n",
              "      flex-wrap:wrap;\n",
              "      gap: 12px;\n",
              "    }\n",
              "\n",
              "    .colab-df-convert {\n",
              "      background-color: #E8F0FE;\n",
              "      border: none;\n",
              "      border-radius: 50%;\n",
              "      cursor: pointer;\n",
              "      display: none;\n",
              "      fill: #1967D2;\n",
              "      height: 32px;\n",
              "      padding: 0 0 0 0;\n",
              "      width: 32px;\n",
              "    }\n",
              "\n",
              "    .colab-df-convert:hover {\n",
              "      background-color: #E2EBFA;\n",
              "      box-shadow: 0px 1px 2px rgba(60, 64, 67, 0.3), 0px 1px 3px 1px rgba(60, 64, 67, 0.15);\n",
              "      fill: #174EA6;\n",
              "    }\n",
              "\n",
              "    [theme=dark] .colab-df-convert {\n",
              "      background-color: #3B4455;\n",
              "      fill: #D2E3FC;\n",
              "    }\n",
              "\n",
              "    [theme=dark] .colab-df-convert:hover {\n",
              "      background-color: #434B5C;\n",
              "      box-shadow: 0px 1px 3px 1px rgba(0, 0, 0, 0.15);\n",
              "      filter: drop-shadow(0px 1px 2px rgba(0, 0, 0, 0.3));\n",
              "      fill: #FFFFFF;\n",
              "    }\n",
              "  </style>\n",
              "\n",
              "      <script>\n",
              "        const buttonEl =\n",
              "          document.querySelector('#df-3ed98aeb-e322-4a3f-a7b9-8f03be430227 button.colab-df-convert');\n",
              "        buttonEl.style.display =\n",
              "          google.colab.kernel.accessAllowed ? 'block' : 'none';\n",
              "\n",
              "        async function convertToInteractive(key) {\n",
              "          const element = document.querySelector('#df-3ed98aeb-e322-4a3f-a7b9-8f03be430227');\n",
              "          const dataTable =\n",
              "            await google.colab.kernel.invokeFunction('convertToInteractive',\n",
              "                                                     [key], {});\n",
              "          if (!dataTable) return;\n",
              "\n",
              "          const docLinkHtml = 'Like what you see? Visit the ' +\n",
              "            '<a target=\"_blank\" href=https://colab.research.google.com/notebooks/data_table.ipynb>data table notebook</a>'\n",
              "            + ' to learn more about interactive tables.';\n",
              "          element.innerHTML = '';\n",
              "          dataTable['output_type'] = 'display_data';\n",
              "          await google.colab.output.renderOutput(dataTable, element);\n",
              "          const docLink = document.createElement('div');\n",
              "          docLink.innerHTML = docLinkHtml;\n",
              "          element.appendChild(docLink);\n",
              "        }\n",
              "      </script>\n",
              "    </div>\n",
              "  </div>\n",
              "  "
            ]
          },
          "metadata": {},
          "execution_count": 83
        }
      ]
    },
    {
      "cell_type": "code",
      "source": [
        "training_data_df = pd.DataFrame(data=training_data_scaled, columns=training_data.columns)\n",
        "training_data_df.head(2)"
      ],
      "metadata": {
        "colab": {
          "base_uri": "https://localhost:8080/",
          "height": 112
        },
        "id": "-G26Nd77nDcA",
        "outputId": "c755b0a8-7e0a-470a-f105-ed8a85637aec"
      },
      "execution_count": 84,
      "outputs": [
        {
          "output_type": "execute_result",
          "data": {
            "text/plain": [
              "   critic_rating  is_action  is_exclusive_to_us  is_portable  is_role_playing  \\\n",
              "0       0.500000        1.0                 0.0          1.0              0.0   \n",
              "1       0.833333        0.0                 0.0          0.0              0.0   \n",
              "\n",
              "   is_sequel  is_sports  suitable_for_kids  total_earnings  unit_price  \n",
              "0        1.0        0.0                0.0        0.374714         1.0  \n",
              "1        1.0        1.0                0.0        0.192425         0.5  "
            ],
            "text/html": [
              "\n",
              "  <div id=\"df-ed2a66e3-3572-46a0-a93c-b22cf309761c\">\n",
              "    <div class=\"colab-df-container\">\n",
              "      <div>\n",
              "<style scoped>\n",
              "    .dataframe tbody tr th:only-of-type {\n",
              "        vertical-align: middle;\n",
              "    }\n",
              "\n",
              "    .dataframe tbody tr th {\n",
              "        vertical-align: top;\n",
              "    }\n",
              "\n",
              "    .dataframe thead th {\n",
              "        text-align: right;\n",
              "    }\n",
              "</style>\n",
              "<table border=\"1\" class=\"dataframe\">\n",
              "  <thead>\n",
              "    <tr style=\"text-align: right;\">\n",
              "      <th></th>\n",
              "      <th>critic_rating</th>\n",
              "      <th>is_action</th>\n",
              "      <th>is_exclusive_to_us</th>\n",
              "      <th>is_portable</th>\n",
              "      <th>is_role_playing</th>\n",
              "      <th>is_sequel</th>\n",
              "      <th>is_sports</th>\n",
              "      <th>suitable_for_kids</th>\n",
              "      <th>total_earnings</th>\n",
              "      <th>unit_price</th>\n",
              "    </tr>\n",
              "  </thead>\n",
              "  <tbody>\n",
              "    <tr>\n",
              "      <th>0</th>\n",
              "      <td>0.500000</td>\n",
              "      <td>1.0</td>\n",
              "      <td>0.0</td>\n",
              "      <td>1.0</td>\n",
              "      <td>0.0</td>\n",
              "      <td>1.0</td>\n",
              "      <td>0.0</td>\n",
              "      <td>0.0</td>\n",
              "      <td>0.374714</td>\n",
              "      <td>1.0</td>\n",
              "    </tr>\n",
              "    <tr>\n",
              "      <th>1</th>\n",
              "      <td>0.833333</td>\n",
              "      <td>0.0</td>\n",
              "      <td>0.0</td>\n",
              "      <td>0.0</td>\n",
              "      <td>0.0</td>\n",
              "      <td>1.0</td>\n",
              "      <td>1.0</td>\n",
              "      <td>0.0</td>\n",
              "      <td>0.192425</td>\n",
              "      <td>0.5</td>\n",
              "    </tr>\n",
              "  </tbody>\n",
              "</table>\n",
              "</div>\n",
              "      <button class=\"colab-df-convert\" onclick=\"convertToInteractive('df-ed2a66e3-3572-46a0-a93c-b22cf309761c')\"\n",
              "              title=\"Convert this dataframe to an interactive table.\"\n",
              "              style=\"display:none;\">\n",
              "        \n",
              "  <svg xmlns=\"http://www.w3.org/2000/svg\" height=\"24px\"viewBox=\"0 0 24 24\"\n",
              "       width=\"24px\">\n",
              "    <path d=\"M0 0h24v24H0V0z\" fill=\"none\"/>\n",
              "    <path d=\"M18.56 5.44l.94 2.06.94-2.06 2.06-.94-2.06-.94-.94-2.06-.94 2.06-2.06.94zm-11 1L8.5 8.5l.94-2.06 2.06-.94-2.06-.94L8.5 2.5l-.94 2.06-2.06.94zm10 10l.94 2.06.94-2.06 2.06-.94-2.06-.94-.94-2.06-.94 2.06-2.06.94z\"/><path d=\"M17.41 7.96l-1.37-1.37c-.4-.4-.92-.59-1.43-.59-.52 0-1.04.2-1.43.59L10.3 9.45l-7.72 7.72c-.78.78-.78 2.05 0 2.83L4 21.41c.39.39.9.59 1.41.59.51 0 1.02-.2 1.41-.59l7.78-7.78 2.81-2.81c.8-.78.8-2.07 0-2.86zM5.41 20L4 18.59l7.72-7.72 1.47 1.35L5.41 20z\"/>\n",
              "  </svg>\n",
              "      </button>\n",
              "      \n",
              "  <style>\n",
              "    .colab-df-container {\n",
              "      display:flex;\n",
              "      flex-wrap:wrap;\n",
              "      gap: 12px;\n",
              "    }\n",
              "\n",
              "    .colab-df-convert {\n",
              "      background-color: #E8F0FE;\n",
              "      border: none;\n",
              "      border-radius: 50%;\n",
              "      cursor: pointer;\n",
              "      display: none;\n",
              "      fill: #1967D2;\n",
              "      height: 32px;\n",
              "      padding: 0 0 0 0;\n",
              "      width: 32px;\n",
              "    }\n",
              "\n",
              "    .colab-df-convert:hover {\n",
              "      background-color: #E2EBFA;\n",
              "      box-shadow: 0px 1px 2px rgba(60, 64, 67, 0.3), 0px 1px 3px 1px rgba(60, 64, 67, 0.15);\n",
              "      fill: #174EA6;\n",
              "    }\n",
              "\n",
              "    [theme=dark] .colab-df-convert {\n",
              "      background-color: #3B4455;\n",
              "      fill: #D2E3FC;\n",
              "    }\n",
              "\n",
              "    [theme=dark] .colab-df-convert:hover {\n",
              "      background-color: #434B5C;\n",
              "      box-shadow: 0px 1px 3px 1px rgba(0, 0, 0, 0.15);\n",
              "      filter: drop-shadow(0px 1px 2px rgba(0, 0, 0, 0.3));\n",
              "      fill: #FFFFFF;\n",
              "    }\n",
              "  </style>\n",
              "\n",
              "      <script>\n",
              "        const buttonEl =\n",
              "          document.querySelector('#df-ed2a66e3-3572-46a0-a93c-b22cf309761c button.colab-df-convert');\n",
              "        buttonEl.style.display =\n",
              "          google.colab.kernel.accessAllowed ? 'block' : 'none';\n",
              "\n",
              "        async function convertToInteractive(key) {\n",
              "          const element = document.querySelector('#df-ed2a66e3-3572-46a0-a93c-b22cf309761c');\n",
              "          const dataTable =\n",
              "            await google.colab.kernel.invokeFunction('convertToInteractive',\n",
              "                                                     [key], {});\n",
              "          if (!dataTable) return;\n",
              "\n",
              "          const docLinkHtml = 'Like what you see? Visit the ' +\n",
              "            '<a target=\"_blank\" href=https://colab.research.google.com/notebooks/data_table.ipynb>data table notebook</a>'\n",
              "            + ' to learn more about interactive tables.';\n",
              "          element.innerHTML = '';\n",
              "          dataTable['output_type'] = 'display_data';\n",
              "          await google.colab.output.renderOutput(dataTable, element);\n",
              "          const docLink = document.createElement('div');\n",
              "          docLink.innerHTML = docLinkHtml;\n",
              "          element.appendChild(docLink);\n",
              "        }\n",
              "      </script>\n",
              "    </div>\n",
              "  </div>\n",
              "  "
            ]
          },
          "metadata": {},
          "execution_count": 84
        }
      ]
    },
    {
      "cell_type": "markdown",
      "source": [
        "## **Now we will create the Model**\n"
      ],
      "metadata": {
        "id": "uDBYxHAyj-UD"
      }
    },
    {
      "cell_type": "code",
      "source": [
        "import keras\n",
        "from keras.models import Sequential\n",
        "from keras.layers import *\n",
        "from keras import models"
      ],
      "metadata": {
        "id": "FeT5ztV4j5zE"
      },
      "execution_count": 85,
      "outputs": []
    },
    {
      "cell_type": "code",
      "source": [
        "model = Sequential()\n",
        "model.add(Dense(50, input_dim=9, activation='relu'))\n",
        "model.add(Dense(100, activation='relu'))\n",
        "model.add(Dense(50, activation='relu'))\n",
        "model.add(Dense(1, activation='linear'))\n",
        "\n",
        "model.compile(loss='mse', optimizer='adam')"
      ],
      "metadata": {
        "id": "5wD-3xHokPdt"
      },
      "execution_count": 86,
      "outputs": []
    },
    {
      "cell_type": "markdown",
      "source": [
        "## **Train the model**"
      ],
      "metadata": {
        "id": "GWd5N_o-nZio"
      }
    },
    {
      "cell_type": "code",
      "source": [
        "# create inputs and outputs from the data\n",
        "X = training_data_df.drop('total_earnings', axis=1).values\n",
        "X"
      ],
      "metadata": {
        "colab": {
          "base_uri": "https://localhost:8080/"
        },
        "id": "v21wxWmMkwgE",
        "outputId": "c8acb434-33ad-431a-f1c2-0aa2c8e212f6"
      },
      "execution_count": 87,
      "outputs": [
        {
          "output_type": "execute_result",
          "data": {
            "text/plain": [
              "array([[0.5       , 1.        , 0.        , ..., 0.        , 0.        ,\n",
              "        1.        ],\n",
              "       [0.83333333, 0.        , 0.        , ..., 1.        , 0.        ,\n",
              "        0.5       ],\n",
              "       [0.33333333, 0.        , 0.        , ..., 1.        , 0.        ,\n",
              "        0.5       ],\n",
              "       ...,\n",
              "       [0.83333333, 0.        , 1.        , ..., 0.        , 0.        ,\n",
              "        1.        ],\n",
              "       [0.5       , 1.        , 1.        , ..., 0.        , 1.        ,\n",
              "        0.        ],\n",
              "       [0.33333333, 1.        , 0.        , ..., 0.        , 1.        ,\n",
              "        0.5       ]])"
            ]
          },
          "metadata": {},
          "execution_count": 87
        }
      ]
    },
    {
      "cell_type": "code",
      "source": [
        "Y = training_data_df[['total_earnings']].values\n",
        "Y[:5]"
      ],
      "metadata": {
        "colab": {
          "base_uri": "https://localhost:8080/"
        },
        "id": "6ZcIJD23ny4w",
        "outputId": "b7a66d51-44f9-4f46-ee2b-fede0558e6f4"
      },
      "execution_count": 88,
      "outputs": [
        {
          "output_type": "execute_result",
          "data": {
            "text/plain": [
              "array([[0.37471396],\n",
              "       [0.19242528],\n",
              "       [0.11485185],\n",
              "       [0.14245208],\n",
              "       [0.48068243]])"
            ]
          },
          "metadata": {},
          "execution_count": 88
        }
      ]
    },
    {
      "cell_type": "code",
      "source": [
        "model.fit(\n",
        "    X,\n",
        "    Y,\n",
        "    epochs=50,\n",
        "    shuffle=True,\n",
        "    verbose=2\n",
        ")"
      ],
      "metadata": {
        "colab": {
          "base_uri": "https://localhost:8080/"
        },
        "id": "31PwVhihoAgH",
        "outputId": "a3b10bb9-f4d0-45d8-f5d6-94ed83e300bd"
      },
      "execution_count": 89,
      "outputs": [
        {
          "output_type": "stream",
          "name": "stdout",
          "text": [
            "Epoch 1/50\n",
            "32/32 - 0s - loss: 0.0457 - 459ms/epoch - 14ms/step\n",
            "Epoch 2/50\n",
            "32/32 - 0s - loss: 0.0046 - 64ms/epoch - 2ms/step\n",
            "Epoch 3/50\n",
            "32/32 - 0s - loss: 0.0016 - 67ms/epoch - 2ms/step\n",
            "Epoch 4/50\n",
            "32/32 - 0s - loss: 7.7224e-04 - 62ms/epoch - 2ms/step\n",
            "Epoch 5/50\n",
            "32/32 - 0s - loss: 4.4286e-04 - 61ms/epoch - 2ms/step\n",
            "Epoch 6/50\n",
            "32/32 - 0s - loss: 3.0500e-04 - 62ms/epoch - 2ms/step\n",
            "Epoch 7/50\n",
            "32/32 - 0s - loss: 2.0570e-04 - 64ms/epoch - 2ms/step\n",
            "Epoch 8/50\n",
            "32/32 - 0s - loss: 1.5583e-04 - 86ms/epoch - 3ms/step\n",
            "Epoch 9/50\n",
            "32/32 - 0s - loss: 1.1893e-04 - 60ms/epoch - 2ms/step\n",
            "Epoch 10/50\n",
            "32/32 - 0s - loss: 1.0498e-04 - 64ms/epoch - 2ms/step\n",
            "Epoch 11/50\n",
            "32/32 - 0s - loss: 8.3925e-05 - 63ms/epoch - 2ms/step\n",
            "Epoch 12/50\n",
            "32/32 - 0s - loss: 7.1449e-05 - 60ms/epoch - 2ms/step\n",
            "Epoch 13/50\n",
            "32/32 - 0s - loss: 6.9461e-05 - 68ms/epoch - 2ms/step\n",
            "Epoch 14/50\n",
            "32/32 - 0s - loss: 6.0254e-05 - 76ms/epoch - 2ms/step\n",
            "Epoch 15/50\n",
            "32/32 - 0s - loss: 5.2070e-05 - 63ms/epoch - 2ms/step\n",
            "Epoch 16/50\n",
            "32/32 - 0s - loss: 4.6648e-05 - 62ms/epoch - 2ms/step\n",
            "Epoch 17/50\n",
            "32/32 - 0s - loss: 4.4553e-05 - 59ms/epoch - 2ms/step\n",
            "Epoch 18/50\n",
            "32/32 - 0s - loss: 4.0748e-05 - 58ms/epoch - 2ms/step\n",
            "Epoch 19/50\n",
            "32/32 - 0s - loss: 4.1178e-05 - 63ms/epoch - 2ms/step\n",
            "Epoch 20/50\n",
            "32/32 - 0s - loss: 3.8719e-05 - 63ms/epoch - 2ms/step\n",
            "Epoch 21/50\n",
            "32/32 - 0s - loss: 3.6756e-05 - 61ms/epoch - 2ms/step\n",
            "Epoch 22/50\n",
            "32/32 - 0s - loss: 4.2164e-05 - 61ms/epoch - 2ms/step\n",
            "Epoch 23/50\n",
            "32/32 - 0s - loss: 3.8295e-05 - 68ms/epoch - 2ms/step\n",
            "Epoch 24/50\n",
            "32/32 - 0s - loss: 3.7259e-05 - 57ms/epoch - 2ms/step\n",
            "Epoch 25/50\n",
            "32/32 - 0s - loss: 2.9313e-05 - 63ms/epoch - 2ms/step\n",
            "Epoch 26/50\n",
            "32/32 - 0s - loss: 2.7408e-05 - 58ms/epoch - 2ms/step\n",
            "Epoch 27/50\n",
            "32/32 - 0s - loss: 2.9670e-05 - 68ms/epoch - 2ms/step\n",
            "Epoch 28/50\n",
            "32/32 - 0s - loss: 3.4262e-05 - 57ms/epoch - 2ms/step\n",
            "Epoch 29/50\n",
            "32/32 - 0s - loss: 3.1756e-05 - 67ms/epoch - 2ms/step\n",
            "Epoch 30/50\n",
            "32/32 - 0s - loss: 4.2102e-05 - 59ms/epoch - 2ms/step\n",
            "Epoch 31/50\n",
            "32/32 - 0s - loss: 2.6981e-05 - 58ms/epoch - 2ms/step\n",
            "Epoch 32/50\n",
            "32/32 - 0s - loss: 2.6936e-05 - 70ms/epoch - 2ms/step\n",
            "Epoch 33/50\n",
            "32/32 - 0s - loss: 2.7002e-05 - 60ms/epoch - 2ms/step\n",
            "Epoch 34/50\n",
            "32/32 - 0s - loss: 3.8790e-05 - 62ms/epoch - 2ms/step\n",
            "Epoch 35/50\n",
            "32/32 - 0s - loss: 2.6345e-05 - 65ms/epoch - 2ms/step\n",
            "Epoch 36/50\n",
            "32/32 - 0s - loss: 2.6726e-05 - 67ms/epoch - 2ms/step\n",
            "Epoch 37/50\n",
            "32/32 - 0s - loss: 2.4825e-05 - 59ms/epoch - 2ms/step\n",
            "Epoch 38/50\n",
            "32/32 - 0s - loss: 2.7080e-05 - 63ms/epoch - 2ms/step\n",
            "Epoch 39/50\n",
            "32/32 - 0s - loss: 2.8008e-05 - 58ms/epoch - 2ms/step\n",
            "Epoch 40/50\n",
            "32/32 - 0s - loss: 2.1559e-05 - 56ms/epoch - 2ms/step\n",
            "Epoch 41/50\n",
            "32/32 - 0s - loss: 2.1318e-05 - 61ms/epoch - 2ms/step\n",
            "Epoch 42/50\n",
            "32/32 - 0s - loss: 2.6404e-05 - 58ms/epoch - 2ms/step\n",
            "Epoch 43/50\n",
            "32/32 - 0s - loss: 2.0262e-05 - 58ms/epoch - 2ms/step\n",
            "Epoch 44/50\n",
            "32/32 - 0s - loss: 1.9816e-05 - 77ms/epoch - 2ms/step\n",
            "Epoch 45/50\n",
            "32/32 - 0s - loss: 1.9958e-05 - 66ms/epoch - 2ms/step\n",
            "Epoch 46/50\n",
            "32/32 - 0s - loss: 2.1174e-05 - 61ms/epoch - 2ms/step\n",
            "Epoch 47/50\n",
            "32/32 - 0s - loss: 2.0865e-05 - 59ms/epoch - 2ms/step\n",
            "Epoch 48/50\n",
            "32/32 - 0s - loss: 2.6853e-05 - 62ms/epoch - 2ms/step\n",
            "Epoch 49/50\n",
            "32/32 - 0s - loss: 1.9624e-05 - 60ms/epoch - 2ms/step\n",
            "Epoch 50/50\n",
            "32/32 - 0s - loss: 2.3670e-05 - 58ms/epoch - 2ms/step\n"
          ]
        },
        {
          "output_type": "execute_result",
          "data": {
            "text/plain": [
              "<keras.callbacks.History at 0x7f6946488c90>"
            ]
          },
          "metadata": {},
          "execution_count": 89
        }
      ]
    },
    {
      "cell_type": "markdown",
      "source": [
        "## **Testing the model**"
      ],
      "metadata": {
        "id": "47JEIILopNyR"
      }
    },
    {
      "cell_type": "code",
      "source": [
        "X_test = testing_data_df.drop('total_earnings', axis=1).values\n",
        "Y_test = testing_data_df[['total_earnings']].values"
      ],
      "metadata": {
        "id": "P3Vh16POooxE"
      },
      "execution_count": 90,
      "outputs": []
    },
    {
      "cell_type": "code",
      "source": [
        "test_error_rate = model.evaluate(X_test, Y_test, verbose=0)\n",
        "test_error_rate"
      ],
      "metadata": {
        "colab": {
          "base_uri": "https://localhost:8080/"
        },
        "id": "6FoZ086SpF2B",
        "outputId": "98fe365e-720f-43a3-be45-3388d7e66a4d"
      },
      "execution_count": 91,
      "outputs": [
        {
          "output_type": "execute_result",
          "data": {
            "text/plain": [
              "0.0011732922866940498"
            ]
          },
          "metadata": {},
          "execution_count": 91
        }
      ]
    },
    {
      "cell_type": "markdown",
      "source": [
        "## **Predicting using the model**"
      ],
      "metadata": {
        "id": "W6C7WXFUp6dj"
      }
    },
    {
      "cell_type": "code",
      "source": [
        "X_new = pd.read_csv(\"proposed_new_product.csv\")\n",
        "X_new"
      ],
      "metadata": {
        "colab": {
          "base_uri": "https://localhost:8080/",
          "height": 81
        },
        "id": "X0oiexkgpZ2o",
        "outputId": "0a67f932-7de0-4c1a-a13b-25082009b4fd"
      },
      "execution_count": 92,
      "outputs": [
        {
          "output_type": "execute_result",
          "data": {
            "text/plain": [
              "   critic_rating  is_action  is_exclusive_to_us  is_portable  is_role_playing  \\\n",
              "0            0.7        1.0                 1.0          1.0              0.0   \n",
              "\n",
              "   is_sequel  is_sports  suitable_for_kids  unit_price  \n",
              "0        1.0        0.0                1.0         0.8  "
            ],
            "text/html": [
              "\n",
              "  <div id=\"df-58f1f6d0-1c9b-487f-b44e-8e67ed2d923d\">\n",
              "    <div class=\"colab-df-container\">\n",
              "      <div>\n",
              "<style scoped>\n",
              "    .dataframe tbody tr th:only-of-type {\n",
              "        vertical-align: middle;\n",
              "    }\n",
              "\n",
              "    .dataframe tbody tr th {\n",
              "        vertical-align: top;\n",
              "    }\n",
              "\n",
              "    .dataframe thead th {\n",
              "        text-align: right;\n",
              "    }\n",
              "</style>\n",
              "<table border=\"1\" class=\"dataframe\">\n",
              "  <thead>\n",
              "    <tr style=\"text-align: right;\">\n",
              "      <th></th>\n",
              "      <th>critic_rating</th>\n",
              "      <th>is_action</th>\n",
              "      <th>is_exclusive_to_us</th>\n",
              "      <th>is_portable</th>\n",
              "      <th>is_role_playing</th>\n",
              "      <th>is_sequel</th>\n",
              "      <th>is_sports</th>\n",
              "      <th>suitable_for_kids</th>\n",
              "      <th>unit_price</th>\n",
              "    </tr>\n",
              "  </thead>\n",
              "  <tbody>\n",
              "    <tr>\n",
              "      <th>0</th>\n",
              "      <td>0.7</td>\n",
              "      <td>1.0</td>\n",
              "      <td>1.0</td>\n",
              "      <td>1.0</td>\n",
              "      <td>0.0</td>\n",
              "      <td>1.0</td>\n",
              "      <td>0.0</td>\n",
              "      <td>1.0</td>\n",
              "      <td>0.8</td>\n",
              "    </tr>\n",
              "  </tbody>\n",
              "</table>\n",
              "</div>\n",
              "      <button class=\"colab-df-convert\" onclick=\"convertToInteractive('df-58f1f6d0-1c9b-487f-b44e-8e67ed2d923d')\"\n",
              "              title=\"Convert this dataframe to an interactive table.\"\n",
              "              style=\"display:none;\">\n",
              "        \n",
              "  <svg xmlns=\"http://www.w3.org/2000/svg\" height=\"24px\"viewBox=\"0 0 24 24\"\n",
              "       width=\"24px\">\n",
              "    <path d=\"M0 0h24v24H0V0z\" fill=\"none\"/>\n",
              "    <path d=\"M18.56 5.44l.94 2.06.94-2.06 2.06-.94-2.06-.94-.94-2.06-.94 2.06-2.06.94zm-11 1L8.5 8.5l.94-2.06 2.06-.94-2.06-.94L8.5 2.5l-.94 2.06-2.06.94zm10 10l.94 2.06.94-2.06 2.06-.94-2.06-.94-.94-2.06-.94 2.06-2.06.94z\"/><path d=\"M17.41 7.96l-1.37-1.37c-.4-.4-.92-.59-1.43-.59-.52 0-1.04.2-1.43.59L10.3 9.45l-7.72 7.72c-.78.78-.78 2.05 0 2.83L4 21.41c.39.39.9.59 1.41.59.51 0 1.02-.2 1.41-.59l7.78-7.78 2.81-2.81c.8-.78.8-2.07 0-2.86zM5.41 20L4 18.59l7.72-7.72 1.47 1.35L5.41 20z\"/>\n",
              "  </svg>\n",
              "      </button>\n",
              "      \n",
              "  <style>\n",
              "    .colab-df-container {\n",
              "      display:flex;\n",
              "      flex-wrap:wrap;\n",
              "      gap: 12px;\n",
              "    }\n",
              "\n",
              "    .colab-df-convert {\n",
              "      background-color: #E8F0FE;\n",
              "      border: none;\n",
              "      border-radius: 50%;\n",
              "      cursor: pointer;\n",
              "      display: none;\n",
              "      fill: #1967D2;\n",
              "      height: 32px;\n",
              "      padding: 0 0 0 0;\n",
              "      width: 32px;\n",
              "    }\n",
              "\n",
              "    .colab-df-convert:hover {\n",
              "      background-color: #E2EBFA;\n",
              "      box-shadow: 0px 1px 2px rgba(60, 64, 67, 0.3), 0px 1px 3px 1px rgba(60, 64, 67, 0.15);\n",
              "      fill: #174EA6;\n",
              "    }\n",
              "\n",
              "    [theme=dark] .colab-df-convert {\n",
              "      background-color: #3B4455;\n",
              "      fill: #D2E3FC;\n",
              "    }\n",
              "\n",
              "    [theme=dark] .colab-df-convert:hover {\n",
              "      background-color: #434B5C;\n",
              "      box-shadow: 0px 1px 3px 1px rgba(0, 0, 0, 0.15);\n",
              "      filter: drop-shadow(0px 1px 2px rgba(0, 0, 0, 0.3));\n",
              "      fill: #FFFFFF;\n",
              "    }\n",
              "  </style>\n",
              "\n",
              "      <script>\n",
              "        const buttonEl =\n",
              "          document.querySelector('#df-58f1f6d0-1c9b-487f-b44e-8e67ed2d923d button.colab-df-convert');\n",
              "        buttonEl.style.display =\n",
              "          google.colab.kernel.accessAllowed ? 'block' : 'none';\n",
              "\n",
              "        async function convertToInteractive(key) {\n",
              "          const element = document.querySelector('#df-58f1f6d0-1c9b-487f-b44e-8e67ed2d923d');\n",
              "          const dataTable =\n",
              "            await google.colab.kernel.invokeFunction('convertToInteractive',\n",
              "                                                     [key], {});\n",
              "          if (!dataTable) return;\n",
              "\n",
              "          const docLinkHtml = 'Like what you see? Visit the ' +\n",
              "            '<a target=\"_blank\" href=https://colab.research.google.com/notebooks/data_table.ipynb>data table notebook</a>'\n",
              "            + ' to learn more about interactive tables.';\n",
              "          element.innerHTML = '';\n",
              "          dataTable['output_type'] = 'display_data';\n",
              "          await google.colab.output.renderOutput(dataTable, element);\n",
              "          const docLink = document.createElement('div');\n",
              "          docLink.innerHTML = docLinkHtml;\n",
              "          element.appendChild(docLink);\n",
              "        }\n",
              "      </script>\n",
              "    </div>\n",
              "  </div>\n",
              "  "
            ]
          },
          "metadata": {},
          "execution_count": 92
        }
      ]
    },
    {
      "cell_type": "code",
      "source": [
        "earning = model.predict(X)\n",
        "earning[0][0]"
      ],
      "metadata": {
        "colab": {
          "base_uri": "https://localhost:8080/"
        },
        "id": "TIWqeMK-qH3e",
        "outputId": "2e6d1860-87fc-4242-cbc3-5731a661c9ea"
      },
      "execution_count": 93,
      "outputs": [
        {
          "output_type": "execute_result",
          "data": {
            "text/plain": [
              "0.3784256"
            ]
          },
          "metadata": {},
          "execution_count": 93
        }
      ]
    },
    {
      "cell_type": "markdown",
      "source": [
        "To get the actual price scale back "
      ],
      "metadata": {
        "id": "PDkk6rGyrLtf"
      }
    },
    {
      "cell_type": "markdown",
      "source": [
        "## **Saving and loading models**"
      ],
      "metadata": {
        "id": "hOeut0MGr1x4"
      }
    },
    {
      "cell_type": "code",
      "source": [
        "from tensorflow.keras.models import load_model"
      ],
      "metadata": {
        "id": "tnYPEjTis5v2"
      },
      "execution_count": 94,
      "outputs": []
    },
    {
      "cell_type": "code",
      "source": [
        "model.save(\"trained_model.h5\") # both the structure and weights are saved"
      ],
      "metadata": {
        "id": "zZniM5PDrBq7"
      },
      "execution_count": 95,
      "outputs": []
    },
    {
      "cell_type": "code",
      "source": [
        "model1 = load_model(\"trained_model.h5\")"
      ],
      "metadata": {
        "id": "4G5hsij0sMKd"
      },
      "execution_count": 96,
      "outputs": []
    },
    {
      "cell_type": "code",
      "source": [
        "model1.predict(X_new)[0][0]"
      ],
      "metadata": {
        "colab": {
          "base_uri": "https://localhost:8080/"
        },
        "id": "uDaeFNtZsfvt",
        "outputId": "55e53730-57a3-4e3a-9de4-93eeae952fa2"
      },
      "execution_count": 97,
      "outputs": [
        {
          "output_type": "execute_result",
          "data": {
            "text/plain": [
              "0.8589165"
            ]
          },
          "metadata": {},
          "execution_count": 97
        }
      ]
    }
  ]
}